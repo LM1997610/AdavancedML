{
  "nbformat": 4,
  "nbformat_minor": 0,
  "metadata": {
    "colab": {
      "provenance": [],
      "gpuType": "T4",
      "toc_visible": true,
      "include_colab_link": true
    },
    "kernelspec": {
      "name": "python3",
      "display_name": "Python 3"
    },
    "language_info": {
      "name": "python"
    },
    "accelerator": "GPU"
  },
  "cells": [
    {
      "cell_type": "markdown",
      "metadata": {
        "id": "view-in-github",
        "colab_type": "text"
      },
      "source": [
        "<a href=\"https://colab.research.google.com/github/LM1997610/AdavancedML/blob/main/AML_project/training_script.ipynb\" target=\"_parent\"><img src=\"https://colab.research.google.com/assets/colab-badge.svg\" alt=\"Open In Colab\"/></a>"
      ]
    },
    {
      "cell_type": "code",
      "execution_count": 4,
      "metadata": {
        "id": "_nJZ0RBos3pk",
        "colab": {
          "base_uri": "https://localhost:8080/"
        },
        "outputId": "e2e576a9-d334-41fc-d935-b00828bb4fb1"
      },
      "outputs": [
        {
          "output_type": "stream",
          "name": "stdout",
          "text": [
            "Downloading...\n",
            "From: https://drive.google.com/uc?id=10p8sbqTj8kNFDqjJ8xZgCVDJaEzKJ3Xr\n",
            "To: /content/my_MAT.zip\n",
            "100% 1.96G/1.96G [00:16<00:00, 122MB/s]\n"
          ]
        }
      ],
      "source": [
        "! gdown 10p8sbqTj8kNFDqjJ8xZgCVDJaEzKJ3Xr\n",
        "! unzip -q my_MAT.zip\n",
        "! rm my_MAT.zip"
      ]
    },
    {
      "cell_type": "code",
      "source": [
        "%cd my_MAT"
      ],
      "metadata": {
        "id": "J0wmEN2fs5ye",
        "colab": {
          "base_uri": "https://localhost:8080/"
        },
        "outputId": "02b5a705-2dee-4b39-ab4d-6fa797e1afeb"
      },
      "execution_count": null,
      "outputs": [
        {
          "output_type": "stream",
          "name": "stdout",
          "text": [
            "/content/my_MAT\n"
          ]
        }
      ]
    },
    {
      "cell_type": "markdown",
      "source": [
        "**This MAT folder** was cloned from the [official repository](https://github.com/fenglinglwb/MAT).\\\n",
        "A series  of unwanted bugs have been fixed and specific folders have been added:\n",
        "- The model has been included in a directory named `'/pretrained_dir'`.\n",
        "- Folder named '`/train_val_test_split'` was created and added.\n",
        "\n",
        "Details in '**data_preprocessing.ipynb**'.\n"
      ],
      "metadata": {
        "id": "H6_qfufxcG7h"
      }
    },
    {
      "cell_type": "code",
      "source": [
        "# install packages\n",
        "\n",
        "! pip install -q -r requirements.txt -f https://download.pytorch.org/whl/torch_stable.html\n",
        "! pip install -q lpips"
      ],
      "metadata": {
        "id": "_I5zrNWds7rr",
        "colab": {
          "base_uri": "https://localhost:8080/"
        },
        "outputId": "0495bdd8-0d43-4010-dd10-965b6d4403ef"
      },
      "execution_count": null,
      "outputs": [
        {
          "output_type": "stream",
          "name": "stdout",
          "text": [
            "\u001b[2K     \u001b[90m━━━━━━━━━━━━━━━━━━━━━━━━━━━━━━━━━━━━━━━━\u001b[0m \u001b[32m205.9/205.9 kB\u001b[0m \u001b[31m1.8 MB/s\u001b[0m eta \u001b[36m0:00:00\u001b[0m\n",
            "\u001b[2K     \u001b[90m━━━━━━━━━━━━━━━━━━━━━━━━━━━━━━━━━━━━━━━━\u001b[0m \u001b[32m307.2/307.2 kB\u001b[0m \u001b[31m7.0 MB/s\u001b[0m eta \u001b[36m0:00:00\u001b[0m\n",
            "\u001b[2K     \u001b[90m━━━━━━━━━━━━━━━━━━━━━━━━━━━━━━━━━━━━━━━━\u001b[0m \u001b[32m26.9/26.9 MB\u001b[0m \u001b[31m14.3 MB/s\u001b[0m eta \u001b[36m0:00:00\u001b[0m\n",
            "\u001b[2K     \u001b[90m━━━━━━━━━━━━━━━━━━━━━━━━━━━━━━━━━━━━━━━━\u001b[0m \u001b[32m2.2/2.2 MB\u001b[0m \u001b[31m65.7 MB/s\u001b[0m eta \u001b[36m0:00:00\u001b[0m\n",
            "\u001b[2K     \u001b[90m━━━━━━━━━━━━━━━━━━━━━━━━━━━━━━━━━━━━━━━━\u001b[0m \u001b[32m53.8/53.8 kB\u001b[0m \u001b[31m949.3 kB/s\u001b[0m eta \u001b[36m0:00:00\u001b[0m\n",
            "\u001b[?25h"
          ]
        }
      ]
    },
    {
      "cell_type": "markdown",
      "source": [
        "### Train on portrait dataset:"
      ],
      "metadata": {
        "id": "ySj47l21tMn9"
      }
    },
    {
      "cell_type": "code",
      "source": [
        "! python -W \"ignore\" train.py \\\n",
        "    --outdir=output_path \\\n",
        "    --kimg=16 \\\n",
        "    --snap=2 \\\n",
        "    --gpus=1 \\\n",
        "    --batch=8 \\\n",
        "    --metrics=our_fid,our_psnr \\\n",
        "    --data=train_val_test_split/train.zip \\\n",
        "    --data_val=train_val_test_split/validation.zip \\\n",
        "    --dataloader=datasets.dataset_256.ImageFolderMaskDataset \\\n",
        "    --mirror=True \\\n",
        "    --cond=False \\\n",
        "    --cfg=auto \\\n",
        "    --resume=pretrained_dir/CelebA-HQ_256.pkl \\\n",
        "    --aug=ada \\\n",
        "    --generator=networks.mat.Generator \\\n",
        "    --discriminator=networks.mat.Discriminator \\\n",
        "    --loss=losses.loss.TwoStageLoss \\\n",
        "    --pr=0.1 \\\n",
        "    --pl=False \\\n",
        "    --truncation=0.5 \\\n",
        "    --style_mix=0.5 \\\n",
        "    --ema=10 \\\n",
        "    --lr=0.001"
      ],
      "metadata": {
        "id": "azYGDZ25tB03",
        "colab": {
          "base_uri": "https://localhost:8080/"
        },
        "outputId": "a85030a4-49ef-444b-ca9a-d6d25f54a154"
      },
      "execution_count": null,
      "outputs": [
        {
          "output_type": "stream",
          "name": "stdout",
          "text": [
            "Start\n",
            "\n",
            "Training options:\n",
            "{\n",
            "  \"num_gpus\": 1,\n",
            "  \"image_snapshot_ticks\": 2,\n",
            "  \"network_snapshot_ticks\": 2,\n",
            "  \"metrics\": [\n",
            "    \"our_fid\",\n",
            "    \"our_psnr\"\n",
            "  ],\n",
            "  \"random_seed\": 0,\n",
            "  \"training_set_kwargs\": {\n",
            "    \"class_name\": \"datasets.dataset_256.ImageFolderMaskDataset\",\n",
            "    \"path\": \"train_val_test_split/train.zip\",\n",
            "    \"use_labels\": false,\n",
            "    \"max_size\": 5957,\n",
            "    \"xflip\": true,\n",
            "    \"resolution\": 256\n",
            "  },\n",
            "  \"val_set_kwargs\": {\n",
            "    \"class_name\": \"datasets.dataset_256.ImageFolderMaskDataset\",\n",
            "    \"path\": \"train_val_test_split/validation.zip\",\n",
            "    \"use_labels\": false,\n",
            "    \"max_size\": 700,\n",
            "    \"xflip\": false,\n",
            "    \"resolution\": 256\n",
            "  },\n",
            "  \"data_loader_kwargs\": {\n",
            "    \"pin_memory\": true,\n",
            "    \"num_workers\": 3,\n",
            "    \"prefetch_factor\": 2\n",
            "  },\n",
            "  \"G_kwargs\": {\n",
            "    \"class_name\": \"networks.mat.Generator\",\n",
            "    \"z_dim\": 512,\n",
            "    \"w_dim\": 512,\n",
            "    \"mapping_kwargs\": {\n",
            "      \"num_layers\": 2\n",
            "    },\n",
            "    \"synthesis_kwargs\": {\n",
            "      \"channel_base\": 16384,\n",
            "      \"channel_max\": 512\n",
            "    }\n",
            "  },\n",
            "  \"D_kwargs\": {\n",
            "    \"class_name\": \"networks.mat.Discriminator\",\n",
            "    \"channel_base\": 16384,\n",
            "    \"channel_max\": 512,\n",
            "    \"mbstd_group_size\": 4\n",
            "  },\n",
            "  \"G_opt_kwargs\": {\n",
            "    \"class_name\": \"torch.optim.Adam\",\n",
            "    \"lr\": 0.001,\n",
            "    \"betas\": [\n",
            "      0,\n",
            "      0.99\n",
            "    ],\n",
            "    \"eps\": 1e-08\n",
            "  },\n",
            "  \"D_opt_kwargs\": {\n",
            "    \"class_name\": \"torch.optim.Adam\",\n",
            "    \"lr\": 0.001,\n",
            "    \"betas\": [\n",
            "      0,\n",
            "      0.99\n",
            "    ],\n",
            "    \"eps\": 1e-08\n",
            "  },\n",
            "  \"loss_kwargs\": {\n",
            "    \"class_name\": \"losses.loss.TwoStageLoss\",\n",
            "    \"r1_gamma\": 0.8192,\n",
            "    \"pcp_ratio\": 0.1,\n",
            "    \"pl_weight\": 0,\n",
            "    \"truncation_psi\": 0.5,\n",
            "    \"style_mixing_prob\": 0.5\n",
            "  },\n",
            "  \"total_kimg\": 16,\n",
            "  \"batch_size\": 8,\n",
            "  \"batch_gpu\": 8,\n",
            "  \"ema_kimg\": 10,\n",
            "  \"ema_rampup\": null,\n",
            "  \"ada_target\": 0.6,\n",
            "  \"augment_kwargs\": {\n",
            "    \"class_name\": \"training.augment.AugmentPipe\",\n",
            "    \"xflip\": 1,\n",
            "    \"rotate90\": 1,\n",
            "    \"xint\": 1,\n",
            "    \"scale\": 1,\n",
            "    \"rotate\": 1,\n",
            "    \"aniso\": 1,\n",
            "    \"xfrac\": 1,\n",
            "    \"brightness\": 1,\n",
            "    \"contrast\": 1,\n",
            "    \"lumaflip\": 1,\n",
            "    \"hue\": 1,\n",
            "    \"saturation\": 1\n",
            "  },\n",
            "  \"resume_pkl\": \"pretrained_dir/network-snapshot-000016.pkl\",\n",
            "  \"ada_kimg\": 100,\n",
            "  \"run_dir\": \"output_path/00000-train-mirror-auto1-mat-lr0.001-TwoStageLoss-pr0.1-nopl-kimg16-batch8-tc0.5-sm0.5-ema10-ada-resumecustom\"\n",
            "}\n",
            "\n",
            "Output directory:   output_path/00000-train-mirror-auto1-mat-lr0.001-TwoStageLoss-pr0.1-nopl-kimg16-batch8-tc0.5-sm0.5-ema10-ada-resumecustom\n",
            "Training data:      train_val_test_split/train.zip\n",
            "Training duration:  16 kimg\n",
            "Number of GPUs:     1\n",
            "Number of images:   5957\n",
            "Image resolution:   256\n",
            "Conditional model:  False\n",
            "Dataset x-flips:    True\n",
            "\n",
            "Validation options:\n",
            "Validation data:      train_val_test_split/validation.zip\n",
            "Number of images:   700\n",
            "Image resolution:   256\n",
            "Conditional model:  False\n",
            "Dataset x-flips:    False\n",
            "\n",
            "Creating output directory...\n",
            "Launching processes...\n",
            "Loading training set...\n",
            "\n",
            "Num images:  11914\n",
            "Image shape: [3, 256, 256]\n",
            "Label shape: [0]\n",
            "\n",
            "Constructing networks...\n",
            "Resuming from \"pretrained_dir/network-snapshot-000016.pkl\"\n",
            "Setting up PyTorch plugin \"bias_act_plugin\"... Done.\n",
            "Setting up PyTorch plugin \"upfirdn2d_plugin\"... Done.\n",
            "\n",
            "Generator                            Parameters  Buffers  Output shape        Datatype\n",
            "---                                  ---         ---      ---                 ---     \n",
            "mapping.fc0                          262656      -        [8, 512]            float32 \n",
            "mapping.fc1                          262656      -        [8, 512]            float32 \n",
            "mapping                              -           512      [8, 10, 512]        float32 \n",
            "synthesis.first_stage.conv_first:0   6660        16       [8, 180, 256, 256]  float32 \n",
            "synthesis.first_stage.conv_first:1   -           -        [8, 180, 256, 256]  float32 \n",
            "synthesis.first_stage.enc_conv.0:0   291780      16       [8, 180, 128, 128]  float32 \n",
            "synthesis.first_stage.enc_conv.0:1   -           -        [8, 180, 128, 128]  float32 \n",
            "synthesis.first_stage.enc_conv.1:0   291780      16       [8, 180, 64, 64]    float32 \n",
            "synthesis.first_stage.enc_conv.1:1   -           -        [8, 180, 64, 64]    float32 \n",
            "synthesis.first_stage.tran.0:0       942660      262160   [8, 4096, 180]      float32 \n",
            "synthesis.first_stage.tran.0:1       -           -        [8, 4096, 180]      float32 \n",
            "synthesis.first_stage.tran.1:0       1559880     262176   [8, 1024, 180]      float32 \n",
            "synthesis.first_stage.tran.1:1       -           -        [8, 1024, 180]      float32 \n",
            "synthesis.first_stage.tran.2         1885320     32       [8, 256, 180]       float32 \n",
            "synthesis.first_stage.ws_style       92340       -        [8, 180]            float32 \n",
            "synthesis.first_stage.to_square      46336       -        [8, 256]            float32 \n",
            "synthesis.first_stage.down_conv      1167120     64       [8, 180, 1, 1]      float32 \n",
            "synthesis.first_stage.to_style       65160       -        [8, 360]            float32 \n",
            "synthesis.first_stage.tran.3         1559880     262176   [8, 1024, 180]      float32 \n",
            "synthesis.first_stage.tran.4         1234440     262176   [8, 4096, 180]      float32 \n",
            "synthesis.first_stage.dec_conv.0:0   876243      64       [8, 180, 128, 128]  float32 \n",
            "synthesis.first_stage.dec_conv.0:1   -           -        [8, 180, 128, 128]  float32 \n",
            "synthesis.first_stage.dec_conv.1:0   876243      64       [8, 180, 256, 256]  float32 \n",
            "synthesis.first_stage.dec_conv.1:1   -           -        [8, 180, 256, 256]  float32 \n",
            "synthesis.first_stage                -           -        [8, 3, 256, 256]    float32 \n",
            "synthesis.enc.EncConv_Block_256x256  148608      32       [8, 128, 256, 256]  float32 \n",
            "synthesis.enc.EncConv_Block_128x128  885248      32       [8, 256, 128, 128]  float32 \n",
            "synthesis.enc.EncConv_Block_64x64    3539968     32       [8, 512, 64, 64]    float32 \n",
            "synthesis.enc.EncConv_Block_32x32    4719616     32       [8, 512, 32, 32]    float32 \n",
            "synthesis.enc.EncConv_Block_16x16    4719616     32       [8, 512, 16, 16]    float32 \n",
            "synthesis.to_square                  131328      -        [8, 256]            float32 \n",
            "synthesis.to_style.conv              7079424     48       [8, 512, 2, 2]      float32 \n",
            "synthesis.to_style.pool              -           -        [8, 512, 1, 1]      float32 \n",
            "synthesis.to_style.fc                525312      -        [8, 1024]           float32 \n",
            "synthesis.dec.Dec_16x16:0            6295044     320      [8, 512, 16, 16]    float32 \n",
            "synthesis.dec.Dec_16x16:1            -           -        [8, 512, 16, 16]    float32 \n",
            "synthesis.dec.Dec_32x32:0            7081989     2112     [8, 512, 32, 32]    float32 \n",
            "synthesis.dec.Dec_32x32:1            -           -        [8, 512, 32, 32]    float32 \n",
            "synthesis.dec.Dec_64x64:0            7081989     8256     [8, 512, 64, 64]    float32 \n",
            "synthesis.dec.Dec_64x64:1            -           -        [8, 512, 64, 64]    float32 \n",
            "synthesis.dec.Dec_128x128:0          3344645     32832    [8, 256, 128, 128]  float32 \n",
            "synthesis.dec.Dec_128x128:1          -           -        [8, 256, 128, 128]  float32 \n",
            "synthesis.dec.Dec_256x256:0          1229957     131136   [8, 128, 256, 256]  float32 \n",
            "synthesis.dec.Dec_256x256:1          -           -        [8, 128, 256, 256]  float32 \n",
            "synthesis                            -           -        [8, 3, 256, 256]    float32 \n",
            "---                                  ---         ---      ---                 ---     \n",
            "Total                                58203898    1224336  -                   -       \n",
            "\n",
            "\n",
            "Discriminator     Parameters  Buffers  Output shape        Datatype\n",
            "---               ---         ---      ---                 ---     \n",
            "Dis.0.conv        640         16       [8, 128, 256, 256]  float32 \n",
            "Dis.1.skip        32768       16       [8, 256, 128, 128]  float32 \n",
            "Dis.1.conv0       147584      16       [8, 128, 256, 256]  float32 \n",
            "Dis.1.conv1       295168      16       [8, 256, 128, 128]  float32 \n",
            "Dis.1             -           -        [8, 256, 128, 128]  float32 \n",
            "Dis.2.skip        131072      16       [8, 512, 64, 64]    float32 \n",
            "Dis.2.conv0       590080      16       [8, 256, 128, 128]  float32 \n",
            "Dis.2.conv1       1180160     16       [8, 512, 64, 64]    float32 \n",
            "Dis.2             -           -        [8, 512, 64, 64]    float32 \n",
            "Dis.3.skip        262144      16       [8, 512, 32, 32]    float32 \n",
            "Dis.3.conv0       2359808     16       [8, 512, 64, 64]    float32 \n",
            "Dis.3.conv1       2359808     16       [8, 512, 32, 32]    float32 \n",
            "Dis.3             -           -        [8, 512, 32, 32]    float32 \n",
            "Dis.4.skip        262144      16       [8, 512, 16, 16]    float32 \n",
            "Dis.4.conv0       2359808     16       [8, 512, 32, 32]    float32 \n",
            "Dis.4.conv1       2359808     16       [8, 512, 16, 16]    float32 \n",
            "Dis.4             -           -        [8, 512, 16, 16]    float32 \n",
            "Dis.5.skip        262144      16       [8, 512, 8, 8]      float32 \n",
            "Dis.5.conv0       2359808     16       [8, 512, 16, 16]    float32 \n",
            "Dis.5.conv1       2359808     16       [8, 512, 8, 8]      float32 \n",
            "Dis.5             -           -        [8, 512, 8, 8]      float32 \n",
            "Dis.6.skip        262144      16       [8, 512, 4, 4]      float32 \n",
            "Dis.6.conv0       2359808     16       [8, 512, 8, 8]      float32 \n",
            "Dis.6.conv1       2359808     16       [8, 512, 4, 4]      float32 \n",
            "Dis.6             -           -        [8, 512, 4, 4]      float32 \n",
            "Dis.7             -           -        [8, 513, 4, 4]      float32 \n",
            "Dis.8             2364416     16       [8, 512, 4, 4]      float32 \n",
            "fc0               4194816     -        [8, 512]            float32 \n",
            "fc1               513         -        [8, 1]              float32 \n",
            "Dis_stg1.0.conv   320         16       [8, 64, 256, 256]   float32 \n",
            "Dis_stg1.1.skip   8192        16       [8, 128, 128, 128]  float32 \n",
            "Dis_stg1.1.conv0  36928       16       [8, 64, 256, 256]   float32 \n",
            "Dis_stg1.1.conv1  73856       16       [8, 128, 128, 128]  float32 \n",
            "Dis_stg1.1        -           -        [8, 128, 128, 128]  float32 \n",
            "Dis_stg1.2.skip   32768       16       [8, 256, 64, 64]    float32 \n",
            "Dis_stg1.2.conv0  147584      16       [8, 128, 128, 128]  float32 \n",
            "Dis_stg1.2.conv1  295168      16       [8, 256, 64, 64]    float32 \n",
            "Dis_stg1.2        -           -        [8, 256, 64, 64]    float32 \n",
            "Dis_stg1.3.skip   65536       16       [8, 256, 32, 32]    float32 \n",
            "Dis_stg1.3.conv0  590080      16       [8, 256, 64, 64]    float32 \n",
            "Dis_stg1.3.conv1  590080      16       [8, 256, 32, 32]    float32 \n",
            "Dis_stg1.3        -           -        [8, 256, 32, 32]    float32 \n",
            "Dis_stg1.4.skip   65536       16       [8, 256, 16, 16]    float32 \n",
            "Dis_stg1.4.conv0  590080      16       [8, 256, 32, 32]    float32 \n",
            "Dis_stg1.4.conv1  590080      16       [8, 256, 16, 16]    float32 \n",
            "Dis_stg1.4        -           -        [8, 256, 16, 16]    float32 \n",
            "Dis_stg1.5.skip   65536       16       [8, 256, 8, 8]      float32 \n",
            "Dis_stg1.5.conv0  590080      16       [8, 256, 16, 16]    float32 \n",
            "Dis_stg1.5.conv1  590080      16       [8, 256, 8, 8]      float32 \n",
            "Dis_stg1.5        -           -        [8, 256, 8, 8]      float32 \n",
            "Dis_stg1.6.skip   65536       16       [8, 256, 4, 4]      float32 \n",
            "Dis_stg1.6.conv0  590080      16       [8, 256, 8, 8]      float32 \n",
            "Dis_stg1.6.conv1  590080      16       [8, 256, 4, 4]      float32 \n",
            "Dis_stg1.6        -           -        [8, 256, 4, 4]      float32 \n",
            "Dis_stg1.7        -           -        [8, 257, 4, 4]      float32 \n",
            "Dis_stg1.8        592384      16       [8, 256, 4, 4]      float32 \n",
            "fc0_stg1          1048832     -        [8, 256]            float32 \n",
            "fc1_stg1          257         -        [8, 1]              float32 \n",
            "---               ---         ---      ---                 ---     \n",
            "Total             36083330    640      -                   -       \n",
            "\n",
            "Setting up augmentation...\n",
            "Distributing across 1 GPUs...\n",
            "Setting up training phases...\n",
            "Downloading: \"https://download.pytorch.org/models/vgg19-dcbb9e9d.pth\" to /root/.cache/torch/hub/checkpoints/vgg19-dcbb9e9d.pth\n",
            "100%|##########| 548M/548M [00:03<00:00, 160MB/s]\n",
            "Exporting sample images...\n",
            "Initializing logs...\n",
            "2023-12-21 18:47:49.083509: E external/local_xla/xla/stream_executor/cuda/cuda_dnn.cc:9261] Unable to register cuDNN factory: Attempting to register factory for plugin cuDNN when one has already been registered\n",
            "2023-12-21 18:47:49.083567: E external/local_xla/xla/stream_executor/cuda/cuda_fft.cc:607] Unable to register cuFFT factory: Attempting to register factory for plugin cuFFT when one has already been registered\n",
            "2023-12-21 18:47:49.084927: E external/local_xla/xla/stream_executor/cuda/cuda_blas.cc:1515] Unable to register cuBLAS factory: Attempting to register factory for plugin cuBLAS when one has already been registered\n",
            "2023-12-21 18:47:50.338982: W tensorflow/compiler/tf2tensorrt/utils/py_utils.cc:38] TF-TRT Warning: Could not find TensorRT\n",
            "Training for 16 kimg...\n",
            "\n",
            "tick 0     kimg 0.0      time 4m 50s       sec/tick 98.4    sec/kimg 12296.84 maintenance 192.0  cpumem 3.48   gpumem 14.35  augment 0.000\n",
            "Evaluating metrics...\n",
            "{\"results\": {\"our_fid\": -2.484628684844603e+71}, \"metric\": \"our_fid\", \"total_time\": 152.85929560661316, \"total_time_str\": \"2m 33s\", \"num_gpus\": 1, \"snapshot_pkl\": \"network-snapshot-000000.pkl\", \"timestamp\": 1703184777.3893237}\n",
            "Number of samples: 700\n",
            "{\"results\": {\"psnr\": 23.867720424107144, \"ssim\": 0.7887946428571428, \"l1\": 0.034598437717982704}, \"metric\": \"our_psnr\", \"total_time\": 110.54064512252808, \"total_time_str\": \"1m 51s\", \"num_gpus\": 1, \"snapshot_pkl\": \"network-snapshot-000000.pkl\", \"timestamp\": 1703184887.9312234}\n",
            "tick 1     kimg 4.0      time 46m 56s      sec/tick 2207.2  sec/kimg 551.80  maintenance 317.9  cpumem 4.76   gpumem 14.20  augment 0.000\n",
            "tick 2     kimg 8.0      time 1h 23m 41s   sec/tick 2205.2  sec/kimg 551.30  maintenance 0.3    cpumem 4.76   gpumem 14.20  augment 0.000\n",
            "Evaluating metrics...\n",
            "{\"results\": {\"our_fid\": 1.225996432692711e+56}, \"metric\": \"our_fid\", \"total_time\": 86.96357774734497, \"total_time_str\": \"1m 27s\", \"num_gpus\": 1, \"snapshot_pkl\": \"network-snapshot-000008.pkl\", \"timestamp\": 1703189442.988525}\n",
            "Number of samples: 700\n",
            "{\"results\": {\"psnr\": 23.852332589285716, \"ssim\": 0.7864767020089286, \"l1\": 0.034364640372140064}, \"metric\": \"our_psnr\", \"total_time\": 107.92233419418335, \"total_time_str\": \"1m 48s\", \"num_gpus\": 1, \"snapshot_pkl\": \"network-snapshot-000008.pkl\", \"timestamp\": 1703189550.9143944}\n",
            "tick 3     kimg 12.0     time 2h 04m 37s   sec/tick 2205.3  sec/kimg 551.32  maintenance 250.3  cpumem 4.75   gpumem 14.20  augment 0.000\n",
            "tick 4     kimg 16.0     time 2h 41m 20s   sec/tick 2203.0  sec/kimg 551.86  maintenance 0.3    cpumem 4.75   gpumem 14.20  augment 0.000\n",
            "Evaluating metrics...\n",
            "{\"results\": {\"our_fid\": -5.897488333439202e+67}, \"metric\": \"our_fid\", \"total_time\": 87.91615414619446, \"total_time_str\": \"1m 28s\", \"num_gpus\": 1, \"snapshot_pkl\": \"network-snapshot-000016.pkl\", \"timestamp\": 1703194105.0123541}\n",
            "Number of samples: 700\n",
            "{\"results\": {\"psnr\": 24.01275948660714, \"ssim\": 0.7907017299107143, \"l1\": 0.03410686220441546}, \"metric\": \"our_psnr\", \"total_time\": 110.01873803138733, \"total_time_str\": \"1m 50s\", \"num_gpus\": 1, \"snapshot_pkl\": \"network-snapshot-000016.pkl\", \"timestamp\": 1703194215.0315309}\n",
            "\n",
            "Exiting...\n"
          ]
        }
      ]
    },
    {
      "cell_type": "code",
      "source": [],
      "metadata": {
        "id": "O8Cx0eWI5LlJ"
      },
      "execution_count": null,
      "outputs": []
    },
    {
      "cell_type": "markdown",
      "source": [
        "### Zip output and save it\n",
        "\n",
        "The generated `network-snapshot-000016.pkl` file in the output_path directory will serve as input for a subsequent training cycle.\\\n",
        "We train the model for 9 hours in total, processing 32 *kimg* in 8 *tick* (since we have 1 *gpu*)"
      ],
      "metadata": {
        "id": "lggDjn9PYLlQ"
      }
    },
    {
      "cell_type": "code",
      "source": [
        "# -------------------------------\n",
        "from google.colab import drive\n",
        "drive.mount('/content/gdrive')\n",
        "# -------------------------------"
      ],
      "metadata": {
        "id": "Jd2aHOCttHGJ"
      },
      "execution_count": 3,
      "outputs": []
    },
    {
      "cell_type": "code",
      "source": [
        "! zip -q -r /content/run_0.zip output_path\n",
        "! cp /content/run_0.zip /content/gdrive/MyDrive/AML_project"
      ],
      "metadata": {
        "id": "qMcezUrcm8WJ"
      },
      "execution_count": 2,
      "outputs": []
    },
    {
      "cell_type": "code",
      "source": [],
      "metadata": {
        "id": "z3Un1EN-tHpB"
      },
      "execution_count": null,
      "outputs": []
    }
  ]
}