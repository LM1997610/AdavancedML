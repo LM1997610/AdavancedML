{
  "nbformat": 4,
  "nbformat_minor": 0,
  "metadata": {
    "colab": {
      "provenance": [],
      "toc_visible": true,
      "authorship_tag": "ABX9TyPgsgE2sDB1RLHuQ5IwbsGr",
      "include_colab_link": true
    },
    "kernelspec": {
      "name": "python3",
      "display_name": "Python 3"
    },
    "language_info": {
      "name": "python"
    },
    "widgets": {
      "application/vnd.jupyter.widget-state+json": {
        "bb414818f94845f6b8b750531e28d22f": {
          "model_module": "@jupyter-widgets/controls",
          "model_name": "HBoxModel",
          "model_module_version": "1.5.0",
          "state": {
            "_dom_classes": [],
            "_model_module": "@jupyter-widgets/controls",
            "_model_module_version": "1.5.0",
            "_model_name": "HBoxModel",
            "_view_count": null,
            "_view_module": "@jupyter-widgets/controls",
            "_view_module_version": "1.5.0",
            "_view_name": "HBoxView",
            "box_style": "",
            "children": [
              "IPY_MODEL_071344cd18524c64a8cf8eb57428d0e9",
              "IPY_MODEL_84351d0a99c949f5bdf3ac86a9d4babe",
              "IPY_MODEL_2d5e4d6428924a978038a23aaf1c722b"
            ],
            "layout": "IPY_MODEL_41fa442344604cb2a3f75aed27626e8b"
          }
        },
        "071344cd18524c64a8cf8eb57428d0e9": {
          "model_module": "@jupyter-widgets/controls",
          "model_name": "HTMLModel",
          "model_module_version": "1.5.0",
          "state": {
            "_dom_classes": [],
            "_model_module": "@jupyter-widgets/controls",
            "_model_module_version": "1.5.0",
            "_model_name": "HTMLModel",
            "_view_count": null,
            "_view_module": "@jupyter-widgets/controls",
            "_view_module_version": "1.5.0",
            "_view_name": "HTMLView",
            "description": "",
            "description_tooltip": null,
            "layout": "IPY_MODEL_b45ed31b8b254bfd8d592924d932ce32",
            "placeholder": "​",
            "style": "IPY_MODEL_559b58379d4b49b7bdea19e07622c727",
            "value": "100%"
          }
        },
        "84351d0a99c949f5bdf3ac86a9d4babe": {
          "model_module": "@jupyter-widgets/controls",
          "model_name": "FloatProgressModel",
          "model_module_version": "1.5.0",
          "state": {
            "_dom_classes": [],
            "_model_module": "@jupyter-widgets/controls",
            "_model_module_version": "1.5.0",
            "_model_name": "FloatProgressModel",
            "_view_count": null,
            "_view_module": "@jupyter-widgets/controls",
            "_view_module_version": "1.5.0",
            "_view_name": "ProgressView",
            "bar_style": "success",
            "description": "",
            "description_tooltip": null,
            "layout": "IPY_MODEL_b8b81a1ade1b45d8b6f325950a13134a",
            "max": 7009,
            "min": 0,
            "orientation": "horizontal",
            "style": "IPY_MODEL_8a95ba3339a94e4e940a32d06762e9cc",
            "value": 7009
          }
        },
        "2d5e4d6428924a978038a23aaf1c722b": {
          "model_module": "@jupyter-widgets/controls",
          "model_name": "HTMLModel",
          "model_module_version": "1.5.0",
          "state": {
            "_dom_classes": [],
            "_model_module": "@jupyter-widgets/controls",
            "_model_module_version": "1.5.0",
            "_model_name": "HTMLModel",
            "_view_count": null,
            "_view_module": "@jupyter-widgets/controls",
            "_view_module_version": "1.5.0",
            "_view_name": "HTMLView",
            "description": "",
            "description_tooltip": null,
            "layout": "IPY_MODEL_74894e5fb577431cb35e7bafdb82d28b",
            "placeholder": "​",
            "style": "IPY_MODEL_326eecbb8a304888a76c042e81a337a8",
            "value": " 7009/7009 [02:32&lt;00:00, 50.43it/s]"
          }
        },
        "41fa442344604cb2a3f75aed27626e8b": {
          "model_module": "@jupyter-widgets/base",
          "model_name": "LayoutModel",
          "model_module_version": "1.2.0",
          "state": {
            "_model_module": "@jupyter-widgets/base",
            "_model_module_version": "1.2.0",
            "_model_name": "LayoutModel",
            "_view_count": null,
            "_view_module": "@jupyter-widgets/base",
            "_view_module_version": "1.2.0",
            "_view_name": "LayoutView",
            "align_content": null,
            "align_items": null,
            "align_self": null,
            "border": null,
            "bottom": null,
            "display": null,
            "flex": null,
            "flex_flow": null,
            "grid_area": null,
            "grid_auto_columns": null,
            "grid_auto_flow": null,
            "grid_auto_rows": null,
            "grid_column": null,
            "grid_gap": null,
            "grid_row": null,
            "grid_template_areas": null,
            "grid_template_columns": null,
            "grid_template_rows": null,
            "height": null,
            "justify_content": null,
            "justify_items": null,
            "left": null,
            "margin": null,
            "max_height": null,
            "max_width": null,
            "min_height": null,
            "min_width": null,
            "object_fit": null,
            "object_position": null,
            "order": null,
            "overflow": null,
            "overflow_x": null,
            "overflow_y": null,
            "padding": null,
            "right": null,
            "top": null,
            "visibility": null,
            "width": null
          }
        },
        "b45ed31b8b254bfd8d592924d932ce32": {
          "model_module": "@jupyter-widgets/base",
          "model_name": "LayoutModel",
          "model_module_version": "1.2.0",
          "state": {
            "_model_module": "@jupyter-widgets/base",
            "_model_module_version": "1.2.0",
            "_model_name": "LayoutModel",
            "_view_count": null,
            "_view_module": "@jupyter-widgets/base",
            "_view_module_version": "1.2.0",
            "_view_name": "LayoutView",
            "align_content": null,
            "align_items": null,
            "align_self": null,
            "border": null,
            "bottom": null,
            "display": null,
            "flex": null,
            "flex_flow": null,
            "grid_area": null,
            "grid_auto_columns": null,
            "grid_auto_flow": null,
            "grid_auto_rows": null,
            "grid_column": null,
            "grid_gap": null,
            "grid_row": null,
            "grid_template_areas": null,
            "grid_template_columns": null,
            "grid_template_rows": null,
            "height": null,
            "justify_content": null,
            "justify_items": null,
            "left": null,
            "margin": null,
            "max_height": null,
            "max_width": null,
            "min_height": null,
            "min_width": null,
            "object_fit": null,
            "object_position": null,
            "order": null,
            "overflow": null,
            "overflow_x": null,
            "overflow_y": null,
            "padding": null,
            "right": null,
            "top": null,
            "visibility": null,
            "width": null
          }
        },
        "559b58379d4b49b7bdea19e07622c727": {
          "model_module": "@jupyter-widgets/controls",
          "model_name": "DescriptionStyleModel",
          "model_module_version": "1.5.0",
          "state": {
            "_model_module": "@jupyter-widgets/controls",
            "_model_module_version": "1.5.0",
            "_model_name": "DescriptionStyleModel",
            "_view_count": null,
            "_view_module": "@jupyter-widgets/base",
            "_view_module_version": "1.2.0",
            "_view_name": "StyleView",
            "description_width": ""
          }
        },
        "b8b81a1ade1b45d8b6f325950a13134a": {
          "model_module": "@jupyter-widgets/base",
          "model_name": "LayoutModel",
          "model_module_version": "1.2.0",
          "state": {
            "_model_module": "@jupyter-widgets/base",
            "_model_module_version": "1.2.0",
            "_model_name": "LayoutModel",
            "_view_count": null,
            "_view_module": "@jupyter-widgets/base",
            "_view_module_version": "1.2.0",
            "_view_name": "LayoutView",
            "align_content": null,
            "align_items": null,
            "align_self": null,
            "border": null,
            "bottom": null,
            "display": null,
            "flex": null,
            "flex_flow": null,
            "grid_area": null,
            "grid_auto_columns": null,
            "grid_auto_flow": null,
            "grid_auto_rows": null,
            "grid_column": null,
            "grid_gap": null,
            "grid_row": null,
            "grid_template_areas": null,
            "grid_template_columns": null,
            "grid_template_rows": null,
            "height": null,
            "justify_content": null,
            "justify_items": null,
            "left": null,
            "margin": null,
            "max_height": null,
            "max_width": null,
            "min_height": null,
            "min_width": null,
            "object_fit": null,
            "object_position": null,
            "order": null,
            "overflow": null,
            "overflow_x": null,
            "overflow_y": null,
            "padding": null,
            "right": null,
            "top": null,
            "visibility": null,
            "width": null
          }
        },
        "8a95ba3339a94e4e940a32d06762e9cc": {
          "model_module": "@jupyter-widgets/controls",
          "model_name": "ProgressStyleModel",
          "model_module_version": "1.5.0",
          "state": {
            "_model_module": "@jupyter-widgets/controls",
            "_model_module_version": "1.5.0",
            "_model_name": "ProgressStyleModel",
            "_view_count": null,
            "_view_module": "@jupyter-widgets/base",
            "_view_module_version": "1.2.0",
            "_view_name": "StyleView",
            "bar_color": null,
            "description_width": ""
          }
        },
        "74894e5fb577431cb35e7bafdb82d28b": {
          "model_module": "@jupyter-widgets/base",
          "model_name": "LayoutModel",
          "model_module_version": "1.2.0",
          "state": {
            "_model_module": "@jupyter-widgets/base",
            "_model_module_version": "1.2.0",
            "_model_name": "LayoutModel",
            "_view_count": null,
            "_view_module": "@jupyter-widgets/base",
            "_view_module_version": "1.2.0",
            "_view_name": "LayoutView",
            "align_content": null,
            "align_items": null,
            "align_self": null,
            "border": null,
            "bottom": null,
            "display": null,
            "flex": null,
            "flex_flow": null,
            "grid_area": null,
            "grid_auto_columns": null,
            "grid_auto_flow": null,
            "grid_auto_rows": null,
            "grid_column": null,
            "grid_gap": null,
            "grid_row": null,
            "grid_template_areas": null,
            "grid_template_columns": null,
            "grid_template_rows": null,
            "height": null,
            "justify_content": null,
            "justify_items": null,
            "left": null,
            "margin": null,
            "max_height": null,
            "max_width": null,
            "min_height": null,
            "min_width": null,
            "object_fit": null,
            "object_position": null,
            "order": null,
            "overflow": null,
            "overflow_x": null,
            "overflow_y": null,
            "padding": null,
            "right": null,
            "top": null,
            "visibility": null,
            "width": null
          }
        },
        "326eecbb8a304888a76c042e81a337a8": {
          "model_module": "@jupyter-widgets/controls",
          "model_name": "DescriptionStyleModel",
          "model_module_version": "1.5.0",
          "state": {
            "_model_module": "@jupyter-widgets/controls",
            "_model_module_version": "1.5.0",
            "_model_name": "DescriptionStyleModel",
            "_view_count": null,
            "_view_module": "@jupyter-widgets/base",
            "_view_module_version": "1.2.0",
            "_view_name": "StyleView",
            "description_width": ""
          }
        }
      }
    }
  },
  "cells": [
    {
      "cell_type": "markdown",
      "metadata": {
        "id": "view-in-github",
        "colab_type": "text"
      },
      "source": [
        "<a href=\"https://colab.research.google.com/github/LM1997610/AdavancedML/blob/main/AML_project/data_preprocessing.ipynb\" target=\"_parent\"><img src=\"https://colab.research.google.com/assets/colab-badge.svg\" alt=\"Open In Colab\"/></a>"
      ]
    },
    {
      "cell_type": "markdown",
      "source": [
        "## Preparing the Dataset"
      ],
      "metadata": {
        "id": "cgXpgvFAJd6L"
      }
    },
    {
      "cell_type": "code",
      "execution_count": null,
      "metadata": {
        "id": "AkZi2mmoLynU"
      },
      "outputs": [],
      "source": [
        "import os\n",
        "import sys\n",
        "import cv2\n",
        "import shutil\n",
        "import random\n",
        "\n",
        "from tqdm.auto import tqdm\n",
        "from zipfile import ZipFile"
      ]
    },
    {
      "cell_type": "markdown",
      "source": [
        "**Portrait dataset** was downloaded from [this link](https://github.com/mahmoudnafifi/HistoGAN?tab=readme-ov-file#portrait-dataset) and uploaded to the shared Drive.\\\n",
        "Here the dataset is processed to resize the images from 1024x1024 to 256x256 pixels.\\\n",
        "Then it is divided into training, validation and testing sets."
      ],
      "metadata": {
        "id": "3ccEK9XqHx1y"
      }
    },
    {
      "cell_type": "code",
      "source": [
        "! gdown 1tPw_esFGuiZQ7FGGhc8AhENVDPqmvB-i\n",
        "! unzip -qqq /content/portrait_faces.zip"
      ],
      "metadata": {
        "colab": {
          "base_uri": "https://localhost:8080/"
        },
        "id": "Mbv1MCAwL3BY",
        "outputId": "d6afddf1-ac18-411b-96f2-29ae82d44d97"
      },
      "execution_count": null,
      "outputs": [
        {
          "output_type": "stream",
          "name": "stdout",
          "text": [
            "Downloading...\n",
            "From: https://drive.google.com/uc?id=1tPw_esFGuiZQ7FGGhc8AhENVDPqmvB-i\n",
            "To: /content/portrait_faces.zip\n",
            "100% 586M/586M [00:10<00:00, 54.2MB/s]\n"
          ]
        }
      ]
    },
    {
      "cell_type": "code",
      "source": [
        "directory = \"portrait_faces\"\n",
        "\n",
        "new_dir = \"resized_portrait_faces/\"\n",
        "os.makedirs(new_dir, exist_ok=True)\n",
        "\n",
        "new_shape = (256, 256)\n",
        "\n",
        "for filename in tqdm(os.listdir(directory)):\n",
        "\n",
        "    file_path = os.path.join(directory, filename)\n",
        "\n",
        "    try :\n",
        "\n",
        "      image = cv2.imread(file_path)\n",
        "      sys.stdout.write('\\r Processing: %s → from size: %s ' % (filename, image.shape))\n",
        "      sys.stdout.flush()\n",
        "      out = cv2.resize(image, new_shape)\n",
        "      cv2.imwrite(new_dir + filename, out)\n",
        "\n",
        "    except Exception as e: print(file_path)"
      ],
      "metadata": {
        "colab": {
          "base_uri": "https://localhost:8080/",
          "height": 66,
          "referenced_widgets": [
            "bb414818f94845f6b8b750531e28d22f",
            "071344cd18524c64a8cf8eb57428d0e9",
            "84351d0a99c949f5bdf3ac86a9d4babe",
            "2d5e4d6428924a978038a23aaf1c722b",
            "41fa442344604cb2a3f75aed27626e8b",
            "b45ed31b8b254bfd8d592924d932ce32",
            "559b58379d4b49b7bdea19e07622c727",
            "b8b81a1ade1b45d8b6f325950a13134a",
            "8a95ba3339a94e4e940a32d06762e9cc",
            "74894e5fb577431cb35e7bafdb82d28b",
            "326eecbb8a304888a76c042e81a337a8"
          ]
        },
        "id": "9QCovWezMI49",
        "outputId": "f50df3ab-2513-436a-df50-22765857bafc"
      },
      "execution_count": null,
      "outputs": [
        {
          "output_type": "display_data",
          "data": {
            "text/plain": [
              "  0%|          | 0/7009 [00:00<?, ?it/s]"
            ],
            "application/vnd.jupyter.widget-view+json": {
              "version_major": 2,
              "version_minor": 0,
              "model_id": "bb414818f94845f6b8b750531e28d22f"
            }
          },
          "metadata": {}
        },
        {
          "output_type": "stream",
          "name": "stdout",
          "text": [
            " Processing: image_00439.jpg → from size: (1024, 1024, 3) "
          ]
        }
      ]
    },
    {
      "cell_type": "code",
      "source": [
        "lista_file = os.listdir(new_dir)\n",
        "\n",
        "print(f'number of original images: {len(os.listdir(directory))}')\n",
        "print(f'number of resized images: {len(lista_file)}')"
      ],
      "metadata": {
        "colab": {
          "base_uri": "https://localhost:8080/"
        },
        "id": "z7AsjX9uNOm_",
        "outputId": "651faefb-d8a7-481e-c160-b3fdd7d62ebe"
      },
      "execution_count": null,
      "outputs": [
        {
          "output_type": "stream",
          "name": "stdout",
          "text": [
            "number of original images: 7009\n",
            "number of resized images: 7009\n"
          ]
        }
      ]
    },
    {
      "cell_type": "markdown",
      "source": [
        "**Splitting** in train, validation and test:"
      ],
      "metadata": {
        "id": "Yi3gUCPBJWW8"
      }
    },
    {
      "cell_type": "code",
      "source": [
        "def split_dataset(source_directory,\n",
        "                  destination_directory,\n",
        "                  train_percent=0.8, validation_percent=0.1, test_percent=0.1):\n",
        "\n",
        "    random.seed(123)\n",
        "    all_files = os.listdir(source_directory)\n",
        "    num_files = len(all_files)\n",
        "\n",
        "    num_train = int(num_files * train_percent)\n",
        "    num_validation = int(num_files * validation_percent)\n",
        "    num_test = num_files - num_train - num_validation\n",
        "\n",
        "    random.shuffle(all_files)\n",
        "\n",
        "    for dataset in ['train', 'validation', 'test']:\n",
        "        dataset_path = os.path.join(destination_directory, dataset)\n",
        "        os.makedirs(dataset_path, exist_ok=True)\n",
        "\n",
        "    for i, file in enumerate(all_files):\n",
        "        source_path = os.path.join(source_directory, file)\n",
        "        if i < num_train:\n",
        "            destination_path = os.path.join(destination_directory, 'train', file)\n",
        "        elif i < num_train + num_validation:\n",
        "            destination_path = os.path.join(destination_directory, 'validation', file)\n",
        "        else:\n",
        "            destination_path = os.path.join(destination_directory, 'test', file)\n",
        "\n",
        "        shutil.copy(source_path, destination_path)\n",
        "\n",
        "    print(\"Splitting complete \\n\")\n",
        "    print(f\"{len(os.listdir(destination_directory+'/train'))} files in train\")\n",
        "    print(f\"{len(os.listdir(destination_directory+'/validation'))} files in validation\")\n",
        "    print(f\"{len(os.listdir(destination_directory+'/test'))} files in test\")"
      ],
      "metadata": {
        "id": "lg26_DCuOMLo"
      },
      "execution_count": null,
      "outputs": []
    },
    {
      "cell_type": "code",
      "source": [
        "source_dir = \"resized_portrait_faces\"\n",
        "destination_dir = \"train_val_test_split\"\n",
        "\n",
        "split_dataset(source_dir, destination_dir, train_percent=0.85, validation_percent=0.1, test_percent=0.05)"
      ],
      "metadata": {
        "colab": {
          "base_uri": "https://localhost:8080/"
        },
        "id": "Bbj9mkaOOmyi",
        "outputId": "12a52208-4c09-4a94-8641-7c01b073d260"
      },
      "execution_count": null,
      "outputs": [
        {
          "output_type": "stream",
          "name": "stdout",
          "text": [
            "Splitting complete \n",
            "\n",
            "5957 files in train\n",
            "700 files in validation\n",
            "352 files in test\n"
          ]
        }
      ]
    },
    {
      "cell_type": "markdown",
      "source": [
        "### Directory **train_val_test_split**\n",
        "\n",
        "The folder we want to create has the following structure:\n",
        "\n",
        "├── train_val_test_split \\\n",
        "├   └── test_sets \\\n",
        "│    &emsp;&emsp; ├── mask_large_256 \\\n",
        "│    &emsp;&emsp; ├── mask_small_256 \\\n",
        "│    &emsp;&emsp; └── test \\\n",
        "├ └── train.zip \\\n",
        "└ └── validation.zip \\\n",
        "\n",
        " Then we will incorporate the '`/train_val_test_split'` directory into the [**MAT repo**](https://github.com/fenglinglwb/MAT) clone.\\\n",
        "Same for **CelebA-HQ_256.pkl**, the pre-trained model file. It will be placed in its designated directory named `'/pretrained_dir'`\n"
      ],
      "metadata": {
        "id": "Uj4fjC6zJmZX"
      }
    },
    {
      "cell_type": "code",
      "source": [
        "def zip_folder(folder_path, zip_path):\n",
        "\n",
        "    with ZipFile(zip_path, 'w') as zipf:\n",
        "\n",
        "        for root, _, files in os.walk(folder_path):\n",
        "\n",
        "            for file in files:\n",
        "\n",
        "                file_path = os.path.join(root, file)\n",
        "                arc_name = os.path.relpath(file_path, folder_path)\n",
        "                zipf.write(file_path, arc_name)"
      ],
      "metadata": {
        "id": "sMH2x007r6xY"
      },
      "execution_count": null,
      "outputs": []
    },
    {
      "cell_type": "code",
      "source": [
        "base_path = '/content'\n",
        "input_folder = 'train_val_test_split'\n",
        "output_folder = 'train_val_test_split.zip'\n",
        "test_sets_folder = 'test_sets'\n",
        "\n",
        "# zip train and validation\n",
        "for folder_name in ['train', 'validation']:\n",
        "    folder_path = os.path.join(base_path, input_folder, folder_name)\n",
        "    zip_path = os.path.join(base_path, input_folder, f'{folder_name}.zip')\n",
        "    zip_folder(folder_path, zip_path) # zip folder\n",
        "    shutil.rmtree(folder_path)        # remove folder\n",
        "\n",
        "# move test in test_sets\n",
        "test_sets_path = os.path.join(base_path, input_folder, test_sets_folder)\n",
        "os.makedirs(test_sets_path, exist_ok=True)\n",
        "shutil.move(os.path.join(base_path, input_folder, 'test'), os.path.join(test_sets_path, 'test'))\n"
      ],
      "metadata": {
        "colab": {
          "base_uri": "https://localhost:8080/",
          "height": 36
        },
        "id": "AVow3g8Oq_vB",
        "outputId": "8125d613-6d9a-4f6b-ac23-6501a331735b"
      },
      "execution_count": null,
      "outputs": [
        {
          "output_type": "execute_result",
          "data": {
            "text/plain": [
              "'/content/train_val_test_split/test_sets/test'"
            ],
            "application/vnd.google.colaboratory.intrinsic+json": {
              "type": "string"
            }
          },
          "metadata": {},
          "execution_count": 9
        }
      ]
    },
    {
      "cell_type": "markdown",
      "source": [
        "### Mask\n",
        "The masks we employ have been provided by MAT researchers and downloaded from [this link](https://mycuhk-my.sharepoint.com/personal/1155137927_link_cuhk_edu_hk/_layouts/15/onedrive.aspx?id=%2Fpersonal%2F1155137927%5Flink%5Fcuhk%5Fedu%5Fhk%2FDocuments%2FRelease%2FMAT&ga=1) into our shared Drive.\\\n",
        "Same for the pre-trained model.\n",
        "\n",
        "In order to ensure a one-to-one correspondence between **masks** and **test images**, the masks are randomly selected.\\\n",
        "A total of 352 masks per group (small and large) were chosen from the downloaded collection.\\\n",
        "Only **large masks** will be utilized next for testing.\n"
      ],
      "metadata": {
        "id": "EAHCQWsnJrB6"
      }
    },
    {
      "cell_type": "code",
      "source": [
        "# get small masks\n",
        "\n",
        "! gdown 1kfitYjSOCe0Y3M6eeiot1q0b7SG-NJvm\n",
        "! unzip -q masks_small_celebahq_val_256.zip\n",
        "! mv masks_val_256_small_eval masks_small_256\n",
        "! rm -r masks_small_celebahq_val_256.zip"
      ],
      "metadata": {
        "colab": {
          "base_uri": "https://localhost:8080/"
        },
        "id": "zZR6FHkRwD6Q",
        "outputId": "7ed2a2ca-66e1-4cbc-9b23-a60464b9ad77"
      },
      "execution_count": null,
      "outputs": [
        {
          "output_type": "stream",
          "name": "stdout",
          "text": [
            "Downloading...\n",
            "From: https://drive.google.com/uc?id=1kfitYjSOCe0Y3M6eeiot1q0b7SG-NJvm\n",
            "To: /content/masks_small_celebahq_val_256.zip\n",
            "\r  0% 0.00/2.73M [00:00<?, ?B/s]\r100% 2.73M/2.73M [00:00<00:00, 164MB/s]\n"
          ]
        }
      ]
    },
    {
      "cell_type": "code",
      "source": [
        "# get large masks\n",
        "\n",
        "! gdown 1i1anLUkHomUFZFwQ4SP0ssXKu0-S6SwF\n",
        "! unzip -q masks_large_celebahq_val_256.zip\n",
        "! mv masks_val_256_eval masks_large_256\n",
        "! rm -r masks_large_celebahq_val_256.zip"
      ],
      "metadata": {
        "colab": {
          "base_uri": "https://localhost:8080/"
        },
        "id": "qHEJ-rcvx2UR",
        "outputId": "2438f981-87a0-4b26-b816-32d2d503f734"
      },
      "execution_count": null,
      "outputs": [
        {
          "output_type": "stream",
          "name": "stdout",
          "text": [
            "Downloading...\n",
            "From: https://drive.google.com/uc?id=1i1anLUkHomUFZFwQ4SP0ssXKu0-S6SwF\n",
            "To: /content/masks_large_celebahq_val_256.zip\n",
            "100% 4.40M/4.40M [00:00<00:00, 24.4MB/s]\n"
          ]
        }
      ]
    },
    {
      "cell_type": "code",
      "source": [
        "small_masks = len(os.listdir(\"masks_small_256\"))\n",
        "print(f'small masks: {small_masks} imgs')\n",
        "\n",
        "large_masks = len(os.listdir(\"masks_large_256\"))\n",
        "print(f'large masks: {large_masks} imgs')"
      ],
      "metadata": {
        "colab": {
          "base_uri": "https://localhost:8080/"
        },
        "id": "k864ELPFy7ER",
        "outputId": "67424de4-771d-43f4-ef1e-d8acecafb92d"
      },
      "execution_count": null,
      "outputs": [
        {
          "output_type": "stream",
          "name": "stdout",
          "text": [
            "small masks: 2993 imgs\n",
            "large masks: 2993 imgs\n"
          ]
        }
      ]
    },
    {
      "cell_type": "code",
      "source": [
        "mask_dir_list = [\"masks_small_256\", \"masks_large_256\"]\n",
        "test_dataset_path = 'train_val_test_split/test_sets/test'\n",
        "\n",
        "number_test_img = len(os.listdir(test_dataset_path))\n",
        "print(f'number_test_img: {number_test_img}\\n')\n",
        "\n",
        "for mask_dir in mask_dir_list:\n",
        "\n",
        "    print(mask_dir)\n",
        "\n",
        "    all_masks = os.listdir(mask_dir)\n",
        "    file_png = [file for file in all_masks if file.lower().endswith(\".png\")]\n",
        "    print(f' number masks: {len(all_masks)}')\n",
        "\n",
        "    numero_file_da_eliminare = len(file_png) - number_test_img\n",
        "    print(f' numero_file_da_eliminare: {numero_file_da_eliminare}')\n",
        "\n",
        "    file_da_eliminare = random.sample(file_png,  numero_file_da_eliminare)\n",
        "\n",
        "    for file in file_da_eliminare:\n",
        "        percorso_completo = os.path.join(mask_dir, file)\n",
        "        os.remove(percorso_completo)\n",
        "\n",
        "    print(f' >> final number masks: {len(os.listdir(mask_dir))} in {mask_dir}\\n')\n",
        "\n",
        "    # Move the mask directory to the test dataset path\n",
        "    target_path = 'train_val_test_split/test_sets'\n",
        "    new_mask_dir_path = os.path.join(target_path, os.path.basename(mask_dir))\n",
        "    shutil.move(mask_dir, new_mask_dir_path)"
      ],
      "metadata": {
        "colab": {
          "base_uri": "https://localhost:8080/"
        },
        "id": "2SN3u3ARv1x3",
        "outputId": "1b35c254-cab4-41ca-bc1e-0ebf90b3fc6d"
      },
      "execution_count": null,
      "outputs": [
        {
          "output_type": "stream",
          "name": "stdout",
          "text": [
            "number_test_img: 352\n",
            "\n",
            "masks_small_256\n",
            " number masks: 2993\n",
            " numero_file_da_eliminare: 2641\n",
            " >> final number masks: 352 in masks_small_256\n",
            "\n",
            "masks_large_256\n",
            " number masks: 2993\n",
            " numero_file_da_eliminare: 2641\n",
            " >> final number masks: 352 in masks_large_256\n",
            "\n"
          ]
        }
      ]
    },
    {
      "cell_type": "code",
      "source": [
        "n_mask_small = len(os.listdir(\"train_val_test_split/test_sets/masks_small_256\"))\n",
        "print(f'small masks: {n_mask_small} imgs')\n",
        "\n",
        "n_mask_large = len(os.listdir(\"train_val_test_split/test_sets/masks_large_256\"))\n",
        "print(f'large masks: {n_mask_large} imgs')"
      ],
      "metadata": {
        "colab": {
          "base_uri": "https://localhost:8080/"
        },
        "id": "CN4Q6HPuv12v",
        "outputId": "3293c916-479c-4f31-ffc9-99b9da4d48f6"
      },
      "execution_count": null,
      "outputs": [
        {
          "output_type": "stream",
          "name": "stdout",
          "text": [
            "small masks: 352 imgs\n",
            "large masks: 352 imgs\n"
          ]
        }
      ]
    },
    {
      "cell_type": "markdown",
      "source": [
        "### Zip and save files"
      ],
      "metadata": {
        "id": "QqzVwnMNWANK"
      }
    },
    {
      "cell_type": "code",
      "source": [
        "# -------------------------------\n",
        "from google.colab import drive\n",
        "drive.mount('/content/drive')\n",
        "# -------------------------------"
      ],
      "metadata": {
        "colab": {
          "base_uri": "https://localhost:8080/"
        },
        "id": "z3H9srFE1uVT",
        "outputId": "61429b3c-2494-4943-80e9-675cfe3aa2a1"
      },
      "execution_count": null,
      "outputs": [
        {
          "output_type": "stream",
          "name": "stdout",
          "text": [
            "Mounted at /content/drive\n"
          ]
        }
      ]
    },
    {
      "cell_type": "code",
      "source": [
        "# save train_val_test_split on drive:\n",
        "\n",
        "! zip -q -r  train_val_test_split.zip train_val_test_split\n",
        "! cp train_val_test_split.zip /content/drive/MyDrive/AML_project"
      ],
      "metadata": {
        "id": "RV4jpTB8v144"
      },
      "execution_count": null,
      "outputs": []
    },
    {
      "cell_type": "code",
      "source": [
        "# save resized images on drive:\n",
        "\n",
        "! zip -q -r resized_portrait_faces.zip resized_portrait_faces\n",
        "! cp resized_portrait_faces.zip /content/drive/MyDrive/AML_project"
      ],
      "metadata": {
        "id": "J54YKDwrv17K"
      },
      "execution_count": null,
      "outputs": []
    }
  ]
}