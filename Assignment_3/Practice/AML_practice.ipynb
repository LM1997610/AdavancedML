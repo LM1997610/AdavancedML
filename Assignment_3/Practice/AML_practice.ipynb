{
  "cells": [
    {
      "cell_type": "markdown",
      "metadata": {
        "id": "view-in-github",
        "colab_type": "text"
      },
      "source": [
        "<a href=\"https://colab.research.google.com/github/LM1997610/AdavancedML/blob/main/Assignment_3/Practice/AML_practice.ipynb\" target=\"_parent\"><img src=\"https://colab.research.google.com/assets/colab-badge.svg\" alt=\"Open In Colab\"/></a>"
      ]
    },
    {
      "cell_type": "markdown",
      "metadata": {
        "id": "_U0EkDIvBXrO"
      },
      "source": [
        "## Table of contents:\n",
        "* Initial Setup\n",
        "* Data Loading and Preprocessing\n",
        "    * Data Variables\n",
        "* Model Instantiation\n",
        "* Optimizer and Scheduler\n",
        "* Train and Evaluation Loop\n",
        "    * Save the model and plot the losses (**1 Point**)\n",
        "* Test Loop  \n",
        "* Human Pose Visualization (**2 Points**)\n",
        "* Report and Parameter Fine-Tuning Analysis  (**4 Points**)\n",
        "* Calculating MPJPE for a Specific Frame  (**2 Points**)\n",
        "* Iterative Mechanism (**3 Points**)\n",
        "* YOUR custom model (**3 Points**)\n",
        "    * Performance BONUS (**Up to 2 Points**)\n",
        "\n"
      ]
    },
    {
      "cell_type": "markdown",
      "metadata": {
        "id": "0s2XUo8DBXrR"
      },
      "source": [
        "## Initial Setup\n",
        "Run the following two cellls to sync with Google Drive only if you run from Google Colab.\n",
        "\n",
        "*Note: we recommend using Google Colab for this specific homework, since the training phase will require a GPU*"
      ]
    },
    {
      "cell_type": "code",
      "source": [
        "! gdown 1rEwchKD8WS8PI2-x3mYkj18QUi5l_vQq"
      ],
      "metadata": {
        "colab": {
          "base_uri": "https://localhost:8080/"
        },
        "id": "gmIU3OynL3J5",
        "outputId": "d2fd0db6-90f9-4c14-8e38-4b0d99bdb46f"
      },
      "execution_count": 1,
      "outputs": [
        {
          "output_type": "stream",
          "name": "stdout",
          "text": [
            "Downloading...\n",
            "From: https://drive.google.com/uc?id=1rEwchKD8WS8PI2-x3mYkj18QUi5l_vQq\n",
            "To: /content/Homework_24.zip\n",
            "100% 141M/141M [00:04<00:00, 33.5MB/s]\n"
          ]
        }
      ]
    },
    {
      "cell_type": "code",
      "source": [
        "%%capture\n",
        "! unzip Homework_24.zip"
      ],
      "metadata": {
        "id": "q7eSxogXTuYy"
      },
      "execution_count": 2,
      "outputs": []
    },
    {
      "cell_type": "code",
      "source": [
        "cd /content/Homework_24/Practice"
      ],
      "metadata": {
        "colab": {
          "base_uri": "https://localhost:8080/"
        },
        "id": "nQyli6qMT_DP",
        "outputId": "f1822cf1-49d5-46c9-a824-778fb00e7df5"
      },
      "execution_count": 3,
      "outputs": [
        {
          "output_type": "stream",
          "name": "stdout",
          "text": [
            "/content/Homework_24/Practice\n"
          ]
        }
      ]
    },
    {
      "cell_type": "markdown",
      "metadata": {
        "id": "nfZFycIrBXrT"
      },
      "source": [
        "Welcome to this guide on training, testing, and fine-tuning a deep learning model. Deep learning is at the forefront of artificial intelligence, with applications spanning image recognition, natural language processing, and more.\n",
        "\n",
        "Throughout this assignment, you'll:\n",
        "\n",
        "1. **Prepare Data:** Preprocess and load the data.\n",
        "\n",
        "2. **Use Neural Networks:** Instantiate a neural network architecture.\n",
        "\n",
        "3. **Train Models:** Utilize optimization, loss functions, and backpropagation.\n",
        "\n",
        "4. **Evaluate Performance:** Assess model performance, prevent overfitting, and underfitting.\n",
        "\n",
        "5. **Fine-Tune Models:** Explore hyperparameter tuning."
      ]
    },
    {
      "cell_type": "code",
      "execution_count": 4,
      "metadata": {
        "id": "7air6QP1tXsa"
      },
      "outputs": [],
      "source": [
        "from utils import h36motion3d as datasets\n",
        "from torch.utils.data import DataLoader\n",
        "import matplotlib.pyplot as plt\n",
        "import torch.optim as optim\n",
        "import torch.autograd\n",
        "import torch\n",
        "import numpy as np\n",
        "from utils.loss_funcs import *\n",
        "from utils.data_utils import define_actions\n",
        "from utils.h36_3d_viz import visualize\n",
        "import time\n",
        "\n",
        "import torch.nn.functional as F"
      ]
    },
    {
      "cell_type": "code",
      "execution_count": 5,
      "metadata": {
        "colab": {
          "base_uri": "https://localhost:8080/"
        },
        "id": "m5-P9Yj-tfBC",
        "outputId": "dbc5cd89-32bc-4f2f-f1fa-3a54efa87ddd"
      },
      "outputs": [
        {
          "output_type": "stream",
          "name": "stdout",
          "text": [
            "Using device: cuda - Type: Tesla T4\n"
          ]
        }
      ],
      "source": [
        "# Use GPU if available, otherwise stick with cpu\n",
        "device = torch.device('cuda' if torch.cuda.is_available() else 'cpu')\n",
        "print('Using device:', device,  '- Type:', torch.cuda.get_device_name(0))"
      ]
    },
    {
      "cell_type": "markdown",
      "metadata": {
        "id": "AsK9hMdiBXrU"
      },
      "source": [
        "## Data Loading and Preprocessing"
      ]
    },
    {
      "cell_type": "markdown",
      "metadata": {
        "id": "e-EC3XAqBXrV"
      },
      "source": [
        "For this homework, you will use [Human3.6M](https://vision.imar.ro/human3.6m/pami-h36m.pdf), which is a large-scale dataset of 3.6 million accurate 3D human poses acquired by recording the performance of five female and six male subjects under four different viewpoints. The dataset includes:\n",
        "- Synchronized image.\n",
        "- Human motion capture.\n",
        "- Time of flight (depth) data.\n",
        "- Accurate 3D body scans of all the subject actors involved.\n",
        "\n",
        "The dataset aims to provide diverse motions and poses encountered in typical human activities, with additional data to train realistic human sensing systems.\n",
        "\n",
        "![picture](https://drive.google.com/uc?export=view&id=1nyD1_F3r1ctexKFGDmhy2Q9SX_2Z_bpS)\n",
        "\n",
        "For this assignment, we will leverage the rich **motion data** (See in the figure above) provided by H3.6M to perform a task known as *motion prediction*. Motion prediction involves using historical motion data to forecast future movements. This task is fundamental in human-robot interaction, animation, and sports analytics applications."
      ]
    },
    {
      "cell_type": "markdown",
      "metadata": {
        "id": "JDVBcpLABXrV"
      },
      "source": [
        "### Data Variables\n",
        "\n",
        "Each created sequence has the shape (35, 17, 3), where:\n",
        "- Number of observed sequences and number of sequences to predict: $N_{obs}+N_{pred} = 10 + 25 = 35$;\n",
        "- Number of body joints to consider: $J=22$;\n",
        "- Spatial coordinates: $(x,y,z) = 3$.\n",
        "\n",
        "\n",
        "The original data provides high-resolution progressive scan videos at 50 Hz. However, the dataset has been downsampled to 25 Hz for research purposes. This means that 25 frames of motion data are provided per second.\n",
        "\n",
        "*Note: the figure above shows 18 joints, however the dataset contains 32. For this specific case we will consider 22 joints, ignoring some of the finer ones (e.g. foot tip, hand tip, etc)*\n"
      ]
    },
    {
      "cell_type": "code",
      "execution_count": 6,
      "metadata": {
        "id": "ZgNCWoUEBXrV"
      },
      "outputs": [],
      "source": [
        "# # Arguments to setup the datasets\n",
        "datas = 'h36m' # dataset name\n",
        "#path = './data/h3.6m/h3.6m/dataset'\n",
        "path = './data/h3.6m/h3.6m/dataset'\n",
        "input_n=10 # number of frames to train on (default=10)\n",
        "output_n=25 # number of frames to predict on\n",
        "input_dim=3 # dimensions of the input coordinates(default=3)\n",
        "skip_rate=1 # # skip rate of frames\n",
        "joints_to_consider=22\n",
        "\n",
        "\n",
        "#FLAGS FOR THE TRAINING\n",
        "mode='train' #choose either train or test mode\n",
        "\n",
        "batch_size_test=8\n",
        "model_path= './checkpoints/' # path to the model checkpoint file\n",
        "\n",
        "actions_to_consider_test ='all' # actions to test on.\n",
        "model_name = datas+'_3d_'+str(output_n)+'frames_ckpt' #the model name to save/load\n",
        "\n",
        "#FLAGS FOR THE VISUALIZATION\n",
        "actions_to_consider_viz= 'all' # actions to visualize\n",
        "visualize_from='test'\n",
        "n_viz=2"
      ]
    },
    {
      "cell_type": "markdown",
      "metadata": {
        "id": "WHrODi8VBXrW"
      },
      "source": [
        "Load Dataset\n",
        "\n",
        "*Note: It will take you ~ 5 minutes*"
      ]
    },
    {
      "cell_type": "code",
      "source": [
        "import warnings\n",
        "warnings.filterwarnings(\"ignore\", category=np.VisibleDeprecationWarning)"
      ],
      "metadata": {
        "id": "dOMMQbZtrNl2"
      },
      "execution_count": null,
      "outputs": []
    },
    {
      "cell_type": "code",
      "execution_count": 7,
      "metadata": {
        "colab": {
          "base_uri": "https://localhost:8080/"
        },
        "id": "0GTflRxwBXrW",
        "outputId": "17c404b5-7539-4e3e-c8a4-e5d7db503e3a"
      },
      "outputs": [
        {
          "output_type": "stream",
          "name": "stdout",
          "text": [
            "Loading Train Dataset...\n"
          ]
        },
        {
          "output_type": "stream",
          "name": "stderr",
          "text": [
            "/content/Homework_24/Practice/utils/h36motion3d.py:30: VisibleDeprecationWarning: Creating an ndarray from ragged nested sequences (which is a list-or-tuple of lists-or-tuples-or ndarrays with different lengths or shapes) is deprecated. If you meant to do this, you must specify 'dtype=object' when creating the ndarray.\n",
            "  subs = np.array([[1, 6, 7, 8, 9], [11], [5]]) # , 6, 7, 8, 9\n"
          ]
        },
        {
          "output_type": "stream",
          "name": "stdout",
          "text": [
            "Loading Validation Dataset...\n"
          ]
        }
      ],
      "source": [
        "# Load Data\n",
        "print('Loading Train Dataset...')\n",
        "dataset = datasets.Datasets(path,input_n,output_n,skip_rate, split=0)\n",
        "print('Loading Validation Dataset...')\n",
        "vald_dataset = datasets.Datasets(path,input_n,output_n,skip_rate, split=1)\n",
        "\n",
        "#! Note: Ignore warning:  \"VisibleDeprecationWarning: Creating an ndarray from ragged nested sequences\""
      ]
    },
    {
      "cell_type": "markdown",
      "metadata": {
        "id": "ZBDfLkXfBXrW"
      },
      "source": [
        "Following we create a torch dataloader that create the batches for each epoch."
      ]
    },
    {
      "cell_type": "code",
      "execution_count": 8,
      "metadata": {
        "id": "5RWNrUxIBXrW",
        "colab": {
          "base_uri": "https://localhost:8080/"
        },
        "outputId": "68670ec5-36c4-4113-cef1-df4db71af853"
      },
      "outputs": [
        {
          "output_type": "stream",
          "name": "stdout",
          "text": [
            ">>> Training dataset length: 180077\n",
            ">>> Validation dataset length: 28110\n"
          ]
        }
      ],
      "source": [
        "batch_size=256\n",
        "\n",
        "print('>>> Training dataset length: {:d}'.format(dataset.__len__()))\n",
        "data_loader = DataLoader(dataset, batch_size=batch_size, shuffle=True, num_workers=0, pin_memory=True)#\n",
        "\n",
        "print('>>> Validation dataset length: {:d}'.format(vald_dataset.__len__()))\n",
        "vald_loader = DataLoader(vald_dataset, batch_size=batch_size, shuffle=True, num_workers=0, pin_memory=True)"
      ]
    },
    {
      "cell_type": "markdown",
      "metadata": {
        "id": "ZdFwJ4QuBXrX"
      },
      "source": [
        "## Model instantiation"
      ]
    },
    {
      "cell_type": "markdown",
      "metadata": {
        "id": "cv7XT2pDBXrX"
      },
      "source": [
        "\n",
        "Each sequence comprises an **observed** part to train the Encoder and a part that attempts to predict the **future** sequence, the Decoder.\n",
        "\n",
        "Generally, the standard setup plans to use the first 10 sequences of poses ($N_{obs}=10$) for the observation and the following 25 ($N_{pred} = 25$) for the prediction.\n"
      ]
    },
    {
      "cell_type": "markdown",
      "metadata": {
        "id": "YW7_ED1vBXrY"
      },
      "source": [
        "We create an instance of a custom Spatio-Temporal transformer with the chosen configuration.\n",
        "\n",
        "(*Note: explore the model in ./models/sttr/sttformer.py*)\n",
        "\n",
        "Then we allocate it to the GPU for forward and backward accelerated computation."
      ]
    },
    {
      "cell_type": "code",
      "execution_count": 9,
      "metadata": {
        "id": "9bDpLWl6BXrY",
        "colab": {
          "base_uri": "https://localhost:8080/"
        },
        "outputId": "b221753c-bb4f-4833-df5c-79709b60c1ec"
      },
      "outputs": [
        {
          "output_type": "stream",
          "name": "stdout",
          "text": [
            "Using device: cuda\n",
            "total number of parameters of the network is: 26859\n"
          ]
        }
      ],
      "source": [
        "from models.sttr.sttformer import Model\n",
        "device = torch.device('cuda' if torch.cuda.is_available() else 'cpu')\n",
        "print('Using device: %s'%device)\n",
        "\n",
        "n_heads = 1\n",
        "\n",
        "model = Model(num_joints=joints_to_consider,\n",
        "                 num_frames=input_n, num_frames_out=output_n, num_heads=n_heads,\n",
        "                 num_channels=3, kernel_size=[3,3], use_pes=True).to(device)\n",
        "\n",
        "print('total number of parameters of the network is: '+str(sum(p.numel() for p in model.parameters() if p.requires_grad)))"
      ]
    },
    {
      "cell_type": "markdown",
      "metadata": {
        "id": "xBtix_WjBXrY"
      },
      "source": [
        "## Optimizer and Scheduler"
      ]
    },
    {
      "cell_type": "markdown",
      "metadata": {
        "id": "1XtIPG_IBXrY"
      },
      "source": [
        "As we embark on training deep learning models for motion prediction using the H3.6M dataset, it's essential to recognize several key parameters and components that significantly impact the training phase:\n",
        "\n",
        "- **Learning Rate:** This parameter determines the convergence speed during optimization.\n",
        "\n",
        "- **Batch Size:** It influences model generalization and training efficiency.\n",
        "\n",
        "- **Number of Epochs:** The number of training iterations affects model learning.\n",
        "\n",
        "- **Loss Function:** The choice of loss function directly affects learning and final performance.\n",
        "\n",
        "- **Optimizer:** The optimization algorithm used (e.g., Adam, SGD) impacts gradient descent during training.\n",
        "\n",
        "- **Milestones and Gamma:** These parameters control learning rate schedules, allowing for adaptive adjustments during training.\n",
        "\n",
        "- **Weight Decay:** It regulates the impact of model parameters during optimization.\n",
        "\n",
        "- **Scheduler:** Scheduler strategies (e.g., StepLR, ReduceLROnPlateau) manage learning rate adaptation during training."
      ]
    },
    {
      "cell_type": "code",
      "execution_count": 10,
      "metadata": {
        "id": "ILUrD5v4BXrZ"
      },
      "outputs": [],
      "source": [
        "# Arguments to setup the optimizer\n",
        "lr=1e-01 # learning rate\n",
        "use_scheduler=True # use MultiStepLR scheduler\n",
        "milestones=[10,30]   # the epochs after which the learning rate is adjusted by gamma\n",
        "gamma=0.1 #gamma correction to the learning rate, after reaching the milestone epochs\n",
        "weight_decay=1e-05 # weight decay (L2 penalty)\n",
        "optimizer=optim.Adam(model.parameters(),lr=lr,weight_decay=weight_decay)\n",
        "\n",
        "if use_scheduler:\n",
        "    scheduler = optim.lr_scheduler.MultiStepLR(optimizer, milestones=milestones, gamma=gamma)"
      ]
    },
    {
      "cell_type": "code",
      "execution_count": 11,
      "metadata": {
        "id": "9lfkuKP1BXra"
      },
      "outputs": [],
      "source": [
        "clip_grad=None # select max norm to clip gradients\n",
        "# Argument for training\n",
        "n_epochs=41\n",
        "log_step = 200"
      ]
    },
    {
      "cell_type": "markdown",
      "metadata": {
        "id": "fTbGwJFtBXra"
      },
      "source": [
        "## Train and Evaluation Loop"
      ]
    },
    {
      "cell_type": "markdown",
      "metadata": {
        "id": "uBT0Z7FLBXrb"
      },
      "source": [
        "The **loss** and **metric** used during training and evaluation respectively, compare the predicted joint positions to ground truth joint positions for all frames, which is typically referred to as the **Average Mean Per\n",
        "Joint Position Error (A-MPJPE)** can be seen as an $L_2$. This loss quantifies the dissimilarity between the predicted and ground truth joint positions by measuring the squared Euclidean distance between corresponding joint positions.\n",
        "\n",
        "\\begin{align*}\n",
        "A-MPJPE &= \\frac{1}{N_{pred}} \\sum_{i=1}^{N_{pred}} \\left(\\frac{1}{J} \\sum_{j=1}^{J} \\left\\| P_{\\text{predicted}_{t,j}} - P_{\\text{gt}_{t,j}} \\right\\|^2\\right)\n",
        "\\end{align*}\n",
        "\n",
        "$$where:$$\n",
        "\n",
        "\\begin{align*}\n",
        "P_{\\text{predicted}} &: \\text{Set of predicted joint positions estimated by the model.} \\\\\n",
        "P_{\\text{gt}} &: \\text{Corresponding set of ground truth joint positions.} \\\\\n",
        "\\end{align*}"
      ]
    },
    {
      "cell_type": "markdown",
      "metadata": {
        "id": "lriDKsUoBXrb"
      },
      "source": [
        "*Note: If you restart the training for any reason, remember to instantiate the model and the optimizer again. This will avoid continuing the training with the initialized weights of the previous one*\n"
      ]
    },
    {
      "cell_type": "markdown",
      "metadata": {
        "id": "3hiF0f6oBXrb"
      },
      "source": [
        "### Save the model and plot the losses (1 Point)\n",
        "\n",
        "**Objective:** In this exercise, you will practice implementing a code snippet to save your deep learning model's checkpoints and visualize the training and validation loss on the same plot every 5 epochs during model training.\n",
        "\n",
        "Your task is to implement the following:\n",
        "\n",
        "- Set up a mechanism to save the model's checkpoints (weights and architecture) during training. These checkpoints should be saved periodically, say, **every 5 epochs**.\n",
        "\n",
        "- Create a plot displaying the training and validation losses on the same graph. The x-axis should represent the number of epochs, and the y-axis should represent the loss values. The training and validation losses should be plotted as separate lines on the same graph.\n",
        "\n",
        "- Ensure that the code saves the model's checkpoints in a specified directory, including the model's architecture and weights, and that the loss plot is displayed.\n",
        "\n",
        "Analyze the loss plot to gain insights into how your model is learning over time and whether there are any signs of overfitting or underfitting.\n",
        "\n",
        "*Note: see the Pytorch Documentation on how to save your model's checkpoints.*\n"
      ]
    },
    {
      "cell_type": "code",
      "execution_count": 12,
      "metadata": {
        "id": "oQUGhkJPuoF8"
      },
      "outputs": [],
      "source": [
        "def train(data_loader,vald_loader, path_to_save_model=None):\n",
        "  train_loss = []\n",
        "  val_loss = []\n",
        "  val_loss_best = 1000\n",
        "\n",
        "  dim_used = np.array([6, 7, 8, 9, 10, 11, 12, 13, 14, 15, 16, 17, 21, 22, 23, 24, 25,\n",
        "                    26, 27, 28, 29, 30, 31, 32, 36, 37, 38, 39, 40, 41, 42, 43, 44, 45,\n",
        "                    46, 47, 51, 52, 53, 54, 55, 56, 57, 58, 59, 63, 64, 65, 66, 67, 68,\n",
        "                    75, 76, 77, 78, 79, 80, 81, 82, 83, 87, 88, 89, 90, 91, 92])\n",
        "\n",
        "  for epoch in range(n_epochs-1):\n",
        "      running_loss=0\n",
        "      n=0\n",
        "      model.train()\n",
        "      for cnt,batch in enumerate(data_loader):\n",
        "          batch=batch.float().to(device)\n",
        "          batch_dim=batch.shape[0]\n",
        "          n+=batch_dim\n",
        "\n",
        "          sequences_train=batch[:, 0:input_n, dim_used].view(-1,input_n,len(dim_used)//3,3).permute(0,3,1,2)\n",
        "          sequences_gt=batch[:, input_n:input_n+output_n, dim_used].view(-1,output_n,len(dim_used)//3,3)\n",
        "\n",
        "          optimizer.zero_grad()\n",
        "          sequences_predict=model(sequences_train).view(-1, output_n, joints_to_consider, 3)\n",
        "\n",
        "\n",
        "          loss=mpjpe_error(sequences_predict,sequences_gt)\n",
        "\n",
        "\n",
        "          if cnt % log_step == 0:\n",
        "            print('[Epoch: %d, Iteration: %5d]  training loss: %.3f' %(epoch + 1, cnt + 1, loss.item()))\n",
        "\n",
        "          loss.backward()\n",
        "          if clip_grad is not None:\n",
        "            torch.nn.utils.clip_grad_norm_(model.parameters(),clip_grad)\n",
        "\n",
        "          optimizer.step()\n",
        "          running_loss += loss*batch_dim\n",
        "\n",
        "      train_loss.append(running_loss.detach().cpu()/n)\n",
        "      model.eval()\n",
        "      with torch.no_grad():\n",
        "          running_loss=0\n",
        "          n=0\n",
        "          for cnt,batch in enumerate(vald_loader):\n",
        "              batch=batch.float().to(device)\n",
        "              batch_dim=batch.shape[0]\n",
        "              n+=batch_dim\n",
        "\n",
        "\n",
        "              sequences_train=batch[:, 0:input_n, dim_used].view(-1,input_n,len(dim_used)//3,3).permute(0,3,1,2)\n",
        "              sequences_gt=batch[:, input_n:input_n+output_n, dim_used].view(-1,output_n,len(dim_used)//3,3)\n",
        "\n",
        "              sequences_predict=model(sequences_train).view(-1, output_n, joints_to_consider, 3)\n",
        "              loss=mpjpe_error(sequences_predict,sequences_gt)\n",
        "\n",
        "              if cnt % log_step == 0:\n",
        "                        print('[Epoch: %d, Iteration: %5d]  validation loss: %.3f' %(epoch + 1, cnt + 1, loss.item()))\n",
        "              running_loss+=loss*batch_dim\n",
        "          val_loss.append(running_loss.detach().cpu()/n)\n",
        "          if running_loss/n < val_loss_best:\n",
        "            val_loss_best = running_loss/n\n",
        "\n",
        "      if use_scheduler:\n",
        "        scheduler.step()\n",
        "\n",
        "      # save and plot model every 5 epochs\n",
        "      '''\n",
        "      Insert your code below. Use the argument path_to_save_model to save the model to the path specified.\n",
        "      '''\n",
        "      if save_and_plot and epoch in [4 + 5 * i for i in range(n_epochs)]:\n",
        "\n",
        "        torch.save(model.state_dict(), path_to_save_model+model_name+\"_epoch_\"+str(epoch)+\".pt\")\n",
        "\n",
        "        plt.figure(figsize=(7, 3))\n",
        "\n",
        "        plt.plot(list(range(1, len(train_loss)+1)), train_loss, 'r', label = 'Train loss')\n",
        "        plt.plot(list(range(1, len(train_loss)+1)), val_loss, 'g', label =' Val loss')\n",
        "        plt.title('Loss History\\n', fontsize=14)\n",
        "        plt.xlabel('n_of_epochs')\n",
        "        plt.ylabel('loss')\n",
        "        plt.xticks(list(range(1, len(train_loss)+1)))\n",
        "        plt.grid(linewidth=0.4)\n",
        "        plt.legend()\n",
        "        plt.show()\n",
        "\n",
        "  return val_loos, val_loss_best"
      ]
    },
    {
      "cell_type": "code",
      "execution_count": null,
      "metadata": {
        "id": "uPWGWLHTBXrd",
        "colab": {
          "base_uri": "https://localhost:8080/",
          "height": 1000
        },
        "outputId": "0315e328-f623-4d4a-ccc0-14532b90310c"
      },
      "outputs": [
        {
          "output_type": "stream",
          "name": "stdout",
          "text": [
            "[Epoch: 1, Iteration:     1]  training loss: 559.063\n",
            "[Epoch: 1, Iteration:   201]  training loss: 123.139\n",
            "[Epoch: 1, Iteration:   401]  training loss: 108.488\n",
            "[Epoch: 1, Iteration:   601]  training loss: 112.526\n",
            "[Epoch: 1, Iteration:     1]  validation loss: 103.935\n",
            "[Epoch: 2, Iteration:     1]  training loss: 103.737\n",
            "[Epoch: 2, Iteration:   201]  training loss: 107.349\n",
            "[Epoch: 2, Iteration:   401]  training loss: 98.381\n",
            "[Epoch: 2, Iteration:   601]  training loss: 94.711\n",
            "[Epoch: 2, Iteration:     1]  validation loss: 92.222\n",
            "[Epoch: 3, Iteration:     1]  training loss: 102.704\n",
            "[Epoch: 3, Iteration:   201]  training loss: 95.744\n",
            "[Epoch: 3, Iteration:   401]  training loss: 95.023\n",
            "[Epoch: 3, Iteration:   601]  training loss: 94.775\n",
            "[Epoch: 3, Iteration:     1]  validation loss: 90.905\n",
            "[Epoch: 4, Iteration:     1]  training loss: 92.539\n",
            "[Epoch: 4, Iteration:   201]  training loss: 89.011\n",
            "[Epoch: 4, Iteration:   401]  training loss: 92.839\n",
            "[Epoch: 4, Iteration:   601]  training loss: 92.483\n",
            "[Epoch: 4, Iteration:     1]  validation loss: 93.146\n",
            "[Epoch: 5, Iteration:     1]  training loss: 91.514\n",
            "[Epoch: 5, Iteration:   201]  training loss: 90.166\n",
            "[Epoch: 5, Iteration:   401]  training loss: 94.944\n",
            "[Epoch: 5, Iteration:   601]  training loss: 89.187\n",
            "[Epoch: 5, Iteration:     1]  validation loss: 82.333\n"
          ]
        },
        {
          "output_type": "display_data",
          "data": {
            "text/plain": [
              "<Figure size 700x300 with 1 Axes>"
            ],
            "image/png": "[encoded data removed]"
          },
          "metadata": {}
        },
        {
          "output_type": "stream",
          "name": "stdout",
          "text": [
            "[Epoch: 6, Iteration:     1]  training loss: 90.960\n",
            "[Epoch: 6, Iteration:   201]  training loss: 87.185\n",
            "[Epoch: 6, Iteration:   401]  training loss: 93.118\n",
            "[Epoch: 6, Iteration:   601]  training loss: 87.814\n",
            "[Epoch: 6, Iteration:     1]  validation loss: 85.017\n",
            "[Epoch: 7, Iteration:     1]  training loss: 84.899\n",
            "[Epoch: 7, Iteration:   201]  training loss: 89.505\n",
            "[Epoch: 7, Iteration:   401]  training loss: 88.477\n",
            "[Epoch: 7, Iteration:   601]  training loss: 83.077\n",
            "[Epoch: 7, Iteration:     1]  validation loss: 86.913\n",
            "[Epoch: 8, Iteration:     1]  training loss: 92.763\n",
            "[Epoch: 8, Iteration:   201]  training loss: 92.342\n",
            "[Epoch: 8, Iteration:   401]  training loss: 90.691\n",
            "[Epoch: 8, Iteration:   601]  training loss: 90.302\n",
            "[Epoch: 8, Iteration:     1]  validation loss: 82.225\n",
            "[Epoch: 9, Iteration:     1]  training loss: 91.891\n",
            "[Epoch: 9, Iteration:   201]  training loss: 93.579\n",
            "[Epoch: 9, Iteration:   401]  training loss: 88.622\n",
            "[Epoch: 9, Iteration:   601]  training loss: 86.123\n",
            "[Epoch: 9, Iteration:     1]  validation loss: 82.669\n",
            "[Epoch: 10, Iteration:     1]  training loss: 87.384\n",
            "[Epoch: 10, Iteration:   201]  training loss: 88.261\n",
            "[Epoch: 10, Iteration:   401]  training loss: 86.768\n",
            "[Epoch: 10, Iteration:   601]  training loss: 88.299\n",
            "[Epoch: 10, Iteration:     1]  validation loss: 83.156\n"
          ]
        },
        {
          "output_type": "display_data",
          "data": {
            "text/plain": [
              "<Figure size 700x300 with 1 Axes>"
            ],
            "image/png": "[encoded data removed]"
          },
          "metadata": {}
        },
        {
          "output_type": "stream",
          "name": "stdout",
          "text": [
            "[Epoch: 11, Iteration:     1]  training loss: 88.076\n",
            "[Epoch: 11, Iteration:   201]  training loss: 85.113\n",
            "[Epoch: 11, Iteration:   401]  training loss: 81.386\n",
            "[Epoch: 11, Iteration:   601]  training loss: 81.153\n",
            "[Epoch: 11, Iteration:     1]  validation loss: 80.915\n",
            "[Epoch: 12, Iteration:     1]  training loss: 84.869\n",
            "[Epoch: 12, Iteration:   201]  training loss: 80.931\n",
            "[Epoch: 12, Iteration:   401]  training loss: 79.709\n",
            "[Epoch: 12, Iteration:   601]  training loss: 81.418\n",
            "[Epoch: 12, Iteration:     1]  validation loss: 77.122\n",
            "[Epoch: 13, Iteration:     1]  training loss: 81.865\n",
            "[Epoch: 13, Iteration:   201]  training loss: 84.540\n",
            "[Epoch: 13, Iteration:   401]  training loss: 80.494\n",
            "[Epoch: 13, Iteration:   601]  training loss: 84.518\n",
            "[Epoch: 13, Iteration:     1]  validation loss: 76.759\n",
            "[Epoch: 14, Iteration:     1]  training loss: 84.241\n",
            "[Epoch: 14, Iteration:   201]  training loss: 82.886\n",
            "[Epoch: 14, Iteration:   401]  training loss: 83.708\n",
            "[Epoch: 14, Iteration:   601]  training loss: 79.509\n",
            "[Epoch: 14, Iteration:     1]  validation loss: 81.198\n",
            "[Epoch: 15, Iteration:     1]  training loss: 87.001\n",
            "[Epoch: 15, Iteration:   201]  training loss: 80.105\n",
            "[Epoch: 15, Iteration:   401]  training loss: 84.825\n",
            "[Epoch: 15, Iteration:   601]  training loss: 80.593\n",
            "[Epoch: 15, Iteration:     1]  validation loss: 77.075\n"
          ]
        },
        {
          "output_type": "display_data",
          "data": {
            "text/plain": [
              "<Figure size 700x300 with 1 Axes>"
            ],
            "image/png": "[encoded data removed]"
          },
          "metadata": {}
        },
        {
          "output_type": "stream",
          "name": "stdout",
          "text": [
            "[Epoch: 16, Iteration:     1]  training loss: 83.265\n",
            "[Epoch: 16, Iteration:   201]  training loss: 81.127\n",
            "[Epoch: 16, Iteration:   401]  training loss: 81.786\n",
            "[Epoch: 16, Iteration:   601]  training loss: 87.747\n",
            "[Epoch: 16, Iteration:     1]  validation loss: 82.690\n",
            "[Epoch: 17, Iteration:     1]  training loss: 79.740\n",
            "[Epoch: 17, Iteration:   201]  training loss: 84.400\n",
            "[Epoch: 17, Iteration:   401]  training loss: 83.330\n",
            "[Epoch: 17, Iteration:   601]  training loss: 78.609\n",
            "[Epoch: 17, Iteration:     1]  validation loss: 76.253\n",
            "[Epoch: 18, Iteration:     1]  training loss: 84.785\n",
            "[Epoch: 18, Iteration:   201]  training loss: 81.146\n",
            "[Epoch: 18, Iteration:   401]  training loss: 76.813\n",
            "[Epoch: 18, Iteration:   601]  training loss: 87.346\n",
            "[Epoch: 18, Iteration:     1]  validation loss: 79.900\n",
            "[Epoch: 19, Iteration:     1]  training loss: 84.025\n",
            "[Epoch: 19, Iteration:   201]  training loss: 85.055\n",
            "[Epoch: 19, Iteration:   401]  training loss: 82.899\n",
            "[Epoch: 19, Iteration:   601]  training loss: 81.459\n",
            "[Epoch: 19, Iteration:     1]  validation loss: 78.963\n",
            "[Epoch: 20, Iteration:     1]  training loss: 82.795\n",
            "[Epoch: 20, Iteration:   201]  training loss: 83.097\n",
            "[Epoch: 20, Iteration:   401]  training loss: 88.058\n",
            "[Epoch: 20, Iteration:   601]  training loss: 84.809\n",
            "[Epoch: 20, Iteration:     1]  validation loss: 80.327\n"
          ]
        },
        {
          "output_type": "display_data",
          "data": {
            "text/plain": [
              "<Figure size 700x300 with 1 Axes>"
            ],
            "image/png": "[encoded data removed]"
          },
          "metadata": {}
        },
        {
          "output_type": "stream",
          "name": "stdout",
          "text": [
            "[Epoch: 21, Iteration:     1]  training loss: 80.674\n",
            "[Epoch: 21, Iteration:   201]  training loss: 78.844\n",
            "[Epoch: 21, Iteration:   401]  training loss: 82.531\n",
            "[Epoch: 21, Iteration:   601]  training loss: 81.909\n",
            "[Epoch: 21, Iteration:     1]  validation loss: 79.303\n",
            "[Epoch: 22, Iteration:     1]  training loss: 81.865\n",
            "[Epoch: 22, Iteration:   201]  training loss: 82.432\n",
            "[Epoch: 22, Iteration:   401]  training loss: 77.784\n",
            "[Epoch: 22, Iteration:   601]  training loss: 84.495\n",
            "[Epoch: 22, Iteration:     1]  validation loss: 74.976\n",
            "[Epoch: 23, Iteration:     1]  training loss: 83.257\n",
            "[Epoch: 23, Iteration:   201]  training loss: 83.014\n",
            "[Epoch: 23, Iteration:   401]  training loss: 75.580\n",
            "[Epoch: 23, Iteration:   601]  training loss: 84.011\n",
            "[Epoch: 23, Iteration:     1]  validation loss: 80.831\n",
            "[Epoch: 24, Iteration:     1]  training loss: 81.919\n",
            "[Epoch: 24, Iteration:   201]  training loss: 84.697\n",
            "[Epoch: 24, Iteration:   401]  training loss: 85.213\n",
            "[Epoch: 24, Iteration:   601]  training loss: 80.416\n",
            "[Epoch: 24, Iteration:     1]  validation loss: 79.955\n",
            "[Epoch: 25, Iteration:     1]  training loss: 84.738\n",
            "[Epoch: 25, Iteration:   201]  training loss: 82.523\n",
            "[Epoch: 25, Iteration:   401]  training loss: 82.863\n",
            "[Epoch: 25, Iteration:   601]  training loss: 83.778\n",
            "[Epoch: 25, Iteration:     1]  validation loss: 78.836\n"
          ]
        },
        {
          "output_type": "display_data",
          "data": {
            "text/plain": [
              "<Figure size 700x300 with 1 Axes>"
            ],
            "image/png": "[encoded data removed]"
          },
          "metadata": {}
        },
        {
          "output_type": "stream",
          "name": "stdout",
          "text": [
            "[Epoch: 26, Iteration:     1]  training loss: 79.895\n",
            "[Epoch: 26, Iteration:   201]  training loss: 82.222\n",
            "[Epoch: 26, Iteration:   401]  training loss: 78.312\n",
            "[Epoch: 26, Iteration:   601]  training loss: 81.878\n",
            "[Epoch: 26, Iteration:     1]  validation loss: 79.578\n",
            "[Epoch: 27, Iteration:     1]  training loss: 85.634\n",
            "[Epoch: 27, Iteration:   201]  training loss: 76.434\n",
            "[Epoch: 27, Iteration:   401]  training loss: 79.758\n",
            "[Epoch: 27, Iteration:   601]  training loss: 81.516\n",
            "[Epoch: 27, Iteration:     1]  validation loss: 80.772\n",
            "[Epoch: 28, Iteration:     1]  training loss: 80.900\n",
            "[Epoch: 28, Iteration:   201]  training loss: 78.015\n",
            "[Epoch: 28, Iteration:   401]  training loss: 76.170\n",
            "[Epoch: 28, Iteration:   601]  training loss: 80.225\n",
            "[Epoch: 28, Iteration:     1]  validation loss: 75.724\n",
            "[Epoch: 29, Iteration:     1]  training loss: 79.619\n",
            "[Epoch: 29, Iteration:   201]  training loss: 84.446\n",
            "[Epoch: 29, Iteration:   401]  training loss: 84.375\n",
            "[Epoch: 29, Iteration:   601]  training loss: 82.732\n"
          ]
        }
      ],
      "source": [
        "save_and_plot = True # save the model and plot the loss. Change to True if you want to save the model and plot the loss\n",
        "\n",
        "# launch training\n",
        "val_loos, val_loss_best = train(data_loader,vald_loader, path_to_save_model=model_path)"
      ]
    },
    {
      "cell_type": "markdown",
      "metadata": {
        "id": "RVcwUPM6BXrd"
      },
      "source": [
        "## Test Loop"
      ]
    },
    {
      "cell_type": "markdown",
      "metadata": {
        "id": "lrR1AEWoBXre"
      },
      "source": [
        "After training and validation, the test loop is the final phase that evaluates the model's performance on an entirely independent dataset known as the test dataset. This dataset is distinct from the training and validation data, ensuring unbiased assessment. The test loop provides a reliable estimate of how well the model will perform in real-world scenarios, confirming that any improvements observed during training and validation are not due to overfitting or chance. It's a crucial step before deploying the model in practical applications."
      ]
    },
    {
      "cell_type": "code",
      "execution_count": null,
      "metadata": {
        "id": "AjwwPPMNxjJ2"
      },
      "outputs": [],
      "source": [
        "def test(ckpt_path=None):\n",
        "    model.load_state_dict(torch.load(ckpt_path))\n",
        "    print('model loaded')\n",
        "    model.eval()\n",
        "    accum_loss=0\n",
        "    n_batches=0 # number of batches for all the sequences\n",
        "    actions=define_actions(actions_to_consider_test)\n",
        "    dim_used = np.array([6, 7, 8, 9, 10, 11, 12, 13, 14, 15, 16, 17, 21, 22, 23, 24, 25,\n",
        "                      26, 27, 28, 29, 30, 31, 32, 36, 37, 38, 39, 40, 41, 42, 43, 44, 45,\n",
        "                      46, 47, 51, 52, 53, 54, 55, 56, 57, 58, 59, 63, 64, 65, 66, 67, 68,\n",
        "                      75, 76, 77, 78, 79, 80, 81, 82, 83, 87, 88, 89, 90, 91, 92])\n",
        "    # joints at same loc\n",
        "    joint_to_ignore = np.array([16, 20, 23, 24, 28, 31])\n",
        "    index_to_ignore = np.concatenate((joint_to_ignore * 3, joint_to_ignore * 3 + 1, joint_to_ignore * 3 + 2))\n",
        "    joint_equal = np.array([13, 19, 22, 13, 27, 30])\n",
        "    index_to_equal = np.concatenate((joint_equal * 3, joint_equal * 3 + 1, joint_equal * 3 + 2))\n",
        "    totalll=0\n",
        "    counter=0\n",
        "    for action in actions:\n",
        "      running_loss=0\n",
        "      n=0\n",
        "      dataset_test = datasets.Datasets(path,input_n,output_n,skip_rate, split=2,actions=[action])\n",
        "      #print('>>> test action for sequences: {:d}'.format(dataset_test.__len__()))\n",
        "\n",
        "      test_loader = DataLoader(dataset_test, batch_size=batch_size_test, shuffle=False, num_workers=0, pin_memory=True)\n",
        "      for cnt,batch in enumerate(test_loader):\n",
        "        with torch.no_grad():\n",
        "\n",
        "          batch=batch.to(device)\n",
        "          batch_dim=batch.shape[0]\n",
        "          n+=batch_dim\n",
        "\n",
        "\n",
        "          all_joints_seq=batch.clone()[:, input_n:input_n+output_n,:]\n",
        "\n",
        "          sequences_train=batch[:, 0:input_n, dim_used].view(-1,input_n,len(dim_used)//3,3).permute(0,3,1,2)\n",
        "          sequences_gt=batch[:, input_n:input_n+output_n, :]\n",
        "\n",
        "\n",
        "          running_time = time.time()\n",
        "          sequences_predict=model(sequences_train).view(-1, output_n, joints_to_consider, 3)\n",
        "          #sequences_predict = model(sequences_train)\n",
        "          totalll += time.time()-running_time\n",
        "          counter += 1\n",
        "          sequences_predict=sequences_predict.contiguous().view(-1,output_n,len(dim_used))\n",
        "\n",
        "          all_joints_seq[:,:,dim_used] = sequences_predict\n",
        "\n",
        "\n",
        "          all_joints_seq[:,:,index_to_ignore] = all_joints_seq[:,:,index_to_equal]\n",
        "\n",
        "          loss=mpjpe_error(all_joints_seq.view(-1,output_n,32,3),sequences_gt.view(-1,output_n,32,3))\n",
        "          running_loss+=loss*batch_dim\n",
        "          accum_loss+=loss*batch_dim\n",
        "\n",
        "      #print('loss at test subject for action : '+str(action)+ ' is: '+ str(running_loss/n))\n",
        "      print(str(action),': ', str(np.round((running_loss/n).item(),1)))\n",
        "      n_batches+=n\n",
        "    print('Average: '+str(np.round((accum_loss/n_batches).item(),1)))\n",
        "    print('Prediction time: ', totalll/counter)\n"
      ]
    },
    {
      "cell_type": "markdown",
      "metadata": {
        "id": "e2TrFIWDBXre"
      },
      "source": [
        "*Note: Your results should be better than 95 millimiters on average*"
      ]
    },
    {
      "cell_type": "code",
      "execution_count": null,
      "metadata": {
        "id": "CCt0vtOkvCxy"
      },
      "outputs": [],
      "source": [
        "ckpt_path = './checkpoints/h36m_3d_25frames_ckpt_epoch_9.pt' # Change the epoch according to the validation curve\n",
        "test(ckpt_path)"
      ]
    },
    {
      "cell_type": "markdown",
      "metadata": {
        "id": "iELEXXORBXrf"
      },
      "source": [
        "## Human Pose Visualization  (**2 Points**)"
      ]
    },
    {
      "cell_type": "markdown",
      "metadata": {
        "id": "6dShZAp9BXrg"
      },
      "source": [
        "The qualitative results are as important as the quantitative ones. In this section, you will visualize and compare the predicted poses with the ground truth ones.\n",
        "For simplicity, you will visualize only the first predicted pose and the ground truth.\n",
        "\n",
        "Ideally, the same plot should show the predicted pose in red and the ground truth one in green.\n",
        "\n",
        "*Note: you will find which nodes are connected in the file ./models/skeleton_connection.py*"
      ]
    },
    {
      "cell_type": "code",
      "source": [
        "visualize(input_n, output_n, visualize_from, path, model, device, n_viz, skip_rate,  actions_to_consider_viz)"
      ],
      "metadata": {
        "id": "vnaVUioOeHW1"
      },
      "execution_count": null,
      "outputs": []
    },
    {
      "cell_type": "code",
      "execution_count": null,
      "metadata": {
        "id": "kYxULFpgBXrg"
      },
      "outputs": [],
      "source": [
        "'''\n",
        "Insert your code below\n",
        "'''"
      ]
    },
    {
      "cell_type": "markdown",
      "metadata": {
        "id": "Mfh69SDiBXrh"
      },
      "source": [
        "## Report and Parameter Fine-Tuning Analysis  (**4 Points**)"
      ]
    },
    {
      "cell_type": "markdown",
      "metadata": {
        "id": "kOcLSDxkBXrh"
      },
      "source": [
        "**Objective:** In this exercise, you will analyze the results obtained from a deep learning model you previously trained and perform parameter fine-tuning to optimize its performance. The key considerations are learning rate, milestones, and weight decay. **You will also use tables and plots to visualize and interpret the outcomes.**\n",
        "\n",
        "**Instructions:**\n",
        "\n",
        "1. **Analysis:** Analyze the generated report and answer the following questions:\n",
        "   - Is there evidence of overfitting or underfitting in the initial training results?\n",
        "   - Are there fluctuations in training and validation loss or accuracy? If so, what might be causing them?\n",
        "   - What can you infer from the initial learning rate, milestones, and weight decay settings?\n",
        "\n",
        "2. **Parameter Fine-Tuning:** Based on your analysis, perform parameter fine-tuning to optimize model performance. Adjust the following parameters:\n",
        "   - **Learning Rate:** Experiment with different learning rates (higher and lower values) to find an optimal rate.\n",
        "   - **Milestones:** Modify the milestone values for adjusting the learning rate schedule.\n",
        "   - **Weight Decay:** Explore different weight decay values.\n",
        "   \n",
        "\n",
        "3. **Re-Training:** Train the model with the adjusted hyperparameters. Record the training progress and generate a new report, including performance metrics and line plots as before.\n",
        "\n",
        "4. **Final Analysis:** Analyze the results of the fine-tuned model and compare them with the initial training. Answer the following questions:\n",
        "   - Has parameter fine-tuning improved model performance?\n",
        "   - Did it mitigate overfitting or underfitting issues?\n",
        "   - What can you conclude about the optimal hyperparameters for this task?\n"
      ]
    },
    {
      "cell_type": "markdown",
      "metadata": {
        "id": "hi3ybeUnBXrh"
      },
      "source": [
        "## Calculating MPJPE for a Specific Frame  (**2 Points**)"
      ]
    },
    {
      "cell_type": "markdown",
      "metadata": {
        "id": "QscgEyYVBXrh"
      },
      "source": [
        "\n",
        "In this exercise, you will calculate the Mean Per Joint Position Error (MPJPE) for a specific frame. This skill is valuable for assessing the accuracy of your model's predictions at a particular moment.\n",
        "\n",
        "\\begin{align*}\n",
        "\\text{MPJPE}_t = \\frac{1}{N} \\sum_{j=1}^{J} \\left\\| P_{\\text{predicted}_{t,j}} - P_{\\text{gt}_{t,j}} \\right\\|\n",
        "\\end{align*}\n",
        "\n",
        "Fixed the frame $t$, you will calculate the MPJPE for the predicted pose and the ground truth. Steps:\n",
        "\n",
        "- Write a function that takes in input the predicted pose and the ground truth one and returns the MPJPE for a number of frames $t$. (e.g. the output could be a dictionary with the frame number as key and the MPJPE as value)\n",
        "- Rewrite the test function to use the function you just wrote.\n",
        "- Run the newly created test function for $t=[5, 10, 15, 25]$ and report the results in a table and plot.\n",
        "\n",
        "\n",
        "\n"
      ]
    },
    {
      "cell_type": "code",
      "execution_count": null,
      "metadata": {
        "id": "mYQK7SB2BXri"
      },
      "outputs": [],
      "source": [
        "def mpjpe_per_frame(sequences_predict,sequences_gt, frames_to_consider):\n",
        "    '''\n",
        "    Insert your code below\n",
        "    '''\n",
        "    return ..."
      ]
    },
    {
      "cell_type": "code",
      "execution_count": null,
      "metadata": {
        "id": "w0arCQrDBXri"
      },
      "outputs": [],
      "source": [
        "def test_per_frame(ckpt_path=None):\n",
        "    model.load_state_dict(torch.load(ckpt_path))\n",
        "    print('model loaded')\n",
        "    model.eval()\n",
        "    accum_loss=0\n",
        "    n_batches=0 # number of batches for all the sequences\n",
        "    actions=define_actions(actions_to_consider_test)\n",
        "    dim_used = np.array([6, 7, 8, 9, 10, 11, 12, 13, 14, 15, 16, 17, 21, 22, 23, 24, 25,\n",
        "                      26, 27, 28, 29, 30, 31, 32, 36, 37, 38, 39, 40, 41, 42, 43, 44, 45,\n",
        "                      46, 47, 51, 52, 53, 54, 55, 56, 57, 58, 59, 63, 64, 65, 66, 67, 68,\n",
        "                      75, 76, 77, 78, 79, 80, 81, 82, 83, 87, 88, 89, 90, 91, 92])\n",
        "    # joints at same loc\n",
        "    joint_to_ignore = np.array([16, 20, 23, 24, 28, 31])\n",
        "    index_to_ignore = np.concatenate((joint_to_ignore * 3, joint_to_ignore * 3 + 1, joint_to_ignore * 3 + 2))\n",
        "    joint_equal = np.array([13, 19, 22, 13, 27, 30])\n",
        "    index_to_equal = np.concatenate((joint_equal * 3, joint_equal * 3 + 1, joint_equal * 3 + 2))\n",
        "    totalll=0\n",
        "    counter=0\n",
        "    for action in actions:\n",
        "      running_loss=0\n",
        "      n=0\n",
        "      dataset_test = datasets.Datasets(path,input_n,output_n,skip_rate, split=2,actions=[action])\n",
        "      #print('>>> test action for sequences: {:d}'.format(dataset_test.__len__()))\n",
        "\n",
        "      test_loader = DataLoader(dataset_test, batch_size=batch_size_test, shuffle=False, num_workers=0, pin_memory=True)\n",
        "      for cnt,batch in enumerate(test_loader):\n",
        "        with torch.no_grad():\n",
        "\n",
        "          batch=batch.to(device)\n",
        "          batch_dim=batch.shape[0]\n",
        "          n+=batch_dim\n",
        "\n",
        "\n",
        "          all_joints_seq=batch.clone()[:, input_n:input_n+output_n,:]\n",
        "\n",
        "          sequences_train=batch[:, 0:input_n, dim_used].view(-1,input_n,len(dim_used)//3,3).permute(0,3,1,2)\n",
        "          sequences_gt=batch[:, input_n:input_n+output_n, :]\n",
        "\n",
        "\n",
        "          running_time = time.time()\n",
        "          sequences_predict=model(sequences_train).view(-1, output_n, joints_to_consider, 3)\n",
        "          #sequences_predict = model(sequences_train)\n",
        "          totalll += time.time()-running_time\n",
        "          counter += 1\n",
        "          sequences_predict=sequences_predict.contiguous().view(-1,output_n,len(dim_used))\n",
        "\n",
        "          all_joints_seq[:,:,dim_used] = sequences_predict\n",
        "\n",
        "\n",
        "          all_joints_seq[:,:,index_to_ignore] = all_joints_seq[:,:,index_to_equal]\n",
        "\n",
        "          '''\n",
        "          Insert your code below.\n",
        "          The function mpjpe_per_frame should return the loss for each frame in the sequence. (e.g. a dictionary with keys the frames and values the loss for each frame)\n",
        "          Keep a tab of the running loss for each frame and the number of frames in the sequence.\n",
        "          '''\n",
        "          frames_to_consider = [5, 10, 15, 25]\n",
        "          dict_loss=mpjpe_per_frame(...)\n",
        "\n",
        "\n",
        "\n",
        "      '''\n",
        "      Insert your code below.\n",
        "      Average the loss over all the frames in the sequence and print the results.\n",
        "      '''\n"
      ]
    },
    {
      "cell_type": "code",
      "execution_count": null,
      "metadata": {
        "id": "U9sky2L9BXrj"
      },
      "outputs": [],
      "source": [
        "'''\n",
        "Insert your code below where you want to load the model and test it.\n",
        "You need to specify the path to the model checkpoint file and call the test function.\n",
        "'''\n",
        "ckpt_path = ...\n",
        "test_per_frame(ckpt_path)"
      ]
    },
    {
      "cell_type": "markdown",
      "metadata": {
        "id": "sVcNnOJMBXrk"
      },
      "source": [
        "## Iterative Mechanism (**3 Points**)"
      ]
    },
    {
      "cell_type": "markdown",
      "metadata": {
        "id": "NSSW3wgYBXrk"
      },
      "source": [
        "In this exercise, you will explore the concept of an iterative mechanism and its adaptability when the model's output length changes. You will start with a model designed to produce 25 output frames but adapt it to generate only 10. The exercise will involve modifying and re-training the model for the new output length. During test time, the model will generate 10 frames and then use them as input to generate the successive 10 frames, and so on, until the desired number of frames is reached. In this case, you are asked to generate 25 frames.\n",
        "\n",
        "The steps are as follows:\n",
        "- Change the model's output length from 25 to 10.\n",
        "- Re-train the model.\n",
        "- Rewrite the test function to generate 25 frames using the iterative mechanism.\n",
        "- Generate a new report and compare the results to the baseline model."
      ]
    },
    {
      "cell_type": "code",
      "execution_count": null,
      "metadata": {
        "id": "Bas-0-OHBXrk"
      },
      "outputs": [],
      "source": [
        "# # Arguments to setup the datasets\n",
        "datas = 'h36m' # dataset name\n",
        "path = './checkpoints/'\n",
        "input_n=10 # number of frames to train on (default=10)\n",
        "\n",
        "'''\n",
        "Insert your code below\n",
        "'''\n",
        "output_n= ... # number of frames to predict on\n",
        "\n",
        "input_dim=3 # dimensions of the input coordinates(default=3)\n",
        "skip_rate=1 # # skip rate of frames\n",
        "joints_to_consider=22\n",
        "\n",
        "#FLAGS FOR THE TRAINING\n",
        "mode='train' #choose either train or test mode\n",
        "\n",
        "batch_size_test=8\n",
        "model_path_iterative= './checkpoints/' # path to the model checkpoint file\n",
        "\n",
        "actions_to_consider_test='all' # actions to test on.\n",
        "model_name = datas+'_3d_'+str(output_n)+'frames_ckpt' #the model name to save/load\n",
        "\n",
        "#FLAGS FOR THE VISUALIZATION\n",
        "actions_to_consider_viz='all' # actions to visualize\n",
        "visualize_from='test'\n",
        "n_viz=2\n"
      ]
    },
    {
      "cell_type": "code",
      "execution_count": null,
      "metadata": {
        "id": "hMoSKaitBXrl"
      },
      "outputs": [],
      "source": [
        "# Load Data\n",
        "print('Loading Train Dataset...')\n",
        "dataset = datasets.Datasets(path,input_n,output_n,skip_rate, split=0)\n",
        "print('Loading Validation Dataset...')\n",
        "vald_dataset = datasets.Datasets(path,input_n,output_n,skip_rate, split=1)\n",
        "\n",
        "#! Note: Ignore warning:  \"VisibleDeprecationWarning: Creating an ndarray from ragged nested sequences\""
      ]
    },
    {
      "cell_type": "code",
      "execution_count": null,
      "metadata": {
        "id": "aRFyVcL9BXrl"
      },
      "outputs": [],
      "source": [
        "batch_size=256\n",
        "\n",
        "print('>>> Training dataset length: {:d}'.format(dataset.__len__()))\n",
        "data_loader = DataLoader(dataset, batch_size=batch_size, shuffle=True, num_workers=0, pin_memory=True)#\n",
        "\n",
        "print('>>> Validation dataset length: {:d}'.format(vald_dataset.__len__()))\n",
        "vald_loader = DataLoader(vald_dataset, batch_size=batch_size, shuffle=True, num_workers=0, pin_memory=True)"
      ]
    },
    {
      "cell_type": "code",
      "execution_count": null,
      "metadata": {
        "id": "_7OAb9s6BXrl"
      },
      "outputs": [],
      "source": [
        "from models.sttr.sttformer import Model\n",
        "device = torch.device('cuda' if torch.cuda.is_available() else 'cpu')\n",
        "print('Using device: %s'%device)\n",
        "\n",
        "n_heads = 1\n",
        "\n",
        "model = Model(num_joints=joints_to_consider,\n",
        "                 num_frames=input_n, num_frames_out=output_n, num_heads=n_heads,\n",
        "                 num_channels=3, kernel_size=[3,3], use_pes=True).to(device)\n",
        "\n",
        "print('total number of parameters of the network is: '+str(sum(p.numel() for p in model.parameters() if p.requires_grad)))"
      ]
    },
    {
      "cell_type": "code",
      "execution_count": null,
      "metadata": {
        "id": "aYdpdrcmBXrl"
      },
      "outputs": [],
      "source": [
        "# Arguments to setup the optimizer\n",
        "lr=1e-01 # learning rate\n",
        "use_scheduler=True # use MultiStepLR scheduler\n",
        "milestones=[10,30]   # the epochs after which the learning rate is adjusted by gamma\n",
        "gamma=0.1 #gamma correction to the learning rate, after reaching the milestone epochs\n",
        "weight_decay=1e-05 # weight decay (L2 penalty)\n",
        "optimizer=optim.Adam(model.parameters(),lr=lr,weight_decay=weight_decay)\n",
        "\n",
        "if use_scheduler:\n",
        "    scheduler = optim.lr_scheduler.MultiStepLR(optimizer, milestones=milestones, gamma=gamma)\n",
        "\n",
        "clip_grad=None # select max norm to clip gradients\n",
        "# Argument for training\n",
        "n_epochs=41\n",
        "log_step = 200"
      ]
    },
    {
      "cell_type": "markdown",
      "metadata": {
        "id": "W3_T38zzBXrm"
      },
      "source": [
        "### Train and Validation Loop"
      ]
    },
    {
      "cell_type": "code",
      "execution_count": null,
      "metadata": {
        "id": "Ps_FldQMBXrm"
      },
      "outputs": [],
      "source": [
        "save_and_plot = False # save the model and plot the loss. Change to True if you want to save the model and plot the loss"
      ]
    },
    {
      "cell_type": "code",
      "execution_count": null,
      "metadata": {
        "id": "EaiHzL3lBXrm"
      },
      "outputs": [],
      "source": [
        "# launch training with the new output_n\n",
        "train(data_loader,vald_loader, path_to_save_model=model_path_iterative)"
      ]
    },
    {
      "cell_type": "markdown",
      "metadata": {
        "id": "Flw5562hBXrm"
      },
      "source": [
        "### Test Loop"
      ]
    },
    {
      "cell_type": "code",
      "execution_count": null,
      "metadata": {
        "id": "0yi1JCPdBXrm"
      },
      "outputs": [],
      "source": [
        "def test(ckpt_path=None):\n",
        "    model.load_state_dict(torch.load(ckpt_path))\n",
        "    print('model loaded')\n",
        "    model.eval()\n",
        "    accum_loss=0\n",
        "    n_batches=0 # number of batches for all the sequences\n",
        "    actions=define_actions(actions_to_consider_test)\n",
        "    dim_used = np.array([6, 7, 8, 9, 10, 11, 12, 13, 14, 15, 16, 17, 21, 22, 23, 24, 25,\n",
        "                      26, 27, 28, 29, 30, 31, 32, 36, 37, 38, 39, 40, 41, 42, 43, 44, 45,\n",
        "                      46, 47, 51, 52, 53, 54, 55, 56, 57, 58, 59, 63, 64, 65, 66, 67, 68,\n",
        "                      75, 76, 77, 78, 79, 80, 81, 82, 83, 87, 88, 89, 90, 91, 92])\n",
        "    # joints at same loc\n",
        "    joint_to_ignore = np.array([16, 20, 23, 24, 28, 31])\n",
        "    index_to_ignore = np.concatenate((joint_to_ignore * 3, joint_to_ignore * 3 + 1, joint_to_ignore * 3 + 2))\n",
        "    joint_equal = np.array([13, 19, 22, 13, 27, 30])\n",
        "    index_to_equal = np.concatenate((joint_equal * 3, joint_equal * 3 + 1, joint_equal * 3 + 2))\n",
        "    totalll=0\n",
        "    counter=0\n",
        "    for action in actions:\n",
        "      running_loss=0\n",
        "      n=0\n",
        "      dataset_test = datasets.Datasets(path,input_n,output_n,skip_rate, split=2,actions=[action])\n",
        "      #print('>>> test action for sequences: {:d}'.format(dataset_test.__len__()))\n",
        "\n",
        "      test_loader = DataLoader(dataset_test, batch_size=batch_size_test, shuffle=False, num_workers=0, pin_memory=True)\n",
        "      for cnt,batch in enumerate(test_loader):\n",
        "        with torch.no_grad():\n",
        "\n",
        "          batch=batch.to(device)\n",
        "          batch_dim=batch.shape[0]\n",
        "          n+=batch_dim\n",
        "\n",
        "\n",
        "          all_joints_seq=batch.clone()[:, input_n:input_n+output_n,:]\n",
        "\n",
        "          sequences_train=batch[:, 0:input_n, dim_used].view(-1,input_n,len(dim_used)//3,3).permute(0,3,1,2)\n",
        "          sequences_gt=batch[:, input_n:input_n+output_n, :]\n",
        "\n",
        "\n",
        "          running_time = time.time()\n",
        "          sequences_predict=model(sequences_train).view(-1, output_n, joints_to_consider, 3)\n",
        "          #sequences_predict = model(sequences_train)\n",
        "          totalll += time.time()-running_time\n",
        "          counter += 1\n",
        "          '''\n",
        "          Insert your code below. You will need to iteratively predict the next frames and feed it to back to the model until you reach the desired number of frames.\n",
        "          '''\n"
      ]
    },
    {
      "cell_type": "code",
      "execution_count": null,
      "metadata": {
        "id": "nbwZQr2PBXrn"
      },
      "outputs": [],
      "source": [
        "test(ckpt_path=model_path_iterative)"
      ]
    },
    {
      "cell_type": "markdown",
      "metadata": {
        "id": "ceuqVt5HBXrn"
      },
      "source": [
        "## YOUR custom model (**3 Points**)\n",
        " In this exercise, you will implement a Transformer-like network (based on the Theory notebook) for this specific task. You can use the Transformer's Encoder and implement your own Decoder to predict future poses. (e.g. RNN, MLP, CNN, TCN, ...).\n",
        " We won't provide any code for this exercise, but you can use the code provided in the Theory notebook as a starting point.\n",
        " The goal of this exercise is not to beat the previous model but to understand how to implement a Transformer network for this specific task. For this reason, the evaluation will be based on the code you write and the explanation you provide in the report rather than the results.\n",
        "\n",
        "\n",
        "### Performance BONUS (**Up to 2 Points**)\n",
        "- **1 Bonus Point** if the model achieves an A-MPJPE between 80 and 90 millimeters.\n",
        "- **2 Bonus Points** if the model achieves an A-MPJPE between 70 and 80 millimeters.\n"
      ]
    },
    {
      "cell_type": "code",
      "execution_count": null,
      "metadata": {
        "id": "1dxldHMmBXro"
      },
      "outputs": [],
      "source": [
        "'''\n",
        "Input Shape: [batch_size, input_time, joints, 3]\n",
        "\n",
        "Encoder:\n",
        "Input shape: [batch_size, input_time, joints, 3]\n",
        "Output shape: [batch_size, input_time/output_time, joints, FREE]\n",
        "\n",
        "# Decoder:\n",
        "Input shape: [batch_size, input_time/output_time, joints, FREE]\n",
        "Output shape: [batch_size, output_time, joints, 3]\n",
        "\n",
        "\n",
        "Hint: Transformers often take an input of shape [batch_size, time, joints*channels], use the reshape or view function to match the dimensionality.\n",
        "'''"
      ]
    }
  ],
  "metadata": {
    "accelerator": "GPU",
    "colab": {
      "machine_shape": "hm",
      "provenance": [],
      "include_colab_link": true
    },
    "kernelspec": {
      "display_name": "Python 3.8.5 ('base')",
      "language": "python",
      "name": "python3"
    },
    "language_info": {
      "codemirror_mode": {
        "name": "ipython",
        "version": 3
      },
      "file_extension": ".py",
      "mimetype": "text/x-python",
      "name": "python",
      "nbconvert_exporter": "python",
      "pygments_lexer": "ipython3",
      "version": "3.8.5"
    },
    "vscode": {
      "interpreter": {
        "hash": "ad2bdc8ecc057115af97d19610ffacc2b4e99fae6737bb82f5d7fb13d2f2c186"
      }
    }
  },
  "nbformat": 4,
  "nbformat_minor": 0
}