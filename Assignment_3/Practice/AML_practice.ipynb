{
  "cells": [
    {
      "cell_type": "markdown",
      "metadata": {
        "id": "view-in-github",
        "colab_type": "text"
      },
      "source": [
        "<a href=\"https://colab.research.google.com/github/LM1997610/AdavancedML/blob/main/Assignment_3/Practice/AML_practice.ipynb\" target=\"_parent\"><img src=\"https://colab.research.google.com/assets/colab-badge.svg\" alt=\"Open In Colab\"/></a>"
      ]
    },
    {
      "cell_type": "markdown",
      "metadata": {
        "id": "_U0EkDIvBXrO"
      },
      "source": [
        "## Table of contents:\n",
        "* Initial Setup\n",
        "* Data Loading and Preprocessing\n",
        "    * Data Variables\n",
        "* Model Instantiation\n",
        "* Optimizer and Scheduler\n",
        "* Train and Evaluation Loop\n",
        "    * Save the model and plot the losses (**1 Point**)\n",
        "* Test Loop  \n",
        "* Human Pose Visualization (**2 Points**)\n",
        "* Report and Parameter Fine-Tuning Analysis  (**4 Points**)\n",
        "* Calculating MPJPE for a Specific Frame  (**2 Points**)\n",
        "* Iterative Mechanism (**3 Points**)\n",
        "* YOUR custom model (**3 Points**)\n",
        "    * Performance BONUS (**Up to 2 Points**)\n",
        "\n"
      ]
    },
    {
      "cell_type": "markdown",
      "metadata": {
        "id": "0s2XUo8DBXrR"
      },
      "source": [
        "## Initial Setup\n",
        "Run the following two cellls to sync with Google Drive only if you run from Google Colab.\n",
        "\n",
        "*Note: we recommend using Google Colab for this specific homework, since the training phase will require a GPU*"
      ]
    },
    {
      "cell_type": "code",
      "source": [
        "from os import makedirs\n",
        "from os.path import exists"
      ],
      "metadata": {
        "id": "VLdRI5BUUyo7"
      },
      "execution_count": 1,
      "outputs": []
    },
    {
      "cell_type": "code",
      "source": [
        "! git clone https://github.com/LM1997610/AdavancedML.git\n",
        "\n",
        "print()\n",
        "%cd /content/AdavancedML/Assignment_3/Practice"
      ],
      "metadata": {
        "colab": {
          "base_uri": "https://localhost:8080/"
        },
        "id": "gmIU3OynL3J5",
        "outputId": "cdf47b54-26a0-444c-fe66-b5e2057cdebf"
      },
      "execution_count": 2,
      "outputs": [
        {
          "output_type": "stream",
          "name": "stdout",
          "text": [
            "Cloning into 'AdavancedML'...\n",
            "remote: Enumerating objects: 1252, done.\u001b[K\n",
            "remote: Counting objects: 100% (498/498), done.\u001b[K\n",
            "remote: Compressing objects: 100% (272/272), done.\u001b[K\n",
            "remote: Total 1252 (delta 249), reused 452 (delta 224), pack-reused 754\u001b[K\n",
            "Receiving objects: 100% (1252/1252), 9.23 MiB | 22.62 MiB/s, done.\n",
            "Resolving deltas: 100% (689/689), done.\n",
            "\n",
            "/content/AdavancedML/Assignment_3/Practice\n"
          ]
        }
      ]
    },
    {
      "cell_type": "code",
      "source": [
        "! gdown 1fNjPKEBHJObyhZkgpnP4gYbIXp_D0eYA"
      ],
      "metadata": {
        "colab": {
          "base_uri": "https://localhost:8080/"
        },
        "id": "6xR_Cw0n1OhE",
        "outputId": "1a49d400-8d66-4203-e3da-5a85b1bd51dc"
      },
      "execution_count": 3,
      "outputs": [
        {
          "output_type": "stream",
          "name": "stdout",
          "text": [
            "Downloading...\n",
            "From: https://drive.google.com/uc?id=1fNjPKEBHJObyhZkgpnP4gYbIXp_D0eYA\n",
            "To: /content/AdavancedML/Assignment_3/Practice/data.zip\n",
            "100% 144M/144M [00:00<00:00, 251MB/s]\n"
          ]
        }
      ]
    },
    {
      "cell_type": "code",
      "source": [
        "if exists(\"data.zip\"):\n",
        "  ! unzip -q data.zip\n",
        "  ! rm data.zip"
      ],
      "metadata": {
        "id": "q7eSxogXTuYy"
      },
      "execution_count": 4,
      "outputs": []
    },
    {
      "cell_type": "markdown",
      "metadata": {
        "id": "nfZFycIrBXrT"
      },
      "source": [
        "Welcome to this guide on training, testing, and fine-tuning a deep learning model. Deep learning is at the forefront of artificial intelligence, with applications spanning image recognition, natural language processing, and more.\n",
        "\n",
        "Throughout this assignment, you'll:\n",
        "\n",
        "1. **Prepare Data:** Preprocess and load the data.\n",
        "\n",
        "2. **Use Neural Networks:** Instantiate a neural network architecture.\n",
        "\n",
        "3. **Train Models:** Utilize optimization, loss functions, and backpropagation.\n",
        "\n",
        "4. **Evaluate Performance:** Assess model performance, prevent overfitting, and underfitting.\n",
        "\n",
        "5. **Fine-Tune Models:** Explore hyperparameter tuning."
      ]
    },
    {
      "cell_type": "code",
      "execution_count": 5,
      "metadata": {
        "id": "7air6QP1tXsa"
      },
      "outputs": [],
      "source": [
        "from utils import h36motion3d as datasets\n",
        "from torch.utils.data import DataLoader\n",
        "import matplotlib.pyplot as plt\n",
        "import torch.optim as optim\n",
        "import torch.autograd\n",
        "import torch\n",
        "import numpy as np\n",
        "from utils.loss_funcs import *\n",
        "from utils.data_utils import define_actions\n",
        "from utils.h36_3d_viz import visualize\n",
        "import time\n",
        "\n",
        "import torch.nn.functional as F"
      ]
    },
    {
      "cell_type": "code",
      "execution_count": 6,
      "metadata": {
        "id": "m5-P9Yj-tfBC",
        "outputId": "167eb39e-4a16-486b-9e00-dff55ef886b1",
        "colab": {
          "base_uri": "https://localhost:8080/"
        }
      },
      "outputs": [
        {
          "output_type": "stream",
          "name": "stdout",
          "text": [
            "Using device: cuda - Type: Tesla T4\n"
          ]
        }
      ],
      "source": [
        "# Use GPU if available, otherwise stick with cpu\n",
        "\n",
        "device = torch.device('cuda' if torch.cuda.is_available() else 'cpu')\n",
        "print('Using device:', device,  '- Type:', torch.cuda.get_device_name(0))"
      ]
    },
    {
      "cell_type": "markdown",
      "metadata": {
        "id": "AsK9hMdiBXrU"
      },
      "source": [
        "## Data Loading and Preprocessing"
      ]
    },
    {
      "cell_type": "markdown",
      "metadata": {
        "id": "e-EC3XAqBXrV"
      },
      "source": [
        "For this homework, you will use [Human3.6M](https://vision.imar.ro/human3.6m/pami-h36m.pdf), which is a large-scale dataset of 3.6 million accurate 3D human poses acquired by recording the performance of five female and six male subjects under four different viewpoints. The dataset includes:\n",
        "- Synchronized image.\n",
        "- Human motion capture.\n",
        "- Time of flight (depth) data.\n",
        "- Accurate 3D body scans of all the subject actors involved.\n",
        "\n",
        "The dataset aims to provide diverse motions and poses encountered in typical human activities, with additional data to train realistic human sensing systems.\n",
        "\n",
        "![picture](https://drive.google.com/uc?export=view&id=1nyD1_F3r1ctexKFGDmhy2Q9SX_2Z_bpS)\n",
        "\n",
        "For this assignment, we will leverage the rich **motion data** (See in the figure above) provided by H3.6M to perform a task known as *motion prediction*. Motion prediction involves using historical motion data to forecast future movements. This task is fundamental in human-robot interaction, animation, and sports analytics applications."
      ]
    },
    {
      "cell_type": "markdown",
      "metadata": {
        "id": "JDVBcpLABXrV"
      },
      "source": [
        "### Data Variables\n",
        "\n",
        "Each created sequence has the shape (35, 17, 3), where:\n",
        "- Number of observed sequences and number of sequences to predict: $N_{obs}+N_{pred} = 10 + 25 = 35$;\n",
        "- Number of body joints to consider: $J=22$;\n",
        "- Spatial coordinates: $(x,y,z) = 3$.\n",
        "\n",
        "\n",
        "The original data provides high-resolution progressive scan videos at 50 Hz. However, the dataset has been downsampled to 25 Hz for research purposes. This means that 25 frames of motion data are provided per second.\n",
        "\n",
        "*Note: the figure above shows 18 joints, however the dataset contains 32. For this specific case we will consider 22 joints, ignoring some of the finer ones (e.g. foot tip, hand tip, etc)*\n"
      ]
    },
    {
      "cell_type": "code",
      "execution_count": 7,
      "metadata": {
        "id": "ZgNCWoUEBXrV"
      },
      "outputs": [],
      "source": [
        "# # Arguments to setup the datasets\n",
        "\n",
        "datas = 'h36m'                         # dataset name\n",
        "path = './data/h3.6m/h3.6m/dataset'\n",
        "\n",
        "input_n = 10                           # number of frames to train on (default=10)\n",
        "output_n = 25                          # number of frames to predict on\n",
        "input_dim = 3                          # dimensions of the input coordinates (default=3)\n",
        "skip_rate = 1                          # skip rate of frames\n",
        "joints_to_consider = 22\n",
        "\n",
        "#FLAGS FOR THE TRAINING\n",
        "mode = 'train'                         # choose either train or test mode\n",
        "\n",
        "batch_size_test = 8\n",
        "model_path = './checkpoints/'          # path to the model checkpoint file\n",
        "\n",
        "actions_to_consider_test = 'all'       # actions to test on.\n",
        "\n",
        "#the model name to save/load\n",
        "model_name = datas+'_3d_'+str(output_n)+'frames_ckpt'\n",
        "\n",
        "#FLAGS FOR THE VISUALIZATION\n",
        "actions_to_consider_viz = 'all'        # actions to visualize\n",
        "visualize_from = 'test'\n",
        "n_viz = 2"
      ]
    },
    {
      "cell_type": "markdown",
      "metadata": {
        "id": "WHrODi8VBXrW"
      },
      "source": [
        "Load Dataset\n",
        "\n",
        "*Note: It will take you ~ 5 minutes*"
      ]
    },
    {
      "cell_type": "code",
      "source": [
        "import warnings\n",
        "warnings.filterwarnings(\"ignore\", category=np.VisibleDeprecationWarning)"
      ],
      "metadata": {
        "id": "dOMMQbZtrNl2"
      },
      "execution_count": 8,
      "outputs": []
    },
    {
      "cell_type": "code",
      "execution_count": 9,
      "metadata": {
        "colab": {
          "base_uri": "https://localhost:8080/"
        },
        "id": "0GTflRxwBXrW",
        "outputId": "b4736d61-a5fc-4430-d71d-ccbeb3195266"
      },
      "outputs": [
        {
          "output_type": "stream",
          "name": "stdout",
          "text": [
            "Loading Train Dataset...\n",
            "Loading Validation Dataset...\n"
          ]
        }
      ],
      "source": [
        "# Load Data\n",
        "print('Loading Train Dataset...')\n",
        "dataset = datasets.Datasets(path,input_n,output_n,skip_rate, split=0)\n",
        "\n",
        "print('Loading Validation Dataset...')\n",
        "vald_dataset = datasets.Datasets(path,input_n,output_n,skip_rate, split=1)\n",
        "\n",
        "#! Note: Ignore warning:  \"VisibleDeprecationWarning: Creating an ndarray from ragged nested sequences\""
      ]
    },
    {
      "cell_type": "markdown",
      "metadata": {
        "id": "ZBDfLkXfBXrW"
      },
      "source": [
        "Following we create a torch dataloader that create the batches for each epoch."
      ]
    },
    {
      "cell_type": "code",
      "execution_count": 10,
      "metadata": {
        "id": "5RWNrUxIBXrW",
        "colab": {
          "base_uri": "https://localhost:8080/"
        },
        "outputId": "2ee5cbd7-957c-45ca-d640-e2b8b84d3d7a"
      },
      "outputs": [
        {
          "output_type": "stream",
          "name": "stdout",
          "text": [
            ">>> Training dataset length: 180077\n",
            ">>> Validation dataset length: 28110\n"
          ]
        }
      ],
      "source": [
        "batch_size=256\n",
        "\n",
        "print('>>> Training dataset length: {:d}'.format(dataset.__len__()))\n",
        "data_loader = DataLoader(dataset, batch_size=batch_size, shuffle=True, num_workers=0, pin_memory=True)#\n",
        "\n",
        "print('>>> Validation dataset length: {:d}'.format(vald_dataset.__len__()))\n",
        "vald_loader = DataLoader(vald_dataset, batch_size=batch_size, shuffle=True, num_workers=0, pin_memory=True)"
      ]
    },
    {
      "cell_type": "markdown",
      "metadata": {
        "id": "ZdFwJ4QuBXrX"
      },
      "source": [
        "## Model instantiation"
      ]
    },
    {
      "cell_type": "markdown",
      "metadata": {
        "id": "cv7XT2pDBXrX"
      },
      "source": [
        "\n",
        "Each sequence comprises an **observed** part to train the Encoder and a part that attempts to predict the **future** sequence, the Decoder.\n",
        "\n",
        "Generally, the standard setup plans to use the first 10 sequences of poses ($N_{obs}=10$) for the observation and the following 25 ($N_{pred} = 25$) for the prediction.\n"
      ]
    },
    {
      "cell_type": "markdown",
      "metadata": {
        "id": "YW7_ED1vBXrY"
      },
      "source": [
        "We create an instance of a custom Spatio-Temporal transformer with the chosen configuration.\n",
        "\n",
        "(*Note: explore the model in ./models/sttr/sttformer.py*)\n",
        "\n",
        "Then we allocate it to the GPU for forward and backward accelerated computation."
      ]
    },
    {
      "cell_type": "code",
      "execution_count": 11,
      "metadata": {
        "id": "9bDpLWl6BXrY",
        "colab": {
          "base_uri": "https://localhost:8080/"
        },
        "outputId": "dc7ae84d-e79a-4716-af70-0b7d17525313"
      },
      "outputs": [
        {
          "output_type": "stream",
          "name": "stdout",
          "text": [
            "Using device: cuda\n",
            "total number of parameters of the network is: 26859\n"
          ]
        }
      ],
      "source": [
        "from models.sttr.sttformer import Model\n",
        "\n",
        "device = torch.device('cuda' if torch.cuda.is_available() else 'cpu')\n",
        "print('Using device: %s'%device)\n",
        "\n",
        "n_heads = 1\n",
        "\n",
        "model = Model(num_joints=joints_to_consider,\n",
        "              num_frames=input_n, num_frames_out=output_n, num_heads=n_heads,\n",
        "              num_channels=3, kernel_size=[3,3], use_pes=True).to(device)\n",
        "\n",
        "print('total number of parameters of the network is: '+str(sum(p.numel() for p in model.parameters() if p.requires_grad)))"
      ]
    },
    {
      "cell_type": "markdown",
      "metadata": {
        "id": "xBtix_WjBXrY"
      },
      "source": [
        "## Optimizer and Scheduler"
      ]
    },
    {
      "cell_type": "markdown",
      "metadata": {
        "id": "1XtIPG_IBXrY"
      },
      "source": [
        "As we embark on training deep learning models for motion prediction using the H3.6M dataset, it's essential to recognize several key parameters and components that significantly impact the training phase:\n",
        "\n",
        "- **Learning Rate:** This parameter determines the convergence speed during optimization.\n",
        "\n",
        "- **Batch Size:** It influences model generalization and training efficiency.\n",
        "\n",
        "- **Number of Epochs:** The number of training iterations affects model learning.\n",
        "\n",
        "- **Loss Function:** The choice of loss function directly affects learning and final performance.\n",
        "\n",
        "- **Optimizer:** The optimization algorithm used (e.g., Adam, SGD) impacts gradient descent during training.\n",
        "\n",
        "- **Milestones and Gamma:** These parameters control learning rate schedules, allowing for adaptive adjustments during training.\n",
        "\n",
        "- **Weight Decay:** It regulates the impact of model parameters during optimization.\n",
        "\n",
        "- **Scheduler:** Scheduler strategies (e.g., StepLR, ReduceLROnPlateau) manage learning rate adaptation during training."
      ]
    },
    {
      "cell_type": "code",
      "execution_count": 12,
      "metadata": {
        "id": "ILUrD5v4BXrZ"
      },
      "outputs": [],
      "source": [
        "# Arguments to setup the optimizer\n",
        "\n",
        "lr = 1e-01                   # learning rate\n",
        "use_scheduler = True         # use MultiStepLR scheduler\n",
        "milestones = [10, 30]         # the epochs after which the learning rate is adjusted by gamma\n",
        "gamma = 0.1                  # gamma correction to the learning rate, after reaching the milestone epochs\n",
        "weight_decay = 1e-05         # weight decay (L2 penalty)\n",
        "\n",
        "optimizer = optim.Adam(model.parameters(), lr = lr, weight_decay = weight_decay)\n",
        "\n",
        "if use_scheduler:\n",
        "    scheduler = optim.lr_scheduler.MultiStepLR(optimizer, milestones=milestones, gamma=gamma)"
      ]
    },
    {
      "cell_type": "code",
      "execution_count": 13,
      "metadata": {
        "id": "9lfkuKP1BXra"
      },
      "outputs": [],
      "source": [
        "clip_grad= None   # select max norm to clip gradients\n",
        "\n",
        "# Argument for training\n",
        "\n",
        "n_epochs = 41\n",
        "log_step = 200"
      ]
    },
    {
      "cell_type": "markdown",
      "metadata": {
        "id": "fTbGwJFtBXra"
      },
      "source": [
        "## Train and Evaluation Loop"
      ]
    },
    {
      "cell_type": "markdown",
      "metadata": {
        "id": "uBT0Z7FLBXrb"
      },
      "source": [
        "The **loss** and **metric** used during training and evaluation respectively, compare the predicted joint positions to ground truth joint positions for all frames, which is typically referred to as the **Average Mean Per\n",
        "Joint Position Error (A-MPJPE)** can be seen as an $L_2$. This loss quantifies the dissimilarity between the predicted and ground truth joint positions by measuring the squared Euclidean distance between corresponding joint positions.\n",
        "\n",
        "\\begin{align*}\n",
        "A-MPJPE &= \\frac{1}{N_{pred}} \\sum_{i=1}^{N_{pred}} \\left(\\frac{1}{J} \\sum_{j=1}^{J} \\left\\| P_{\\text{predicted}_{t,j}} - P_{\\text{gt}_{t,j}} \\right\\|^2\\right)\n",
        "\\end{align*}\n",
        "\n",
        "$$where:$$\n",
        "\n",
        "\\begin{align*}\n",
        "P_{\\text{predicted}} &: \\text{Set of predicted joint positions estimated by the model.} \\\\\n",
        "P_{\\text{gt}} &: \\text{Corresponding set of ground truth joint positions.} \\\\\n",
        "\\end{align*}"
      ]
    },
    {
      "cell_type": "markdown",
      "metadata": {
        "id": "lriDKsUoBXrb"
      },
      "source": [
        "*Note: If you restart the training for any reason, remember to instantiate the model and the optimizer again. This will avoid continuing the training with the initialized weights of the previous one*\n"
      ]
    },
    {
      "cell_type": "markdown",
      "metadata": {
        "id": "3hiF0f6oBXrb"
      },
      "source": [
        "### Save the model and plot the losses (1 Point)\n",
        "\n",
        "**Objective:** In this exercise, you will practice implementing a code snippet to save your deep learning model's checkpoints and visualize the training and validation loss on the same plot every 5 epochs during model training.\n",
        "\n",
        "Your task is to implement the following:\n",
        "\n",
        "- Set up a mechanism to save the model's checkpoints (weights and architecture) during training. These checkpoints should be saved periodically, say, **every 5 epochs**.\n",
        "\n",
        "- Create a plot displaying the training and validation losses on the same graph. The x-axis should represent the number of epochs, and the y-axis should represent the loss values. The training and validation losses should be plotted as separate lines on the same graph.\n",
        "\n",
        "- Ensure that the code saves the model's checkpoints in a specified directory, including the model's architecture and weights, and that the loss plot is displayed.\n",
        "\n",
        "Analyze the loss plot to gain insights into how your model is learning over time and whether there are any signs of overfitting or underfitting.\n",
        "\n",
        "*Note: see the Pytorch Documentation on how to save your model's checkpoints.*\n"
      ]
    },
    {
      "cell_type": "code",
      "source": [
        "from IPython.display import clear_output"
      ],
      "metadata": {
        "id": "WzKzk3hSwbLj"
      },
      "execution_count": 14,
      "outputs": []
    },
    {
      "cell_type": "code",
      "source": [
        "def do_my_plot_and_save(my_model, train_loss, val_loss, path_to_save_model, model_name, this_epoch):\n",
        "\n",
        "    #if not exists(path_to_save_model): makedirs(path_to_save_model)\n",
        "    if not exists(path_to_save_model+ \"plots_dir/\"): makedirs(path_to_save_model + \"plots_dir/\")\n",
        "\n",
        "    torch.save(my_model.state_dict(), path_to_save_model + model_name + \"_epoch_\"+str(this_epoch+1)+\".pt\")\n",
        "\n",
        "    fig = plt.figure(figsize=(5, 2))\n",
        "    fig.tight_layout(pad = 2)\n",
        "\n",
        "    x_lenght = list(range(1, len(train_loss)+1))\n",
        "\n",
        "    plt.plot(x_lenght , train_loss, 'r', label = 'Train loss')\n",
        "    plt.plot(x_lenght , val_loss, 'g', label =' Val loss')\n",
        "\n",
        "    plt.title('\\n Loss History \\n', fontsize=14)\n",
        "    plt.xlabel('n_of_epochs \\n'); plt.ylabel('loss')\n",
        "\n",
        "    t = 1 if this_epoch < 11 else 2 if this_epoch<21 else 3\n",
        "    plt.xticks(list(range(1, len(train_loss)+1, t)));\n",
        "    plt.grid(linewidth=0.4); plt.legend()\n",
        "\n",
        "    plt.savefig(path_to_save_model + \"plots_dir/\" +\"loss_epoch_\"+str(this_epoch+1)+\".png\", bbox_inches='tight')\n",
        "    plt.show()"
      ],
      "metadata": {
        "id": "FaIreUKWVP9B"
      },
      "execution_count": 15,
      "outputs": []
    },
    {
      "cell_type": "code",
      "execution_count": 16,
      "metadata": {
        "id": "oQUGhkJPuoF8"
      },
      "outputs": [],
      "source": [
        "def train(data_loader,vald_loader, path_to_save_model=None):\n",
        "\n",
        "  train_loss = []\n",
        "  val_loss = []\n",
        "  val_loss_best = 1000\n",
        "\n",
        "  dim_used = np.array([6, 7, 8, 9, 10, 11, 12, 13, 14, 15, 16, 17, 21, 22, 23, 24, 25,\n",
        "                    26, 27, 28, 29, 30, 31, 32, 36, 37, 38, 39, 40, 41, 42, 43, 44, 45,\n",
        "                    46, 47, 51, 52, 53, 54, 55, 56, 57, 58, 59, 63, 64, 65, 66, 67, 68,\n",
        "                    75, 76, 77, 78, 79, 80, 81, 82, 83, 87, 88, 89, 90, 91, 92])\n",
        "\n",
        "  for epoch in range(n_epochs-1):\n",
        "\n",
        "      running_loss=0\n",
        "      n=0\n",
        "      model.train()\n",
        "\n",
        "      for cnt,batch in enumerate(data_loader):\n",
        "\n",
        "          batch=batch.float().to(device)\n",
        "          batch_dim=batch.shape[0]\n",
        "          n+=batch_dim\n",
        "\n",
        "          sequences_train=batch[:, 0:input_n, dim_used].view(-1,input_n,len(dim_used)//3,3).permute(0,3,1,2)\n",
        "          sequences_gt=batch[:, input_n:input_n+output_n, dim_used].view(-1,output_n,len(dim_used)//3,3)\n",
        "\n",
        "          optimizer.zero_grad()\n",
        "          sequences_predict=model(sequences_train).view(-1, output_n, joints_to_consider, 3)\n",
        "\n",
        "          loss=mpjpe_error(sequences_predict,sequences_gt)\n",
        "\n",
        "          #if cnt % log_step == 0:\n",
        "          #  print('[Epoch: %d, Iteration: %5d]  training loss: %.3f' %(epoch + 1, cnt + 1, loss.item()))\n",
        "\n",
        "          loss.backward()\n",
        "\n",
        "          if clip_grad is not None:\n",
        "            torch.nn.utils.clip_grad_norm_(model.parameters(),clip_grad)\n",
        "\n",
        "          optimizer.step()\n",
        "          running_loss += loss*batch_dim\n",
        "\n",
        "      train_loss.append(running_loss.detach().cpu()/n)\n",
        "\n",
        "      model.eval()\n",
        "      with torch.no_grad():\n",
        "\n",
        "          running_loss=0\n",
        "          n=0\n",
        "\n",
        "          for cnt,batch in enumerate(vald_loader):\n",
        "\n",
        "              batch=batch.float().to(device)\n",
        "              batch_dim=batch.shape[0]\n",
        "              n+=batch_dim\n",
        "\n",
        "              sequences_train=batch[:, 0:input_n, dim_used].view(-1,input_n,len(dim_used)//3,3).permute(0,3,1,2)\n",
        "              sequences_gt=batch[:, input_n:input_n+output_n, dim_used].view(-1,output_n,len(dim_used)//3,3)\n",
        "\n",
        "              sequences_predict=model(sequences_train).view(-1, output_n, joints_to_consider, 3)\n",
        "              loss=mpjpe_error(sequences_predict,sequences_gt)\n",
        "\n",
        "              if cnt % log_step == 0:\n",
        "                        print('[Epoch: %d, Iteration: %5d]  validation loss: %.3f' %(epoch + 1, cnt + 1, loss.item()))\n",
        "\n",
        "              running_loss+=loss*batch_dim\n",
        "\n",
        "          val_loss.append(running_loss.detach().cpu()/n)\n",
        "\n",
        "          if running_loss/n < val_loss_best:\n",
        "            val_loss_best = running_loss/n\n",
        "\n",
        "      if use_scheduler:\n",
        "        scheduler.step()\n",
        "\n",
        "      # save and plot model every 5 epochs\n",
        "      # Insert your code below. Use the argument path_to_save_model to save the model to the path specified.\n",
        "\n",
        "      #if save_and_plot and epoch in [4 + 5 * i for i in range(n_epochs)]:\n",
        "      if save_and_plot and epoch in list(range(4, n_epochs, 5)):\n",
        "\n",
        "        #clear_output(wait=True)\n",
        "        do_my_plot_and_save(model, train_loss, val_loss, path_to_save_model, model_name, epoch )"
      ]
    },
    {
      "cell_type": "code",
      "execution_count": 17,
      "metadata": {
        "id": "uPWGWLHTBXrd",
        "outputId": "2a06261d-2f63-4c95-c033-0197541e1bea",
        "colab": {
          "base_uri": "https://localhost:8080/",
          "height": 1000
        }
      },
      "outputs": [
        {
          "output_type": "stream",
          "name": "stdout",
          "text": [
            "[Epoch: 1, Iteration:     1]  validation loss: 104.957\n",
            "[Epoch: 2, Iteration:     1]  validation loss: 97.745\n",
            "[Epoch: 3, Iteration:     1]  validation loss: 90.604\n",
            "[Epoch: 4, Iteration:     1]  validation loss: 90.704\n",
            "[Epoch: 5, Iteration:     1]  validation loss: 85.527\n"
          ]
        },
        {
          "output_type": "display_data",
          "data": {
            "text/plain": [
              "<Figure size 500x200 with 1 Axes>"
            ],
            "image/png": "[encoded data removed]"
          },
          "metadata": {}
        },
        {
          "output_type": "stream",
          "name": "stdout",
          "text": [
            "[Epoch: 6, Iteration:     1]  validation loss: 82.927\n",
            "[Epoch: 7, Iteration:     1]  validation loss: 89.549\n",
            "[Epoch: 8, Iteration:     1]  validation loss: 84.672\n",
            "[Epoch: 9, Iteration:     1]  validation loss: 81.153\n",
            "[Epoch: 10, Iteration:     1]  validation loss: 83.758\n"
          ]
        },
        {
          "output_type": "display_data",
          "data": {
            "text/plain": [
              "<Figure size 500x200 with 1 Axes>"
            ],
            "image/png": "[encoded data removed]"
          },
          "metadata": {}
        },
        {
          "output_type": "stream",
          "name": "stdout",
          "text": [
            "[Epoch: 11, Iteration:     1]  validation loss: 81.305\n",
            "[Epoch: 12, Iteration:     1]  validation loss: 80.058\n",
            "[Epoch: 13, Iteration:     1]  validation loss: 78.115\n",
            "[Epoch: 14, Iteration:     1]  validation loss: 76.808\n",
            "[Epoch: 15, Iteration:     1]  validation loss: 77.989\n"
          ]
        },
        {
          "output_type": "display_data",
          "data": {
            "text/plain": [
              "<Figure size 500x200 with 1 Axes>"
            ],
            "image/png": "[encoded data removed]"
          },
          "metadata": {}
        },
        {
          "output_type": "stream",
          "name": "stdout",
          "text": [
            "[Epoch: 16, Iteration:     1]  validation loss: 78.398\n",
            "[Epoch: 17, Iteration:     1]  validation loss: 79.764\n",
            "[Epoch: 18, Iteration:     1]  validation loss: 76.057\n",
            "[Epoch: 19, Iteration:     1]  validation loss: 77.657\n",
            "[Epoch: 20, Iteration:     1]  validation loss: 75.044\n"
          ]
        },
        {
          "output_type": "display_data",
          "data": {
            "text/plain": [
              "<Figure size 500x200 with 1 Axes>"
            ],
            "image/png": "[encoded data removed]"
          },
          "metadata": {}
        },
        {
          "output_type": "stream",
          "name": "stdout",
          "text": [
            "[Epoch: 21, Iteration:     1]  validation loss: 76.838\n",
            "[Epoch: 22, Iteration:     1]  validation loss: 75.372\n",
            "[Epoch: 23, Iteration:     1]  validation loss: 79.315\n",
            "[Epoch: 24, Iteration:     1]  validation loss: 76.012\n",
            "[Epoch: 25, Iteration:     1]  validation loss: 81.573\n"
          ]
        },
        {
          "output_type": "display_data",
          "data": {
            "text/plain": [
              "<Figure size 500x200 with 1 Axes>"
            ],
            "image/png": "[encoded data removed]"
          },
          "metadata": {}
        },
        {
          "output_type": "stream",
          "name": "stdout",
          "text": [
            "[Epoch: 26, Iteration:     1]  validation loss: 80.145\n",
            "[Epoch: 27, Iteration:     1]  validation loss: 76.898\n",
            "[Epoch: 28, Iteration:     1]  validation loss: 81.565\n",
            "[Epoch: 29, Iteration:     1]  validation loss: 75.696\n",
            "[Epoch: 30, Iteration:     1]  validation loss: 78.167\n"
          ]
        },
        {
          "output_type": "display_data",
          "data": {
            "text/plain": [
              "<Figure size 500x200 with 1 Axes>"
            ],
            "image/png": "[encoded data removed]"
          },
          "metadata": {}
        },
        {
          "output_type": "stream",
          "name": "stdout",
          "text": [
            "[Epoch: 31, Iteration:     1]  validation loss: 77.965\n",
            "[Epoch: 32, Iteration:     1]  validation loss: 77.512\n",
            "[Epoch: 33, Iteration:     1]  validation loss: 75.462\n",
            "[Epoch: 34, Iteration:     1]  validation loss: 78.001\n",
            "[Epoch: 35, Iteration:     1]  validation loss: 74.347\n"
          ]
        },
        {
          "output_type": "display_data",
          "data": {
            "text/plain": [
              "<Figure size 500x200 with 1 Axes>"
            ],
            "image/png": "[encoded data removed]"
          },
          "metadata": {}
        },
        {
          "output_type": "stream",
          "name": "stdout",
          "text": [
            "[Epoch: 36, Iteration:     1]  validation loss: 82.138\n",
            "[Epoch: 37, Iteration:     1]  validation loss: 79.475\n",
            "[Epoch: 38, Iteration:     1]  validation loss: 77.118\n",
            "[Epoch: 39, Iteration:     1]  validation loss: 79.895\n",
            "[Epoch: 40, Iteration:     1]  validation loss: 76.904\n"
          ]
        },
        {
          "output_type": "display_data",
          "data": {
            "text/plain": [
              "<Figure size 500x200 with 1 Axes>"
            ],
            "image/png": "[encoded data removed]"
          },
          "metadata": {}
        }
      ],
      "source": [
        "# Save the model and plot the loss\n",
        "# Change to True if you want to save the model and plot the loss\n",
        "save_and_plot = True\n",
        "\n",
        "# launch training\n",
        "train(data_loader,vald_loader, path_to_save_model=model_path)\n",
        "\n",
        "# plots and model checkpoints are saved in \"checkpoints\" directory"
      ]
    },
    {
      "cell_type": "markdown",
      "metadata": {
        "id": "RVcwUPM6BXrd"
      },
      "source": [
        "## Test Loop"
      ]
    },
    {
      "cell_type": "markdown",
      "metadata": {
        "id": "lrR1AEWoBXre"
      },
      "source": [
        "After training and validation, the test loop is the final phase that evaluates the model's performance on an entirely independent dataset known as the test dataset. This dataset is distinct from the training and validation data, ensuring unbiased assessment. The test loop provides a reliable estimate of how well the model will perform in real-world scenarios, confirming that any improvements observed during training and validation are not due to overfitting or chance. It's a crucial step before deploying the model in practical applications."
      ]
    },
    {
      "cell_type": "code",
      "execution_count": 18,
      "metadata": {
        "id": "AjwwPPMNxjJ2"
      },
      "outputs": [],
      "source": [
        "def test(ckpt_path=None):\n",
        "\n",
        "    model.load_state_dict(torch.load(ckpt_path))\n",
        "    print('\\n ...model loaded \\n')\n",
        "    model.eval()\n",
        "    accum_loss = 0\n",
        "    n_batches = 0     # number of batches for all the sequences\n",
        "    actions = define_actions(actions_to_consider_test)\n",
        "    dim_used = np.array([6, 7, 8, 9, 10, 11, 12, 13, 14, 15, 16, 17, 21, 22, 23, 24, 25,\n",
        "                        26, 27, 28, 29, 30, 31, 32, 36, 37, 38, 39, 40, 41, 42, 43, 44, 45,\n",
        "                        46, 47, 51, 52, 53, 54, 55, 56, 57, 58, 59, 63, 64, 65, 66, 67, 68,\n",
        "                        75, 76, 77, 78, 79, 80, 81, 82, 83, 87, 88, 89, 90, 91, 92])\n",
        "    # joints at same loc\n",
        "    joint_to_ignore = np.array([16, 20, 23, 24, 28, 31])\n",
        "    index_to_ignore = np.concatenate((joint_to_ignore * 3, joint_to_ignore * 3 + 1, joint_to_ignore * 3 + 2))\n",
        "    joint_equal = np.array([13, 19, 22, 13, 27, 30])\n",
        "    index_to_equal = np.concatenate((joint_equal * 3, joint_equal * 3 + 1, joint_equal * 3 + 2))\n",
        "\n",
        "    totalll=0\n",
        "    counter=0\n",
        "\n",
        "    for action in actions:\n",
        "\n",
        "      running_loss=0\n",
        "      n=0\n",
        "      dataset_test = datasets.Datasets(path, input_n, output_n, skip_rate, split=2, actions=[action])\n",
        "      #print('>>> test action for sequences: {:d}'.format(dataset_test.__len__()))\n",
        "\n",
        "      test_loader = DataLoader(dataset_test, batch_size=batch_size_test, shuffle=False, num_workers=0, pin_memory=True)\n",
        "\n",
        "      for cnt,batch in enumerate(test_loader):\n",
        "        with torch.no_grad():\n",
        "\n",
        "          batch=batch.to(device)\n",
        "          batch_dim=batch.shape[0]\n",
        "          n+=batch_dim\n",
        "\n",
        "          all_joints_seq=batch.clone()[:, input_n:input_n+output_n,:]\n",
        "\n",
        "          sequences_train=batch[:, 0:input_n, dim_used].view(-1,input_n,len(dim_used)//3,3).permute(0,3,1,2)\n",
        "          sequences_gt=batch[:, input_n:input_n+output_n, :]\n",
        "\n",
        "          running_time = time.time()\n",
        "          #sequences_predict = model(sequences_train)\n",
        "          sequences_predict = model(sequences_train).view(-1, output_n, joints_to_consider, 3)\n",
        "\n",
        "          totalll += time.time()-running_time\n",
        "          counter += 1\n",
        "\n",
        "          sequences_predict = sequences_predict.contiguous().view(-1,output_n,len(dim_used))\n",
        "\n",
        "          all_joints_seq[:,:,dim_used] = sequences_predict\n",
        "          all_joints_seq[:,:,index_to_ignore] = all_joints_seq[:,:,index_to_equal]\n",
        "\n",
        "          loss = mpjpe_error(all_joints_seq.view(-1,output_n,32,3),sequences_gt.view(-1,output_n,32,3))\n",
        "          running_loss += loss*batch_dim\n",
        "          accum_loss += loss*batch_dim\n",
        "\n",
        "      #print('loss at test subject for action : '+str(action)+ ' is: '+ str(running_loss/n))\n",
        "      print(str(action),': ', str(np.round((running_loss/n).item(),1)))\n",
        "      n_batches += n\n",
        "\n",
        "    print('\\nAverage: '+str(np.round((accum_loss/n_batches).item(),1)))\n",
        "    print('Prediction time: ', totalll/counter)\n"
      ]
    },
    {
      "cell_type": "markdown",
      "metadata": {
        "id": "e2TrFIWDBXre"
      },
      "source": [
        "*Note: Your results should be better than 95 millimiters on average*"
      ]
    },
    {
      "cell_type": "code",
      "execution_count": 20,
      "metadata": {
        "id": "CCt0vtOkvCxy",
        "colab": {
          "base_uri": "https://localhost:8080/"
        },
        "outputId": "b158e429-e702-47b0-cc76-657cfd6ded1b"
      },
      "outputs": [
        {
          "output_type": "stream",
          "name": "stdout",
          "text": [
            "\n",
            " ...model loaded \n",
            "\n",
            "walking :  60.6\n",
            "eating :  58.0\n",
            "smoking :  58.8\n",
            "discussion :  86.6\n",
            "directions :  77.7\n",
            "greeting :  100.6\n",
            "phoning :  72.9\n",
            "posing :  114.3\n",
            "purchases :  100.6\n",
            "sitting :  85.1\n",
            "sittingdown :  105.7\n",
            "takingphoto :  82.6\n",
            "waiting :  79.8\n",
            "walkingdog :  109.1\n",
            "walkingtogether :  59.0\n",
            "\n",
            "Average: 83.4\n",
            "Prediction time:  0.008643986781438191\n"
          ]
        }
      ],
      "source": [
        "# Change the epoch according to the validation curve :\n",
        "\n",
        "ckpt_path = f'./checkpoints/h36m_3d_25frames_ckpt_epoch_{35}.pt'\n",
        "test(ckpt_path)"
      ]
    },
    {
      "cell_type": "markdown",
      "metadata": {
        "id": "iELEXXORBXrf"
      },
      "source": [
        "## Human Pose Visualization  (**2 Points**)"
      ]
    },
    {
      "cell_type": "markdown",
      "metadata": {
        "id": "6dShZAp9BXrg"
      },
      "source": [
        "The qualitative results are as important as the quantitative ones. In this section, you will visualize and compare the predicted poses with the ground truth ones.\n",
        "For simplicity, you will visualize only the first predicted pose and the ground truth.\n",
        "\n",
        "Ideally, the same plot should show the predicted pose in red and the ground truth one in green.\n",
        "\n",
        "*Note: you will find which nodes are connected in the file ./models/skeleton_connection.py*"
      ]
    },
    {
      "cell_type": "code",
      "source": [
        "# Insert your code below\n",
        "\n",
        "visualize(input_n, output_n,\n",
        "          visualize_from, path, model,\n",
        "          device, n_viz, skip_rate,\n",
        "          actions_to_consider_viz, directory = \"images_dir\")\n"
      ],
      "metadata": {
        "id": "vnaVUioOeHW1",
        "outputId": "e068493f-6e0f-4824-d655-9ba26e35ccf3",
        "colab": {
          "base_uri": "https://localhost:8080/",
          "height": 327,
          "referenced_widgets": [
            "652b2c1e922a4da586e8ab9634a7fe26",
            "97c9b3a0be494455a980708b4a4cdda9",
            "bc8352e8e9994aa6a7105ea8842992e3",
            "7b7eccc0100f473e8587802374e0d39a",
            "b36078025cb84257bed7414e56395b35",
            "4b8e46d06f5547a891841273794cd88a",
            "082ca19343ed48a785b89b24613df3aa",
            "c13008cf5e1b4d71b949566922de0673",
            "76ba5c177ba34a7e9922c084005bc8d2",
            "11ae74e1cdd1489191592f062914ce1d",
            "9540e79b84c444f696072a1ace1450b4"
          ]
        }
      },
      "execution_count": 24,
      "outputs": [
        {
          "output_type": "display_data",
          "data": {
            "text/plain": [
              "  0%|          | 0/15 [00:00<?, ?it/s]"
            ],
            "application/vnd.jupyter.widget-view+json": {
              "version_major": 2,
              "version_minor": 0,
              "model_id": "652b2c1e922a4da586e8ab9634a7fe26"
            }
          },
          "metadata": {}
        },
        {
          "output_type": "stream",
          "name": "stdout",
          "text": [
            " ... doing action = walking\n",
            " ... doing action = eating\n",
            " ... doing action = smoking\n",
            " ... doing action = discussion\n",
            " ... doing action = directions\n",
            " ... doing action = greeting\n",
            " ... doing action = phoning\n",
            " ... doing action = posing\n",
            " ... doing action = purchases\n",
            " ... doing action = sitting\n",
            " ... doing action = sittingdown\n",
            " ... doing action = takingphoto\n",
            " ... doing action = waiting\n",
            " ... doing action = walkingdog\n",
            " ... doing action = walkingtogether\n"
          ]
        },
        {
          "output_type": "execute_result",
          "data": {
            "text/plain": [
              "<contextlib.ExitStack at 0x7f290c5899f0>"
            ]
          },
          "metadata": {},
          "execution_count": 24
        }
      ]
    },
    {
      "cell_type": "markdown",
      "metadata": {
        "id": "Mfh69SDiBXrh"
      },
      "source": [
        "## Report and Parameter Fine-Tuning Analysis  (**4 Points**)"
      ]
    },
    {
      "cell_type": "markdown",
      "metadata": {
        "id": "kOcLSDxkBXrh"
      },
      "source": [
        "**Objective:** In this exercise, you will analyze the results obtained from a deep learning model you previously trained and perform parameter fine-tuning to optimize its performance. The key considerations are learning rate, milestones, and weight decay. **You will also use tables and plots to visualize and interpret the outcomes.**\n",
        "\n",
        "**Instructions:**\n",
        "\n",
        "1. **Analysis:** Analyze the generated report and answer the following questions:\n",
        "   - Is there evidence of overfitting or underfitting in the initial training results?\n",
        "   - Are there fluctuations in training and validation loss or accuracy? If so, what might be causing them?\n",
        "   - What can you infer from the initial learning rate, milestones, and weight decay settings?\n",
        "\n",
        "2. **Parameter Fine-Tuning:** Based on your analysis, perform parameter fine-tuning to optimize model performance. Adjust the following parameters:\n",
        "   - **Learning Rate:** Experiment with different learning rates (higher and lower values) to find an optimal rate.\n",
        "   - **Milestones:** Modify the milestone values for adjusting the learning rate schedule.\n",
        "   - **Weight Decay:** Explore different weight decay values.\n",
        "   \n",
        "\n",
        "3. **Re-Training:** Train the model with the adjusted hyperparameters. Record the training progress and generate a new report, including performance metrics and line plots as before.\n",
        "\n",
        "4. **Final Analysis:** Analyze the results of the fine-tuned model and compare them with the initial training. Answer the following questions:\n",
        "   - Has parameter fine-tuning improved model performance?\n",
        "   - Did it mitigate overfitting or underfitting issues?\n",
        "   - What can you conclude about the optimal hyperparameters for this task?\n"
      ]
    },
    {
      "cell_type": "code",
      "source": [
        "model= Model(num_joints=joints_to_consider,\n",
        "              num_frames=input_n, num_frames_out=output_n, num_heads=n_heads,\n",
        "              num_channels=3, kernel_size=[3,3], use_pes=True).to(device)\n",
        "\n",
        "print('total number of parameters of the network is: '+str(sum(p.numel() for p in model.parameters() if p.requires_grad)))"
      ],
      "metadata": {
        "colab": {
          "base_uri": "https://localhost:8080/"
        },
        "id": "LfIELM2Mwo-b",
        "outputId": "92e09449-695b-4348-a2c8-034907352109"
      },
      "execution_count": 25,
      "outputs": [
        {
          "output_type": "stream",
          "name": "stdout",
          "text": [
            "total number of parameters of the network is: 26859\n"
          ]
        }
      ]
    },
    {
      "cell_type": "code",
      "source": [
        "# Arguments to setup the optimizer\n",
        "\n",
        "lr = 1e-01                   # learning rate\n",
        "milestones = [10, 30]         # the epochs after which the learning rate is adjusted by gamma\n",
        "weight_decay = 1e-05         # weight decay (L2 penalty)\n",
        "\n",
        "optimizer = optim.Adam(model.parameters(), lr = lr, weight_decay = weight_decay)\n",
        "\n",
        "use_scheduler = True         # use MultiStepLR scheduler\n",
        "if use_scheduler:\n",
        "    scheduler = optim.lr_scheduler.MultiStepLR(optimizer, milestones=milestones, gamma=gamma)\n",
        "\n",
        "clip_grad= None   # select max norm to clip gradients\n",
        "\n",
        "# Argument for training\n",
        "\n",
        "n_epochs = 41\n",
        "log_step = 200"
      ],
      "metadata": {
        "id": "hKKZd1bYwHb6"
      },
      "execution_count": 26,
      "outputs": []
    },
    {
      "cell_type": "code",
      "source": [
        "# Save the model and plot the loss\n",
        "# Change to True if you want to save the model and plot the loss\n",
        "save_and_plot = True\n",
        "\n",
        "# launch training\n",
        "# train(data_loader, vald_loader, path_to_save_model='./checkpoints_fine_tuned/')"
      ],
      "metadata": {
        "id": "JPoWbsf5xOCV"
      },
      "execution_count": 27,
      "outputs": []
    },
    {
      "cell_type": "markdown",
      "metadata": {
        "id": "hi3ybeUnBXrh"
      },
      "source": [
        "## Calculating MPJPE for a Specific Frame  (**2 Points**)"
      ]
    },
    {
      "cell_type": "markdown",
      "metadata": {
        "id": "QscgEyYVBXrh"
      },
      "source": [
        "\n",
        "In this exercise, you will calculate the Mean Per Joint Position Error (MPJPE) for a specific frame. This skill is valuable for assessing the accuracy of your model's predictions at a particular moment.\n",
        "\n",
        "\\begin{align*}\n",
        "\\text{MPJPE}_t = \\frac{1}{N} \\sum_{j=1}^{J} \\left\\| P_{\\text{predicted}_{t,j}} - P_{\\text{gt}_{t,j}} \\right\\|\n",
        "\\end{align*}\n",
        "\n",
        "Fixed the frame $t$, you will calculate the MPJPE for the predicted pose and the ground truth. Steps:\n",
        "\n",
        "- Write a function that takes in input the predicted pose and the ground truth one and returns the MPJPE for a number of frames $t$. (e.g. the output could be a dictionary with the frame number as key and the MPJPE as value)\n",
        "- Rewrite the test function to use the function you just wrote.\n",
        "- Run the newly created test function for $t=[5, 10, 15, 25]$ and report the results in a table and plot.\n",
        "\n",
        "\n",
        "\n"
      ]
    },
    {
      "cell_type": "code",
      "execution_count": 28,
      "metadata": {
        "id": "mYQK7SB2BXri"
      },
      "outputs": [],
      "source": [
        "def mpjpe_per_frame(sequences_predict, sequences_gt, frames_to_consider):\n",
        "\n",
        "    # Insert your code below\n",
        "\n",
        "    mpjpe_diz = {}\n",
        "\n",
        "    #print(f\"predicted.shape: {sequences_predict.shape}\")\n",
        "    #print(f\"ground_true.shape : {sequences_gt.shape}\")\n",
        "\n",
        "    for frame_index in frames_to_consider:\n",
        "\n",
        "        predicted_frame = sequences_predict[:, frame_index-1, :, :]\n",
        "        gt_frame = sequences_gt[:, frame_index-1, :, :]\n",
        "\n",
        "        joint_distances = torch.norm(predicted_frame - gt_frame, dim=1, p=1)\n",
        "\n",
        "        mpjpe_frame = torch.mean(joint_distances)\n",
        "        mpjpe_diz[frame_index] = mpjpe_frame.cpu()\n",
        "\n",
        "    return mpjpe_diz"
      ]
    },
    {
      "cell_type": "code",
      "execution_count": 29,
      "metadata": {
        "id": "w0arCQrDBXri"
      },
      "outputs": [],
      "source": [
        "def test_per_frame(ckpt_path=None):\n",
        "\n",
        "    model.load_state_dict(torch.load(ckpt_path))\n",
        "    print('\\n ...model loaded \\n')\n",
        "    model.eval()\n",
        "\n",
        "    accum_loss=0\n",
        "    n_batches=0 # number of batches for all the sequences\n",
        "    actions=define_actions(actions_to_consider_test)\n",
        "    dim_used = np.array([6, 7, 8, 9, 10, 11, 12, 13, 14, 15, 16, 17, 21, 22, 23, 24, 25,\n",
        "                        26, 27, 28, 29, 30, 31, 32, 36, 37, 38, 39, 40, 41, 42, 43, 44, 45,\n",
        "                        46, 47, 51, 52, 53, 54, 55, 56, 57, 58, 59, 63, 64, 65, 66, 67, 68,\n",
        "                        75, 76, 77, 78, 79, 80, 81, 82, 83, 87, 88, 89, 90, 91, 92])\n",
        "    # joints at same loc\n",
        "    joint_to_ignore = np.array([16, 20, 23, 24, 28, 31])\n",
        "    index_to_ignore = np.concatenate((joint_to_ignore * 3, joint_to_ignore * 3 + 1, joint_to_ignore * 3 + 2))\n",
        "    joint_equal = np.array([13, 19, 22, 13, 27, 30])\n",
        "    index_to_equal = np.concatenate((joint_equal * 3, joint_equal * 3 + 1, joint_equal * 3 + 2))\n",
        "\n",
        "    totalll = 0\n",
        "    counter = 0\n",
        "    frames_to_consider = [5, 10, 15, 25]\n",
        "\n",
        "    for action in actions:\n",
        "\n",
        "\n",
        "      running_loss = 0\n",
        "      n = 0\n",
        "      dataset_test = datasets.Datasets(path,input_n,output_n,skip_rate, split=2,actions=[action])\n",
        "      #print('>>> test action for sequences: {:d}'.format(dataset_test.__len__()))\n",
        "\n",
        "      test_loader = DataLoader(dataset_test, batch_size=batch_size_test, shuffle=False, num_workers=0, pin_memory=True)\n",
        "\n",
        "      for cnt,batch in enumerate(test_loader):\n",
        "        with torch.no_grad():\n",
        "\n",
        "          batch = batch.to(device)\n",
        "          batch_dim = batch.shape[0]\n",
        "          n += batch_dim\n",
        "\n",
        "          all_joints_seq = batch.clone()[:, input_n:input_n+output_n,:]\n",
        "\n",
        "          sequences_train=batch[:, 0:input_n, dim_used].view(-1,input_n,len(dim_used)//3,3).permute(0,3,1,2)\n",
        "          sequences_gt=batch[:, input_n:input_n+output_n, :]\n",
        "\n",
        "          running_time = time.time()\n",
        "          #sequences_predict = model(sequences_train)\n",
        "          sequences_predict = model(sequences_train).view(-1, output_n, joints_to_consider, 3)\n",
        "\n",
        "          totalll += time.time()-running_time\n",
        "          counter += 1\n",
        "          sequences_predict=sequences_predict.contiguous().view(-1,output_n,len(dim_used))\n",
        "\n",
        "          all_joints_seq[:,:,dim_used] = sequences_predict\n",
        "\n",
        "          all_joints_seq[:,:,index_to_ignore] = all_joints_seq[:,:,index_to_equal]\n",
        "\n",
        "          # Insert your code below.\n",
        "          # The function mpjpe_per_frame should return the loss for each frame in the sequence.\n",
        "          # (e.g. a dictionary with keys the frames and values the loss for each frame)\n",
        "          # Keep a tab of the running loss for each frame and the number of frames in the sequence.\n",
        "\n",
        "          frames_to_consider = [5, 10, 15, 25]\n",
        "\n",
        "          dict_loss = mpjpe_per_frame(all_joints_seq.view(-1, output_n, 32, 3),\n",
        "                                      sequences_gt.view(-1, output_n, 32, 3),\n",
        "                                      frames_to_consider)\n",
        "\n",
        "          loss = sum(dict_loss.values()) / n\n",
        "\n",
        "          running_loss += loss\n",
        "\n",
        "      # Insert your code below.\n",
        "      # Average the loss over all the frames in the sequence and print the results.\n",
        "\n",
        "      accum_loss +=running_loss\n",
        "\n",
        "      print(str(action),': ', str(np.round((running_loss/n).item(),1)))\n",
        "      n_batches+=n\n",
        "\n",
        "    print('\\nAverage: '+str(np.round((accum_loss/n_batches).item(),1)))\n",
        "    print('Prediction time: ', np.round(totalll/counter, 5))\n"
      ]
    },
    {
      "cell_type": "code",
      "execution_count": 31,
      "metadata": {
        "id": "U9sky2L9BXrj",
        "outputId": "9985cb13-425b-4648-fad3-34fd48212111",
        "colab": {
          "base_uri": "https://localhost:8080/"
        }
      },
      "outputs": [
        {
          "output_type": "stream",
          "name": "stdout",
          "text": [
            "\n",
            " ...model loaded \n",
            "\n",
            "walking :  7.9\n",
            "eating :  8.0\n",
            "smoking :  7.3\n",
            "discussion :  11.8\n",
            "directions :  9.2\n",
            "greeting :  11.0\n",
            "phoning :  9.8\n",
            "posing :  15.5\n",
            "purchases :  14.0\n",
            "sitting :  10.9\n",
            "sittingdown :  12.3\n",
            "takingphoto :  9.9\n",
            "waiting :  10.7\n",
            "walkingdog :  15.4\n",
            "walkingtogether :  7.5\n",
            "\n",
            "Average: 10.8\n",
            "Prediction time:  0.0099\n"
          ]
        }
      ],
      "source": [
        "# Insert your code below where you want to load the model and test it.\n",
        "# You need to specify the path to the model checkpoint file and call the test function.\n",
        "\n",
        "ckpt_path = f'./checkpoints/h36m_3d_25frames_ckpt_epoch_{35}.pt'\n",
        "test_per_frame(ckpt_path)"
      ]
    },
    {
      "cell_type": "markdown",
      "metadata": {
        "id": "sVcNnOJMBXrk"
      },
      "source": [
        "## Iterative Mechanism (**3 Points**)"
      ]
    },
    {
      "cell_type": "markdown",
      "metadata": {
        "id": "NSSW3wgYBXrk"
      },
      "source": [
        "In this exercise, you will explore the concept of an iterative mechanism and its adaptability when the model's output length changes. You will start with a model designed to produce 25 output frames but adapt it to generate only 10. The exercise will involve modifying and re-training the model for the new output length. During test time, the model will generate 10 frames and then use them as input to generate the successive 10 frames, and so on, until the desired number of frames is reached. In this case, you are asked to generate 25 frames.\n",
        "\n",
        "The steps are as follows:\n",
        "- Change the model's output length from 25 to 10.\n",
        "- Re-train the model.\n",
        "- Rewrite the test function to generate 25 frames using the iterative mechanism.\n",
        "- Generate a new report and compare the results to the baseline model."
      ]
    },
    {
      "cell_type": "code",
      "execution_count": 32,
      "metadata": {
        "id": "Bas-0-OHBXrk"
      },
      "outputs": [],
      "source": [
        "# # Arguments to setup the datasets\n",
        "\n",
        "datas = 'h36m'           # dataset name\n",
        "path = './data/h3.6m/h3.6m/dataset'\n",
        "input_n = 10             # number of frames to train on (default=10)\n",
        "\n",
        "# Insert your code below\n",
        "\n",
        "output_n = 10            # number of frames to predict on\n",
        "\n",
        "input_dim = 3            # dimensions of the input coordinates(default=3)\n",
        "skip_rate = 1            # skip rate of frames\n",
        "joints_to_consider = 22\n",
        "\n",
        "#FLAGS FOR THE TRAINING\n",
        "mode = 'train'           #choose either train or test mode\n",
        "\n",
        "batch_size_test = 8\n",
        "model_path_iterative = './checkpoints_iterative/' # path to the model checkpoint file\n",
        "\n",
        "actions_to_consider_test = 'all' # actions to test on.\n",
        "model_name = datas+'_3d_'+str(output_n)+'frames_ckpt' #the model name to save/load\n",
        "\n",
        "#FLAGS FOR THE VISUALIZATION\n",
        "actions_to_consider_viz = 'all' # actions to visualize\n",
        "visualize_from = 'test'\n",
        "n_viz = 2\n"
      ]
    },
    {
      "cell_type": "code",
      "execution_count": 33,
      "metadata": {
        "id": "hMoSKaitBXrl",
        "colab": {
          "base_uri": "https://localhost:8080/"
        },
        "outputId": "5ef3bb5c-bdc8-4741-ee28-b82b7b9b95d8"
      },
      "outputs": [
        {
          "output_type": "stream",
          "name": "stdout",
          "text": [
            "Loading Train Dataset...\n",
            "Loading Validation Dataset...\n"
          ]
        }
      ],
      "source": [
        "# Load Data\n",
        "print('Loading Train Dataset...')\n",
        "dataset = datasets.Datasets(path,input_n,output_n,skip_rate, split=0)\n",
        "print('Loading Validation Dataset...')\n",
        "vald_dataset = datasets.Datasets(path,input_n,output_n,skip_rate, split=1)\n",
        "\n",
        "#! Note: Ignore warning:  \"VisibleDeprecationWarning: Creating an ndarray from ragged nested sequences\""
      ]
    },
    {
      "cell_type": "code",
      "execution_count": 34,
      "metadata": {
        "id": "aRFyVcL9BXrl",
        "colab": {
          "base_uri": "https://localhost:8080/"
        },
        "outputId": "d18db597-d47e-4faf-8c63-87837241c0b2"
      },
      "outputs": [
        {
          "output_type": "stream",
          "name": "stdout",
          "text": [
            ">>> Training dataset length: 182327\n",
            ">>> Validation dataset length: 28560\n"
          ]
        }
      ],
      "source": [
        "batch_size=256\n",
        "\n",
        "print('>>> Training dataset length: {:d}'.format(dataset.__len__()))\n",
        "data_loader = DataLoader(dataset, batch_size=batch_size, shuffle=True, num_workers=0, pin_memory=True)#\n",
        "\n",
        "print('>>> Validation dataset length: {:d}'.format(vald_dataset.__len__()))\n",
        "vald_loader = DataLoader(vald_dataset, batch_size=batch_size, shuffle=True, num_workers=0, pin_memory=True)"
      ]
    },
    {
      "cell_type": "code",
      "execution_count": 39,
      "metadata": {
        "id": "_7OAb9s6BXrl",
        "colab": {
          "base_uri": "https://localhost:8080/"
        },
        "outputId": "7f412de7-d8f9-4f4d-e783-439062af2fe3"
      },
      "outputs": [
        {
          "output_type": "stream",
          "name": "stdout",
          "text": [
            "Using device: cuda\n",
            "total number of parameters of the network is: 26694\n"
          ]
        }
      ],
      "source": [
        "device = torch.device('cuda' if torch.cuda.is_available() else 'cpu')\n",
        "print('Using device: %s'%device)\n",
        "\n",
        "n_heads = 1\n",
        "\n",
        "model = Model(num_joints=joints_to_consider,\n",
        "                 num_frames=input_n, num_frames_out=output_n, num_heads=n_heads,\n",
        "                 num_channels=3, kernel_size=[3,3], use_pes=True).to(device)\n",
        "\n",
        "print('total number of parameters of the network is: '+str(sum(p.numel() for p in model.parameters() if p.requires_grad)))"
      ]
    },
    {
      "cell_type": "code",
      "execution_count": 40,
      "metadata": {
        "id": "aYdpdrcmBXrl"
      },
      "outputs": [],
      "source": [
        "# Arguments to setup the optimizer\n",
        "\n",
        "lr=1e-01                 # learning rate\n",
        "use_scheduler=True       # use MultiStepLR scheduler\n",
        "milestones=[10,30]       # the epochs after which the learning rate is adjusted by gamma\n",
        "gamma=0.1                # gamma correction to the learning rate, after reaching the milestone epochs\n",
        "weight_decay=1e-05       # weight decay (L2 penalty)\n",
        "\n",
        "optimizer=optim.Adam(model.parameters(),lr=lr,weight_decay=weight_decay)\n",
        "\n",
        "if use_scheduler:\n",
        "    scheduler = optim.lr_scheduler.MultiStepLR(optimizer, milestones=milestones, gamma=gamma)\n",
        "\n",
        "clip_grad=None # select max norm to clip gradients\n",
        "\n",
        "# Argument for training\n",
        "n_epochs = 41\n",
        "log_step = 200"
      ]
    },
    {
      "cell_type": "markdown",
      "metadata": {
        "id": "W3_T38zzBXrm"
      },
      "source": [
        "### Train and Validation Loop"
      ]
    },
    {
      "cell_type": "code",
      "execution_count": null,
      "metadata": {
        "id": "EaiHzL3lBXrm",
        "colab": {
          "base_uri": "https://localhost:8080/",
          "height": 473
        },
        "outputId": "0aa96fb5-7dca-4869-fd92-28b45a01475e"
      },
      "outputs": [
        {
          "output_type": "stream",
          "name": "stdout",
          "text": [
            "[Epoch: 1, Iteration:     1]  validation loss: 67.163\n",
            "[Epoch: 2, Iteration:     1]  validation loss: 61.973\n",
            "[Epoch: 3, Iteration:     1]  validation loss: 59.152\n",
            "[Epoch: 4, Iteration:     1]  validation loss: 63.206\n",
            "[Epoch: 5, Iteration:     1]  validation loss: 61.844\n"
          ]
        },
        {
          "output_type": "display_data",
          "data": {
            "text/plain": [
              "<Figure size 500x200 with 1 Axes>"
            ],
            "image/png": "[encoded data removed]"
          },
          "metadata": {}
        },
        {
          "output_type": "stream",
          "name": "stdout",
          "text": [
            "[Epoch: 6, Iteration:     1]  validation loss: 60.169\n",
            "[Epoch: 7, Iteration:     1]  validation loss: 50.665\n",
            "[Epoch: 8, Iteration:     1]  validation loss: 49.644\n",
            "[Epoch: 9, Iteration:     1]  validation loss: 49.217\n"
          ]
        }
      ],
      "source": [
        "# Save the model and plot the loss.\n",
        "# Change to True if you want to save the model and plot the loss\n",
        "save_and_plot = True\n",
        "\n",
        "# launch training with the new output_n\n",
        "train(data_loader, vald_loader, path_to_save_model=model_path_iterative)"
      ]
    },
    {
      "cell_type": "markdown",
      "metadata": {
        "id": "Flw5562hBXrm"
      },
      "source": [
        "### Test Loop"
      ]
    },
    {
      "cell_type": "code",
      "execution_count": null,
      "metadata": {
        "id": "0yi1JCPdBXrm"
      },
      "outputs": [],
      "source": [
        "def test(ckpt_path=None):\n",
        "    model.load_state_dict(torch.load(ckpt_path))\n",
        "    print('...model loaded \\n')\n",
        "    model.eval()\n",
        "    accum_loss=0\n",
        "    n_batches=0 # number of batches for all the sequences\n",
        "    actions=define_actions(actions_to_consider_test)\n",
        "    dim_used = np.array([6, 7, 8, 9, 10, 11, 12, 13, 14, 15, 16, 17, 21, 22, 23, 24, 25,\n",
        "                      26, 27, 28, 29, 30, 31, 32, 36, 37, 38, 39, 40, 41, 42, 43, 44, 45,\n",
        "                      46, 47, 51, 52, 53, 54, 55, 56, 57, 58, 59, 63, 64, 65, 66, 67, 68,\n",
        "                      75, 76, 77, 78, 79, 80, 81, 82, 83, 87, 88, 89, 90, 91, 92])\n",
        "\n",
        "    # joints at same loc\n",
        "    joint_to_ignore = np.array([16, 20, 23, 24, 28, 31])\n",
        "    index_to_ignore = np.concatenate((joint_to_ignore * 3, joint_to_ignore * 3 + 1, joint_to_ignore * 3 + 2))\n",
        "    joint_equal = np.array([13, 19, 22, 13, 27, 30])\n",
        "    index_to_equal = np.concatenate((joint_equal * 3, joint_equal * 3 + 1, joint_equal * 3 + 2))\n",
        "    totalll=0\n",
        "    counter=0\n",
        "    for action in actions:\n",
        "\n",
        "      running_loss=0\n",
        "      n=0\n",
        "      dataset_test = datasets.Datasets(path,input_n,35, skip_rate, split=2,actions=[action])\n",
        "\n",
        "      test_loader = DataLoader(dataset_test, batch_size=batch_size_test, shuffle=False, num_workers=0, pin_memory=True)\n",
        "      for cnt,batch in enumerate(test_loader):\n",
        "        with torch.no_grad():\n",
        "\n",
        "          batch=batch.to(device)\n",
        "          batch_dim=batch.shape[0]\n",
        "          n+=batch_dim\n",
        "\n",
        "          all_joints_seq=batch.clone()[:, input_n:input_n+output_n+15,:]\n",
        "          running_time = time.time()\n",
        "          sequences_train=batch[:, 0:input_n, dim_used].view(-1,input_n,len(dim_used)//3,3).permute(0,3,1,2)\n",
        "          sequences_gt=batch[:, input_n:input_n+output_n+15, :]\n",
        "\n",
        "          sequences_predict = model(sequences_train).view(-1, output_n, joints_to_consider, 3)\n",
        "          #sequences_predict = model(sequences_train)\n",
        "\n",
        "          # Insert your code below. You will need to iteratively predict the next frames\n",
        "          # and feed it to back to the model until you reach the desired number of frames.\n",
        "\n",
        "          input_frames = sequences_predict[:, -10:, :, :].permute(0,3,1,2)\n",
        "          new_frames = model(input_frames).view(-1, output_n, joints_to_consider, 3)\n",
        "          sequences_predict = torch.cat((sequences_predict, new_frames), dim=1)\n",
        "\n",
        "          input_frames = sequences_predict[:, -10:, :, :].permute(0,3,1,2)\n",
        "          new_frames = model(input_frames).view(-1, output_n, joints_to_consider, 3)\n",
        "          sequences_predict = torch.cat((sequences_predict, new_frames), dim=1)\n",
        "\n",
        "          sequences_predict = sequences_predict[:, :-5, :, :]\n",
        "          sequences_predict=sequences_predict.contiguous().view(-1,25,len(dim_used))\n",
        "\n",
        "          all_joints_seq[:,:,dim_used] = sequences_predict\n",
        "          all_joints_seq[:,:,index_to_ignore] = all_joints_seq[:,:,index_to_equal]\n",
        "\n",
        "          loss= mpjpe_error(all_joints_seq.view(-1,25,32,3),sequences_gt.view(-1,25,32,3))\n",
        "\n",
        "          totalll += time.time()-running_time\n",
        "          counter += 1\n",
        "\n",
        "          running_loss+=loss*batch_dim\n",
        "          accum_loss+=loss*batch_dim\n",
        "\n",
        "      print(str(action),': ', str(np.round((running_loss/n).item(),1)))\n",
        "      n_batches+=n\n",
        "\n",
        "    print('\\nAverage: '+str(np.round((accum_loss/n_batches).item(),1)))\n",
        "    print('Prediction time: ', totalll/counter)\n"
      ]
    },
    {
      "cell_type": "code",
      "execution_count": null,
      "metadata": {
        "id": "nbwZQr2PBXrn"
      },
      "outputs": [],
      "source": [
        "# Insert your code below where you want to load the model and test it.\n",
        "# You need to specify the path to the model checkpoint file and call the test function.\n",
        "\n",
        "ckpt_path = model_path_iterative + model_name + f\"_epoch_{35}.pt\"\n",
        "test(ckpt_path = ckpt_path )"
      ]
    },
    {
      "cell_type": "markdown",
      "metadata": {
        "id": "ceuqVt5HBXrn"
      },
      "source": [
        "## YOUR custom model (**3 Points**)\n",
        " In this exercise, you will implement a Transformer-like network (based on the Theory notebook) for this specific task. You can use the Transformer's Encoder and implement your own Decoder to predict future poses. (e.g. RNN, MLP, CNN, TCN, ...).\n",
        " We won't provide any code for this exercise, but you can use the code provided in the Theory notebook as a starting point.\n",
        " The goal of this exercise is not to beat the previous model but to understand how to implement a Transformer network for this specific task. For this reason, the evaluation will be based on the code you write and the explanation you provide in the report rather than the results.\n",
        "\n",
        "\n",
        "### Performance BONUS (**Up to 2 Points**)\n",
        "- **1 Bonus Point** if the model achieves an A-MPJPE between 80 and 90 millimeters.\n",
        "- **2 Bonus Points** if the model achieves an A-MPJPE between 70 and 80 millimeters.\n"
      ]
    },
    {
      "cell_type": "code",
      "execution_count": null,
      "metadata": {
        "id": "1dxldHMmBXro"
      },
      "outputs": [],
      "source": [
        "# Input Shape: [batch_size, input_time, joints, 3]\n",
        "#\n",
        "# Encoder:\n",
        "# Input shape: [batch_size, input_time, joints, 3]\n",
        "# Output shape: [batch_size, input_time/output_time, joints, FREE]\n",
        "#\n",
        "# # Decoder:\n",
        "# Input shape: [batch_size, input_time/output_time, joints, FREE]\n",
        "# Output shape: [batch_size, output_time, joints, 3]\n",
        "#\n",
        "#\n",
        "# Hint: Transformers often take an input of shape [batch_size, time, joints*channels],\n",
        "# use the reshape or view function to match the dimensionality."
      ]
    },
    {
      "cell_type": "code",
      "source": [
        "from transformer import Transformer, subsequent_mask, transformer_inputs, train"
      ],
      "metadata": {
        "id": "s89gxiIn0_R8"
      },
      "execution_count": null,
      "outputs": []
    },
    {
      "cell_type": "code",
      "source": [
        "input_n = 10                           # number of frames to train on (default=10)\n",
        "output_n = 25                          # number of frames to predict on\n",
        "skip_rate = 1                          # skip rate of frames\n",
        "batch_size=256\n",
        "path = './data/h3.6m/h3.6m/dataset'\n",
        "c_model_path = './checkpoints_transformer/'          # path to the model checkpoint file\n",
        "\n",
        "print('Loading Train Dataset...')\n",
        "dataset = datasets.Datasets(path,input_n,output_n,skip_rate, split=0)\n",
        "\n",
        "print('Loading Validation Dataset...\\n')\n",
        "vald_dataset = datasets.Datasets(path,input_n,output_n,skip_rate, split=1)\n",
        "\n",
        "print('>>> Training dataset length: {:d}'.format(dataset.__len__()))\n",
        "data_loader = DataLoader(dataset, batch_size=batch_size, shuffle=True, num_workers=0, pin_memory=True)#\n",
        "\n",
        "print('>>> Validation dataset length: {:d}'.format(vald_dataset.__len__()))\n",
        "vald_loader = DataLoader(vald_dataset, batch_size=batch_size, shuffle=True, num_workers=0, pin_memory=True)"
      ],
      "metadata": {
        "id": "31AsjzP_1p4H"
      },
      "execution_count": null,
      "outputs": []
    },
    {
      "cell_type": "code",
      "source": [
        "torch.manual_seed(0)\n",
        "\n",
        "num_heads = 4\n",
        "d_model = 512\n",
        "dim_feedforward = 1024\n",
        "dropout = 0.5\n",
        "coder_blocks = 3\n",
        "\n",
        "tf = Transformer(enc_inp_size = 33, dec_inp_size=34, dec_out_size=66, N=coder_blocks,\n",
        "                 d_model=d_model, dim_feedforward=dim_feedforward,\n",
        "                 num_heads=num_heads, dropout=dropout).to(device)"
      ],
      "metadata": {
        "id": "nTZsVKNQ1D9m"
      },
      "execution_count": null,
      "outputs": []
    },
    {
      "cell_type": "code",
      "source": [
        "# Arguments to setup the optimizer\n",
        "\n",
        "lr = 1e-03                   # learning rate\n",
        "use_scheduler = True         # use MultiStepLR scheduler\n",
        "milestones = [10, 30]        # the epochs after which the learning rate is adjusted by gamma\n",
        "gamma = 0.90                 # gamma correction to the learning rate, after reaching the milestone epochs\n",
        "weight_decay = 1e-05         # weight decay (L2 penalty)\n",
        "\n",
        "optimizer = optim.Adam(tf.parameters(), lr = lr, weight_decay = weight_decay)\n",
        "\n",
        "if use_scheduler:\n",
        "    scheduler = optim.lr_scheduler.MultiStepLR(optimizer, milestones=milestones, gamma=gamma)\n",
        "\n",
        "train(data_loader,vald_loader, 7, tf, scheduler, optimizer, device, c_model_path)"
      ],
      "metadata": {
        "id": "uIJJW6ps1Kht"
      },
      "execution_count": null,
      "outputs": []
    },
    {
      "cell_type": "code",
      "source": [],
      "metadata": {
        "id": "7-kYyeZwEdvv"
      },
      "execution_count": null,
      "outputs": []
    }
  ],
  "metadata": {
    "colab": {
      "provenance": [],
      "gpuType": "T4",
      "include_colab_link": true
    },
    "kernelspec": {
      "display_name": "Python 3",
      "name": "python3"
    },
    "language_info": {
      "codemirror_mode": {
        "name": "ipython",
        "version": 3
      },
      "file_extension": ".py",
      "mimetype": "text/x-python",
      "name": "python",
      "nbconvert_exporter": "python",
      "pygments_lexer": "ipython3",
      "version": "3.8.5"
    },
    "vscode": {
      "interpreter": {
        "hash": "ad2bdc8ecc057115af97d19610ffacc2b4e99fae6737bb82f5d7fb13d2f2c186"
      }
    },
    "accelerator": "GPU",
    "widgets": {
      "application/vnd.jupyter.widget-state+json": {
        "652b2c1e922a4da586e8ab9634a7fe26": {
          "model_module": "@jupyter-widgets/controls",
          "model_name": "HBoxModel",
          "model_module_version": "1.5.0",
          "state": {
            "_dom_classes": [],
            "_model_module": "@jupyter-widgets/controls",
            "_model_module_version": "1.5.0",
            "_model_name": "HBoxModel",
            "_view_count": null,
            "_view_module": "@jupyter-widgets/controls",
            "_view_module_version": "1.5.0",
            "_view_name": "HBoxView",
            "box_style": "",
            "children": [
              "IPY_MODEL_97c9b3a0be494455a980708b4a4cdda9",
              "IPY_MODEL_bc8352e8e9994aa6a7105ea8842992e3",
              "IPY_MODEL_7b7eccc0100f473e8587802374e0d39a"
            ],
            "layout": "IPY_MODEL_b36078025cb84257bed7414e56395b35"
          }
        },
        "97c9b3a0be494455a980708b4a4cdda9": {
          "model_module": "@jupyter-widgets/controls",
          "model_name": "HTMLModel",
          "model_module_version": "1.5.0",
          "state": {
            "_dom_classes": [],
            "_model_module": "@jupyter-widgets/controls",
            "_model_module_version": "1.5.0",
            "_model_name": "HTMLModel",
            "_view_count": null,
            "_view_module": "@jupyter-widgets/controls",
            "_view_module_version": "1.5.0",
            "_view_name": "HTMLView",
            "description": "",
            "description_tooltip": null,
            "layout": "IPY_MODEL_4b8e46d06f5547a891841273794cd88a",
            "placeholder": "​",
            "style": "IPY_MODEL_082ca19343ed48a785b89b24613df3aa",
            "value": "100%"
          }
        },
        "bc8352e8e9994aa6a7105ea8842992e3": {
          "model_module": "@jupyter-widgets/controls",
          "model_name": "FloatProgressModel",
          "model_module_version": "1.5.0",
          "state": {
            "_dom_classes": [],
            "_model_module": "@jupyter-widgets/controls",
            "_model_module_version": "1.5.0",
            "_model_name": "FloatProgressModel",
            "_view_count": null,
            "_view_module": "@jupyter-widgets/controls",
            "_view_module_version": "1.5.0",
            "_view_name": "ProgressView",
            "bar_style": "success",
            "description": "",
            "description_tooltip": null,
            "layout": "IPY_MODEL_c13008cf5e1b4d71b949566922de0673",
            "max": 15,
            "min": 0,
            "orientation": "horizontal",
            "style": "IPY_MODEL_76ba5c177ba34a7e9922c084005bc8d2",
            "value": 15
          }
        },
        "7b7eccc0100f473e8587802374e0d39a": {
          "model_module": "@jupyter-widgets/controls",
          "model_name": "HTMLModel",
          "model_module_version": "1.5.0",
          "state": {
            "_dom_classes": [],
            "_model_module": "@jupyter-widgets/controls",
            "_model_module_version": "1.5.0",
            "_model_name": "HTMLModel",
            "_view_count": null,
            "_view_module": "@jupyter-widgets/controls",
            "_view_module_version": "1.5.0",
            "_view_name": "HTMLView",
            "description": "",
            "description_tooltip": null,
            "layout": "IPY_MODEL_11ae74e1cdd1489191592f062914ce1d",
            "placeholder": "​",
            "style": "IPY_MODEL_9540e79b84c444f696072a1ace1450b4",
            "value": " 15/15 [01:53&lt;00:00,  7.61s/it]"
          }
        },
        "b36078025cb84257bed7414e56395b35": {
          "model_module": "@jupyter-widgets/base",
          "model_name": "LayoutModel",
          "model_module_version": "1.2.0",
          "state": {
            "_model_module": "@jupyter-widgets/base",
            "_model_module_version": "1.2.0",
            "_model_name": "LayoutModel",
            "_view_count": null,
            "_view_module": "@jupyter-widgets/base",
            "_view_module_version": "1.2.0",
            "_view_name": "LayoutView",
            "align_content": null,
            "align_items": null,
            "align_self": null,
            "border": null,
            "bottom": null,
            "display": null,
            "flex": null,
            "flex_flow": null,
            "grid_area": null,
            "grid_auto_columns": null,
            "grid_auto_flow": null,
            "grid_auto_rows": null,
            "grid_column": null,
            "grid_gap": null,
            "grid_row": null,
            "grid_template_areas": null,
            "grid_template_columns": null,
            "grid_template_rows": null,
            "height": null,
            "justify_content": null,
            "justify_items": null,
            "left": null,
            "margin": null,
            "max_height": null,
            "max_width": null,
            "min_height": null,
            "min_width": null,
            "object_fit": null,
            "object_position": null,
            "order": null,
            "overflow": null,
            "overflow_x": null,
            "overflow_y": null,
            "padding": null,
            "right": null,
            "top": null,
            "visibility": null,
            "width": null
          }
        },
        "4b8e46d06f5547a891841273794cd88a": {
          "model_module": "@jupyter-widgets/base",
          "model_name": "LayoutModel",
          "model_module_version": "1.2.0",
          "state": {
            "_model_module": "@jupyter-widgets/base",
            "_model_module_version": "1.2.0",
            "_model_name": "LayoutModel",
            "_view_count": null,
            "_view_module": "@jupyter-widgets/base",
            "_view_module_version": "1.2.0",
            "_view_name": "LayoutView",
            "align_content": null,
            "align_items": null,
            "align_self": null,
            "border": null,
            "bottom": null,
            "display": null,
            "flex": null,
            "flex_flow": null,
            "grid_area": null,
            "grid_auto_columns": null,
            "grid_auto_flow": null,
            "grid_auto_rows": null,
            "grid_column": null,
            "grid_gap": null,
            "grid_row": null,
            "grid_template_areas": null,
            "grid_template_columns": null,
            "grid_template_rows": null,
            "height": null,
            "justify_content": null,
            "justify_items": null,
            "left": null,
            "margin": null,
            "max_height": null,
            "max_width": null,
            "min_height": null,
            "min_width": null,
            "object_fit": null,
            "object_position": null,
            "order": null,
            "overflow": null,
            "overflow_x": null,
            "overflow_y": null,
            "padding": null,
            "right": null,
            "top": null,
            "visibility": null,
            "width": null
          }
        },
        "082ca19343ed48a785b89b24613df3aa": {
          "model_module": "@jupyter-widgets/controls",
          "model_name": "DescriptionStyleModel",
          "model_module_version": "1.5.0",
          "state": {
            "_model_module": "@jupyter-widgets/controls",
            "_model_module_version": "1.5.0",
            "_model_name": "DescriptionStyleModel",
            "_view_count": null,
            "_view_module": "@jupyter-widgets/base",
            "_view_module_version": "1.2.0",
            "_view_name": "StyleView",
            "description_width": ""
          }
        },
        "c13008cf5e1b4d71b949566922de0673": {
          "model_module": "@jupyter-widgets/base",
          "model_name": "LayoutModel",
          "model_module_version": "1.2.0",
          "state": {
            "_model_module": "@jupyter-widgets/base",
            "_model_module_version": "1.2.0",
            "_model_name": "LayoutModel",
            "_view_count": null,
            "_view_module": "@jupyter-widgets/base",
            "_view_module_version": "1.2.0",
            "_view_name": "LayoutView",
            "align_content": null,
            "align_items": null,
            "align_self": null,
            "border": null,
            "bottom": null,
            "display": null,
            "flex": null,
            "flex_flow": null,
            "grid_area": null,
            "grid_auto_columns": null,
            "grid_auto_flow": null,
            "grid_auto_rows": null,
            "grid_column": null,
            "grid_gap": null,
            "grid_row": null,
            "grid_template_areas": null,
            "grid_template_columns": null,
            "grid_template_rows": null,
            "height": null,
            "justify_content": null,
            "justify_items": null,
            "left": null,
            "margin": null,
            "max_height": null,
            "max_width": null,
            "min_height": null,
            "min_width": null,
            "object_fit": null,
            "object_position": null,
            "order": null,
            "overflow": null,
            "overflow_x": null,
            "overflow_y": null,
            "padding": null,
            "right": null,
            "top": null,
            "visibility": null,
            "width": null
          }
        },
        "76ba5c177ba34a7e9922c084005bc8d2": {
          "model_module": "@jupyter-widgets/controls",
          "model_name": "ProgressStyleModel",
          "model_module_version": "1.5.0",
          "state": {
            "_model_module": "@jupyter-widgets/controls",
            "_model_module_version": "1.5.0",
            "_model_name": "ProgressStyleModel",
            "_view_count": null,
            "_view_module": "@jupyter-widgets/base",
            "_view_module_version": "1.2.0",
            "_view_name": "StyleView",
            "bar_color": null,
            "description_width": ""
          }
        },
        "11ae74e1cdd1489191592f062914ce1d": {
          "model_module": "@jupyter-widgets/base",
          "model_name": "LayoutModel",
          "model_module_version": "1.2.0",
          "state": {
            "_model_module": "@jupyter-widgets/base",
            "_model_module_version": "1.2.0",
            "_model_name": "LayoutModel",
            "_view_count": null,
            "_view_module": "@jupyter-widgets/base",
            "_view_module_version": "1.2.0",
            "_view_name": "LayoutView",
            "align_content": null,
            "align_items": null,
            "align_self": null,
            "border": null,
            "bottom": null,
            "display": null,
            "flex": null,
            "flex_flow": null,
            "grid_area": null,
            "grid_auto_columns": null,
            "grid_auto_flow": null,
            "grid_auto_rows": null,
            "grid_column": null,
            "grid_gap": null,
            "grid_row": null,
            "grid_template_areas": null,
            "grid_template_columns": null,
            "grid_template_rows": null,
            "height": null,
            "justify_content": null,
            "justify_items": null,
            "left": null,
            "margin": null,
            "max_height": null,
            "max_width": null,
            "min_height": null,
            "min_width": null,
            "object_fit": null,
            "object_position": null,
            "order": null,
            "overflow": null,
            "overflow_x": null,
            "overflow_y": null,
            "padding": null,
            "right": null,
            "top": null,
            "visibility": null,
            "width": null
          }
        },
        "9540e79b84c444f696072a1ace1450b4": {
          "model_module": "@jupyter-widgets/controls",
          "model_name": "DescriptionStyleModel",
          "model_module_version": "1.5.0",
          "state": {
            "_model_module": "@jupyter-widgets/controls",
            "_model_module_version": "1.5.0",
            "_model_name": "DescriptionStyleModel",
            "_view_count": null,
            "_view_module": "@jupyter-widgets/base",
            "_view_module_version": "1.2.0",
            "_view_name": "StyleView",
            "description_width": ""
          }
        }
      }
    }
  },
  "nbformat": 4,
  "nbformat_minor": 0
}